{
 "cells": [
  {
   "cell_type": "markdown",
   "metadata": {},
   "source": [
    "#                             Beer Analysis 5 Question Quiz"
   ]
  },
  {
   "cell_type": "code",
   "execution_count": 1,
   "metadata": {},
   "outputs": [],
   "source": [
    "# import packages to be used for data analysis\n",
    "import pandas as pd\n",
    "import numpy as np\n",
    "import matplotlib.pyplot as plt\n",
    "%matplotlib inline\n",
    "import seaborn as sns\n",
    "from scipy.stats import zscore\n",
    "from mpl_toolkits.mplot3d import Axes3D\n",
    "sns.set()\n",
    "from warnings import simplefilter\n",
    "simplefilter(action='ignore')"
   ]
  },
  {
   "cell_type": "code",
   "execution_count": 2,
   "metadata": {},
   "outputs": [],
   "source": [
    "# read in dataset into pandas\n",
    "df = pd.read_csv('BeerDataScienceProject.csv', encoding = 'ISO-8859-1')"
   ]
  },
  {
   "cell_type": "code",
   "execution_count": 3,
   "metadata": {},
   "outputs": [],
   "source": [
    "# create copy if needed for data exploration and data visualization\n",
    "df1 = df.copy()"
   ]
  },
  {
   "cell_type": "code",
   "execution_count": 4,
   "metadata": {},
   "outputs": [
    {
     "data": {
      "text/html": [
       "<div>\n",
       "<style scoped>\n",
       "    .dataframe tbody tr th:only-of-type {\n",
       "        vertical-align: middle;\n",
       "    }\n",
       "\n",
       "    .dataframe tbody tr th {\n",
       "        vertical-align: top;\n",
       "    }\n",
       "\n",
       "    .dataframe thead th {\n",
       "        text-align: right;\n",
       "    }\n",
       "</style>\n",
       "<table border=\"1\" class=\"dataframe\">\n",
       "  <thead>\n",
       "    <tr style=\"text-align: right;\">\n",
       "      <th></th>\n",
       "      <th>beer_ABV</th>\n",
       "      <th>beer_beerId</th>\n",
       "      <th>beer_brewerId</th>\n",
       "      <th>beer_name</th>\n",
       "      <th>beer_style</th>\n",
       "      <th>review_appearance</th>\n",
       "      <th>review_palette</th>\n",
       "      <th>review_overall</th>\n",
       "      <th>review_taste</th>\n",
       "      <th>review_profileName</th>\n",
       "      <th>review_aroma</th>\n",
       "      <th>review_text</th>\n",
       "      <th>review_time</th>\n",
       "    </tr>\n",
       "  </thead>\n",
       "  <tbody>\n",
       "    <tr>\n",
       "      <th>0</th>\n",
       "      <td>5.0</td>\n",
       "      <td>47986</td>\n",
       "      <td>10325</td>\n",
       "      <td>Sausa Weizen</td>\n",
       "      <td>Hefeweizen</td>\n",
       "      <td>2.5</td>\n",
       "      <td>2.0</td>\n",
       "      <td>1.5</td>\n",
       "      <td>1.5</td>\n",
       "      <td>stcules</td>\n",
       "      <td>1.5</td>\n",
       "      <td>A lot of foam. But a lot. In the smell some ba...</td>\n",
       "      <td>1234817823</td>\n",
       "    </tr>\n",
       "    <tr>\n",
       "      <th>1</th>\n",
       "      <td>6.2</td>\n",
       "      <td>48213</td>\n",
       "      <td>10325</td>\n",
       "      <td>Red Moon</td>\n",
       "      <td>English Strong Ale</td>\n",
       "      <td>3.0</td>\n",
       "      <td>2.5</td>\n",
       "      <td>3.0</td>\n",
       "      <td>3.0</td>\n",
       "      <td>stcules</td>\n",
       "      <td>3.0</td>\n",
       "      <td>Dark red color, light beige foam, average. In ...</td>\n",
       "      <td>1235915097</td>\n",
       "    </tr>\n",
       "    <tr>\n",
       "      <th>2</th>\n",
       "      <td>6.5</td>\n",
       "      <td>48215</td>\n",
       "      <td>10325</td>\n",
       "      <td>Black Horse Black Beer</td>\n",
       "      <td>Foreign / Export Stout</td>\n",
       "      <td>3.0</td>\n",
       "      <td>2.5</td>\n",
       "      <td>3.0</td>\n",
       "      <td>3.0</td>\n",
       "      <td>stcules</td>\n",
       "      <td>3.0</td>\n",
       "      <td>Almost totally black. Beige foam, quite compac...</td>\n",
       "      <td>1235916604</td>\n",
       "    </tr>\n",
       "    <tr>\n",
       "      <th>3</th>\n",
       "      <td>5.0</td>\n",
       "      <td>47969</td>\n",
       "      <td>10325</td>\n",
       "      <td>Sausa Pils</td>\n",
       "      <td>German Pilsener</td>\n",
       "      <td>3.5</td>\n",
       "      <td>3.0</td>\n",
       "      <td>3.0</td>\n",
       "      <td>2.5</td>\n",
       "      <td>stcules</td>\n",
       "      <td>3.0</td>\n",
       "      <td>Golden yellow color. White, compact foam, quit...</td>\n",
       "      <td>1234725145</td>\n",
       "    </tr>\n",
       "    <tr>\n",
       "      <th>4</th>\n",
       "      <td>7.7</td>\n",
       "      <td>64883</td>\n",
       "      <td>1075</td>\n",
       "      <td>Cauldron DIPA</td>\n",
       "      <td>American Double / Imperial IPA</td>\n",
       "      <td>4.0</td>\n",
       "      <td>4.5</td>\n",
       "      <td>4.0</td>\n",
       "      <td>4.0</td>\n",
       "      <td>johnmichaelsen</td>\n",
       "      <td>4.5</td>\n",
       "      <td>According to the website, the style for the Ca...</td>\n",
       "      <td>1293735206</td>\n",
       "    </tr>\n",
       "  </tbody>\n",
       "</table>\n",
       "</div>"
      ],
      "text/plain": [
       "   beer_ABV  beer_beerId  beer_brewerId               beer_name  \\\n",
       "0       5.0        47986          10325            Sausa Weizen   \n",
       "1       6.2        48213          10325                Red Moon   \n",
       "2       6.5        48215          10325  Black Horse Black Beer   \n",
       "3       5.0        47969          10325              Sausa Pils   \n",
       "4       7.7        64883           1075           Cauldron DIPA   \n",
       "\n",
       "                       beer_style  review_appearance  review_palette  \\\n",
       "0                      Hefeweizen                2.5             2.0   \n",
       "1              English Strong Ale                3.0             2.5   \n",
       "2          Foreign / Export Stout                3.0             2.5   \n",
       "3                 German Pilsener                3.5             3.0   \n",
       "4  American Double / Imperial IPA                4.0             4.5   \n",
       "\n",
       "   review_overall  review_taste review_profileName  review_aroma  \\\n",
       "0             1.5           1.5            stcules           1.5   \n",
       "1             3.0           3.0            stcules           3.0   \n",
       "2             3.0           3.0            stcules           3.0   \n",
       "3             3.0           2.5            stcules           3.0   \n",
       "4             4.0           4.0     johnmichaelsen           4.5   \n",
       "\n",
       "                                         review_text  review_time  \n",
       "0  A lot of foam. But a lot. In the smell some ba...   1234817823  \n",
       "1  Dark red color, light beige foam, average. In ...   1235915097  \n",
       "2  Almost totally black. Beige foam, quite compac...   1235916604  \n",
       "3  Golden yellow color. White, compact foam, quit...   1234725145  \n",
       "4  According to the website, the style for the Ca...   1293735206  "
      ]
     },
     "execution_count": 4,
     "metadata": {},
     "output_type": "execute_result"
    }
   ],
   "source": [
    "# take a look at dataframe \n",
    "df.head()"
   ]
  },
  {
   "cell_type": "code",
   "execution_count": 5,
   "metadata": {},
   "outputs": [
    {
     "name": "stdout",
     "output_type": "stream",
     "text": [
      "(528870, 13)\n"
     ]
    }
   ],
   "source": [
    "# take a look at shape\n",
    "print(df.shape)"
   ]
  },
  {
   "cell_type": "code",
   "execution_count": 6,
   "metadata": {},
   "outputs": [
    {
     "name": "stdout",
     "output_type": "stream",
     "text": [
      "<class 'pandas.core.frame.DataFrame'>\n",
      "RangeIndex: 528870 entries, 0 to 528869\n",
      "Data columns (total 13 columns):\n",
      "beer_ABV              508590 non-null float64\n",
      "beer_beerId           528870 non-null int64\n",
      "beer_brewerId         528870 non-null int64\n",
      "beer_name             528870 non-null object\n",
      "beer_style            528870 non-null object\n",
      "review_appearance     528870 non-null float64\n",
      "review_palette        528870 non-null float64\n",
      "review_overall        528870 non-null float64\n",
      "review_taste          528870 non-null float64\n",
      "review_profileName    528755 non-null object\n",
      "review_aroma          528870 non-null float64\n",
      "review_text           528751 non-null object\n",
      "review_time           528870 non-null int64\n",
      "dtypes: float64(6), int64(3), object(4)\n",
      "memory usage: 52.5+ MB\n"
     ]
    }
   ],
   "source": [
    "# take a look at properties of df\n",
    "df.info()"
   ]
  },
  {
   "cell_type": "code",
   "execution_count": 7,
   "metadata": {},
   "outputs": [
    {
     "data": {
      "text/html": [
       "<div>\n",
       "<style scoped>\n",
       "    .dataframe tbody tr th:only-of-type {\n",
       "        vertical-align: middle;\n",
       "    }\n",
       "\n",
       "    .dataframe tbody tr th {\n",
       "        vertical-align: top;\n",
       "    }\n",
       "\n",
       "    .dataframe thead th {\n",
       "        text-align: right;\n",
       "    }\n",
       "</style>\n",
       "<table border=\"1\" class=\"dataframe\">\n",
       "  <thead>\n",
       "    <tr style=\"text-align: right;\">\n",
       "      <th></th>\n",
       "      <th>beer_ABV</th>\n",
       "      <th>beer_beerId</th>\n",
       "      <th>beer_brewerId</th>\n",
       "      <th>review_appearance</th>\n",
       "      <th>review_palette</th>\n",
       "      <th>review_overall</th>\n",
       "      <th>review_taste</th>\n",
       "      <th>review_aroma</th>\n",
       "      <th>review_time</th>\n",
       "    </tr>\n",
       "  </thead>\n",
       "  <tbody>\n",
       "    <tr>\n",
       "      <th>count</th>\n",
       "      <td>508590.000000</td>\n",
       "      <td>528870.000000</td>\n",
       "      <td>528870.000000</td>\n",
       "      <td>528870.000000</td>\n",
       "      <td>528870.000000</td>\n",
       "      <td>528870.000000</td>\n",
       "      <td>528870.000000</td>\n",
       "      <td>528870.000000</td>\n",
       "      <td>5.288700e+05</td>\n",
       "    </tr>\n",
       "    <tr>\n",
       "      <th>mean</th>\n",
       "      <td>7.017442</td>\n",
       "      <td>22098.466016</td>\n",
       "      <td>2598.423429</td>\n",
       "      <td>3.864522</td>\n",
       "      <td>3.758926</td>\n",
       "      <td>3.833197</td>\n",
       "      <td>3.765993</td>\n",
       "      <td>3.817350</td>\n",
       "      <td>1.224885e+09</td>\n",
       "    </tr>\n",
       "    <tr>\n",
       "      <th>std</th>\n",
       "      <td>2.204460</td>\n",
       "      <td>22158.284352</td>\n",
       "      <td>5281.805350</td>\n",
       "      <td>0.604010</td>\n",
       "      <td>0.685335</td>\n",
       "      <td>0.709962</td>\n",
       "      <td>0.669018</td>\n",
       "      <td>0.718903</td>\n",
       "      <td>7.605600e+07</td>\n",
       "    </tr>\n",
       "    <tr>\n",
       "      <th>min</th>\n",
       "      <td>0.010000</td>\n",
       "      <td>3.000000</td>\n",
       "      <td>1.000000</td>\n",
       "      <td>0.000000</td>\n",
       "      <td>1.000000</td>\n",
       "      <td>0.000000</td>\n",
       "      <td>1.000000</td>\n",
       "      <td>1.000000</td>\n",
       "      <td>8.843904e+08</td>\n",
       "    </tr>\n",
       "    <tr>\n",
       "      <th>25%</th>\n",
       "      <td>5.300000</td>\n",
       "      <td>1745.000000</td>\n",
       "      <td>132.000000</td>\n",
       "      <td>3.500000</td>\n",
       "      <td>3.500000</td>\n",
       "      <td>3.500000</td>\n",
       "      <td>3.500000</td>\n",
       "      <td>3.500000</td>\n",
       "      <td>1.174613e+09</td>\n",
       "    </tr>\n",
       "    <tr>\n",
       "      <th>50%</th>\n",
       "      <td>6.500000</td>\n",
       "      <td>14368.000000</td>\n",
       "      <td>394.000000</td>\n",
       "      <td>4.000000</td>\n",
       "      <td>4.000000</td>\n",
       "      <td>4.000000</td>\n",
       "      <td>4.000000</td>\n",
       "      <td>4.000000</td>\n",
       "      <td>1.240366e+09</td>\n",
       "    </tr>\n",
       "    <tr>\n",
       "      <th>75%</th>\n",
       "      <td>8.500000</td>\n",
       "      <td>40528.000000</td>\n",
       "      <td>1475.000000</td>\n",
       "      <td>4.000000</td>\n",
       "      <td>4.000000</td>\n",
       "      <td>4.500000</td>\n",
       "      <td>4.000000</td>\n",
       "      <td>4.500000</td>\n",
       "      <td>1.288560e+09</td>\n",
       "    </tr>\n",
       "    <tr>\n",
       "      <th>max</th>\n",
       "      <td>57.700000</td>\n",
       "      <td>77310.000000</td>\n",
       "      <td>27980.000000</td>\n",
       "      <td>5.000000</td>\n",
       "      <td>5.000000</td>\n",
       "      <td>5.000000</td>\n",
       "      <td>5.000000</td>\n",
       "      <td>5.000000</td>\n",
       "      <td>1.326277e+09</td>\n",
       "    </tr>\n",
       "  </tbody>\n",
       "</table>\n",
       "</div>"
      ],
      "text/plain": [
       "            beer_ABV    beer_beerId  beer_brewerId  review_appearance  \\\n",
       "count  508590.000000  528870.000000  528870.000000      528870.000000   \n",
       "mean        7.017442   22098.466016    2598.423429           3.864522   \n",
       "std         2.204460   22158.284352    5281.805350           0.604010   \n",
       "min         0.010000       3.000000       1.000000           0.000000   \n",
       "25%         5.300000    1745.000000     132.000000           3.500000   \n",
       "50%         6.500000   14368.000000     394.000000           4.000000   \n",
       "75%         8.500000   40528.000000    1475.000000           4.000000   \n",
       "max        57.700000   77310.000000   27980.000000           5.000000   \n",
       "\n",
       "       review_palette  review_overall   review_taste   review_aroma  \\\n",
       "count   528870.000000   528870.000000  528870.000000  528870.000000   \n",
       "mean         3.758926        3.833197       3.765993       3.817350   \n",
       "std          0.685335        0.709962       0.669018       0.718903   \n",
       "min          1.000000        0.000000       1.000000       1.000000   \n",
       "25%          3.500000        3.500000       3.500000       3.500000   \n",
       "50%          4.000000        4.000000       4.000000       4.000000   \n",
       "75%          4.000000        4.500000       4.000000       4.500000   \n",
       "max          5.000000        5.000000       5.000000       5.000000   \n",
       "\n",
       "        review_time  \n",
       "count  5.288700e+05  \n",
       "mean   1.224885e+09  \n",
       "std    7.605600e+07  \n",
       "min    8.843904e+08  \n",
       "25%    1.174613e+09  \n",
       "50%    1.240366e+09  \n",
       "75%    1.288560e+09  \n",
       "max    1.326277e+09  "
      ]
     },
     "execution_count": 7,
     "metadata": {},
     "output_type": "execute_result"
    }
   ],
   "source": [
    "# take a look at descriptive statistics of the variables in the dataset\n",
    "df.describe()"
   ]
  },
  {
   "cell_type": "code",
   "execution_count": 8,
   "metadata": {},
   "outputs": [
    {
     "data": {
      "text/plain": [
       "beer_ABV              20280\n",
       "beer_beerId               0\n",
       "beer_brewerId             0\n",
       "beer_name                 0\n",
       "beer_style                0\n",
       "review_appearance         0\n",
       "review_palette            0\n",
       "review_overall            0\n",
       "review_taste              0\n",
       "review_profileName      115\n",
       "review_aroma              0\n",
       "review_text             119\n",
       "review_time               0\n",
       "dtype: int64"
      ]
     },
     "execution_count": 8,
     "metadata": {},
     "output_type": "execute_result"
    }
   ],
   "source": [
    "# take a look at missing values\n",
    "df.isnull().sum()"
   ]
  },
  {
   "cell_type": "code",
   "execution_count": 9,
   "metadata": {},
   "outputs": [
    {
     "data": {
      "text/plain": [
       "beer_ABV              0.038346\n",
       "beer_beerId           0.000000\n",
       "beer_brewerId         0.000000\n",
       "beer_name             0.000000\n",
       "beer_style            0.000000\n",
       "review_appearance     0.000000\n",
       "review_palette        0.000000\n",
       "review_overall        0.000000\n",
       "review_taste          0.000000\n",
       "review_profileName    0.000217\n",
       "review_aroma          0.000000\n",
       "review_text           0.000225\n",
       "review_time           0.000000\n",
       "dtype: float64"
      ]
     },
     "execution_count": 9,
     "metadata": {},
     "output_type": "execute_result"
    }
   ],
   "source": [
    "# calculate % of missing entries \n",
    "df.isnull().mean()"
   ]
  },
  {
   "cell_type": "code",
   "execution_count": 10,
   "metadata": {},
   "outputs": [
    {
     "data": {
      "text/plain": [
       "beer_ABV              0\n",
       "beer_beerId           0\n",
       "beer_brewerId         0\n",
       "beer_name             0\n",
       "beer_style            0\n",
       "review_appearance     0\n",
       "review_palette        0\n",
       "review_overall        0\n",
       "review_taste          0\n",
       "review_profileName    0\n",
       "review_aroma          0\n",
       "review_text           0\n",
       "review_time           0\n",
       "dtype: int64"
      ]
     },
     "execution_count": 10,
     "metadata": {},
     "output_type": "execute_result"
    }
   ],
   "source": [
    "# drop review_profileName and review_text missing entry rows and fill beer_ABV missing entry rows with mean\n",
    "df[\"beer_ABV\"] = df[\"beer_ABV\"].fillna(value=df[\"beer_ABV\"].mean())\n",
    "df.dropna(inplace=True)\n",
    "df.isnull().sum()"
   ]
  },
  {
   "cell_type": "code",
   "execution_count": 11,
   "metadata": {},
   "outputs": [
    {
     "data": {
      "text/plain": [
       "<matplotlib.axes._subplots.AxesSubplot at 0x1a1a1a0e10>"
      ]
     },
     "execution_count": 11,
     "metadata": {},
     "output_type": "execute_result"
    },
    {
     "data": {
      "image/png": "[encoded data removed]",
      "text/plain": [
       "<Figure size 720x576 with 2 Axes>"
      ]
     },
     "metadata": {
      "needs_background": "light"
     },
     "output_type": "display_data"
    }
   ],
   "source": [
    "# look for trends/correlations by plotting a correlation heatmap, remove ids from heatmap\n",
    "plt.subplots(figsize=(10,8))\n",
    "ax = plt.axes()\n",
    "ax.set_title(\"CORRELATION_HEAT_MAP\")\n",
    "df2 = df1.drop(labels=['beer_beerId','beer_brewerId'], axis=1)\n",
    "corr = df2.corr()\n",
    "sns.heatmap(corr, annot=True, xticklabels=corr.columns.values, yticklabels=corr.columns.values)"
   ]
  },
  {
   "cell_type": "markdown",
   "metadata": {},
   "source": [
    "### Correlation heatmap shows that there is strong correlation between overall review and review_aroma.  There is also strong correlation between review_aroma and review_taste.  Finally, there is strong correlation between review_aroma and review_palette as well as overall review and review_taste. Thus, we can conclude an association between overall review and the taste and/or aroma of the beer. "
   ]
  },
  {
   "cell_type": "markdown",
   "metadata": {},
   "source": [
    "### The Correlation heatmap shows a negative correlation between overall review and beer_ABV indicating the beer review is not correlated strongly with the alcoholic content of the beer."
   ]
  },
  {
   "cell_type": "markdown",
   "metadata": {},
   "source": [
    "## Question1: Rank top 3 Breweries which produce the strongest beers?"
   ]
  },
  {
   "cell_type": "code",
   "execution_count": 12,
   "metadata": {},
   "outputs": [],
   "source": [
    "# since df1 contains duplicate beerIds, we need to drop those in order to accurately answer the question\n",
    "beer_df = df1.drop_duplicates(subset='beer_beerId')"
   ]
  },
  {
   "cell_type": "code",
   "execution_count": 13,
   "metadata": {},
   "outputs": [
    {
     "data": {
      "text/plain": [
       "(20200, 13)"
      ]
     },
     "execution_count": 13,
     "metadata": {},
     "output_type": "execute_result"
    }
   ],
   "source": [
    "# take a look at the shape of new dataframe\n",
    "beer_df.shape"
   ]
  },
  {
   "cell_type": "code",
   "execution_count": 13,
   "metadata": {},
   "outputs": [
    {
     "data": {
      "text/html": [
       "<div>\n",
       "<style scoped>\n",
       "    .dataframe tbody tr th:only-of-type {\n",
       "        vertical-align: middle;\n",
       "    }\n",
       "\n",
       "    .dataframe tbody tr th {\n",
       "        vertical-align: top;\n",
       "    }\n",
       "\n",
       "    .dataframe thead th {\n",
       "        text-align: right;\n",
       "    }\n",
       "</style>\n",
       "<table border=\"1\" class=\"dataframe\">\n",
       "  <thead>\n",
       "    <tr style=\"text-align: right;\">\n",
       "      <th></th>\n",
       "      <th>beer_ABV</th>\n",
       "      <th>beer_beerId</th>\n",
       "      <th>beer_brewerId</th>\n",
       "      <th>beer_name</th>\n",
       "      <th>beer_style</th>\n",
       "      <th>review_appearance</th>\n",
       "      <th>review_palette</th>\n",
       "      <th>review_overall</th>\n",
       "      <th>review_taste</th>\n",
       "      <th>review_profileName</th>\n",
       "      <th>review_aroma</th>\n",
       "      <th>review_text</th>\n",
       "      <th>review_time</th>\n",
       "    </tr>\n",
       "  </thead>\n",
       "  <tbody>\n",
       "    <tr>\n",
       "      <th>12889</th>\n",
       "      <td>57.70</td>\n",
       "      <td>73368</td>\n",
       "      <td>6513</td>\n",
       "      <td>Schorschbräu Schorschbock 57%</td>\n",
       "      <td>Eisbock</td>\n",
       "      <td>4.0</td>\n",
       "      <td>4.0</td>\n",
       "      <td>4.0</td>\n",
       "      <td>4.0</td>\n",
       "      <td>kappldav123</td>\n",
       "      <td>3.5</td>\n",
       "      <td>New world strongest beer. Very limited, only 3...</td>\n",
       "      <td>1316780901</td>\n",
       "    </tr>\n",
       "    <tr>\n",
       "      <th>12909</th>\n",
       "      <td>43.00</td>\n",
       "      <td>57856</td>\n",
       "      <td>6513</td>\n",
       "      <td>Schorschbräu Schorschbock 43%</td>\n",
       "      <td>Eisbock</td>\n",
       "      <td>3.5</td>\n",
       "      <td>4.0</td>\n",
       "      <td>4.0</td>\n",
       "      <td>4.0</td>\n",
       "      <td>Sunnanek</td>\n",
       "      <td>4.0</td>\n",
       "      <td>43% ABV - this is so crazy! A: Pour is warm am...</td>\n",
       "      <td>1309974178</td>\n",
       "    </tr>\n",
       "    <tr>\n",
       "      <th>12911</th>\n",
       "      <td>39.44</td>\n",
       "      <td>55712</td>\n",
       "      <td>6513</td>\n",
       "      <td>Schorschbräu Schorschbock 40%</td>\n",
       "      <td>Eisbock</td>\n",
       "      <td>3.0</td>\n",
       "      <td>3.0</td>\n",
       "      <td>3.0</td>\n",
       "      <td>2.0</td>\n",
       "      <td>orangesol</td>\n",
       "      <td>3.0</td>\n",
       "      <td>Thanks to foofaa for sharing his sample with m...</td>\n",
       "      <td>1321041551</td>\n",
       "    </tr>\n",
       "    <tr>\n",
       "      <th>12888</th>\n",
       "      <td>30.86</td>\n",
       "      <td>51466</td>\n",
       "      <td>6513</td>\n",
       "      <td>Schorschbräu Schorschbock 31%</td>\n",
       "      <td>Eisbock</td>\n",
       "      <td>4.0</td>\n",
       "      <td>4.0</td>\n",
       "      <td>3.5</td>\n",
       "      <td>4.0</td>\n",
       "      <td>kappldav123</td>\n",
       "      <td>4.5</td>\n",
       "      <td>Bottle @ home (of course not the whole bottle ...</td>\n",
       "      <td>1248785936</td>\n",
       "    </tr>\n",
       "    <tr>\n",
       "      <th>293656</th>\n",
       "      <td>27.00</td>\n",
       "      <td>25759</td>\n",
       "      <td>35</td>\n",
       "      <td>Samuel Adams Utopias</td>\n",
       "      <td>American Strong Ale</td>\n",
       "      <td>5.0</td>\n",
       "      <td>4.0</td>\n",
       "      <td>4.5</td>\n",
       "      <td>5.0</td>\n",
       "      <td>wesleyhighley</td>\n",
       "      <td>4.0</td>\n",
       "      <td>I bought this bottle in 2007, drank it for the...</td>\n",
       "      <td>1293667236</td>\n",
       "    </tr>\n",
       "    <tr>\n",
       "      <th>286261</th>\n",
       "      <td>25.00</td>\n",
       "      <td>9840</td>\n",
       "      <td>35</td>\n",
       "      <td>Samuel Adams Utopias MMIII</td>\n",
       "      <td>American Strong Ale</td>\n",
       "      <td>4.5</td>\n",
       "      <td>4.0</td>\n",
       "      <td>3.5</td>\n",
       "      <td>3.5</td>\n",
       "      <td>Kenny411</td>\n",
       "      <td>3.5</td>\n",
       "      <td>I had a connection that had their bottle fille...</td>\n",
       "      <td>1298323843</td>\n",
       "    </tr>\n",
       "    <tr>\n",
       "      <th>317616</th>\n",
       "      <td>25.00</td>\n",
       "      <td>41120</td>\n",
       "      <td>35</td>\n",
       "      <td>Samuel Adams Utopias (Aged On Cocoa Nibs)</td>\n",
       "      <td>American Strong Ale</td>\n",
       "      <td>3.0</td>\n",
       "      <td>3.5</td>\n",
       "      <td>2.0</td>\n",
       "      <td>3.0</td>\n",
       "      <td>LilBeerDoctor</td>\n",
       "      <td>3.5</td>\n",
       "      <td>Extreme Beer Fest 2/15/08: Dark amber in color...</td>\n",
       "      <td>1230426927</td>\n",
       "    </tr>\n",
       "    <tr>\n",
       "      <th>297499</th>\n",
       "      <td>24.00</td>\n",
       "      <td>2683</td>\n",
       "      <td>35</td>\n",
       "      <td>Samuel Adams Utopias MMII</td>\n",
       "      <td>American Strong Ale</td>\n",
       "      <td>4.5</td>\n",
       "      <td>4.5</td>\n",
       "      <td>4.5</td>\n",
       "      <td>4.5</td>\n",
       "      <td>largadeer</td>\n",
       "      <td>4.5</td>\n",
       "      <td>2002 Utopias. Thanks to Arthur for the chance ...</td>\n",
       "      <td>1319135850</td>\n",
       "    </tr>\n",
       "    <tr>\n",
       "      <th>284086</th>\n",
       "      <td>21.00</td>\n",
       "      <td>1640</td>\n",
       "      <td>35</td>\n",
       "      <td>Samuel Adams Millennium</td>\n",
       "      <td>American Strong Ale</td>\n",
       "      <td>4.0</td>\n",
       "      <td>4.0</td>\n",
       "      <td>4.5</td>\n",
       "      <td>4.5</td>\n",
       "      <td>cpetrone84</td>\n",
       "      <td>4.0</td>\n",
       "      <td>Had back in April, Utopias right before. Pours...</td>\n",
       "      <td>1321970235</td>\n",
       "    </tr>\n",
       "    <tr>\n",
       "      <th>58570</th>\n",
       "      <td>19.50</td>\n",
       "      <td>74295</td>\n",
       "      <td>16866</td>\n",
       "      <td>Grey Monday</td>\n",
       "      <td>American Double / Imperial Stout</td>\n",
       "      <td>4.0</td>\n",
       "      <td>5.0</td>\n",
       "      <td>4.5</td>\n",
       "      <td>4.5</td>\n",
       "      <td>Hands22</td>\n",
       "      <td>5.0</td>\n",
       "      <td>Served from a cask in 6oz pours at Beachwood B...</td>\n",
       "      <td>1318997327</td>\n",
       "    </tr>\n",
       "    <tr>\n",
       "      <th>62141</th>\n",
       "      <td>19.50</td>\n",
       "      <td>61328</td>\n",
       "      <td>16866</td>\n",
       "      <td>Cherry Chocolate Rain</td>\n",
       "      <td>American Double / Imperial Stout</td>\n",
       "      <td>4.5</td>\n",
       "      <td>4.5</td>\n",
       "      <td>3.5</td>\n",
       "      <td>3.0</td>\n",
       "      <td>jbtice0315</td>\n",
       "      <td>3.5</td>\n",
       "      <td>Had this on cask after one of the Bruery's res...</td>\n",
       "      <td>1292705682</td>\n",
       "    </tr>\n",
       "    <tr>\n",
       "      <th>100013</th>\n",
       "      <td>19.50</td>\n",
       "      <td>58656</td>\n",
       "      <td>2958</td>\n",
       "      <td>Cuvée Alex Le Rouge Eisbock</td>\n",
       "      <td>Eisbock</td>\n",
       "      <td>3.0</td>\n",
       "      <td>3.5</td>\n",
       "      <td>3.0</td>\n",
       "      <td>3.0</td>\n",
       "      <td>Anthony1</td>\n",
       "      <td>3.0</td>\n",
       "      <td>The Eisbock of Cuve Alex Le Rouge. Was very ex...</td>\n",
       "      <td>1274797770</td>\n",
       "    </tr>\n",
       "    <tr>\n",
       "      <th>259810</th>\n",
       "      <td>19.20</td>\n",
       "      <td>65892</td>\n",
       "      <td>18796</td>\n",
       "      <td>Acero</td>\n",
       "      <td>American Strong Ale</td>\n",
       "      <td>4.0</td>\n",
       "      <td>4.5</td>\n",
       "      <td>4.5</td>\n",
       "      <td>4.0</td>\n",
       "      <td>kwjd</td>\n",
       "      <td>4.0</td>\n",
       "      <td>Bought this almost a year ago at Peluso in Mon...</td>\n",
       "      <td>1296780279</td>\n",
       "    </tr>\n",
       "    <tr>\n",
       "      <th>61712</th>\n",
       "      <td>18.50</td>\n",
       "      <td>53728</td>\n",
       "      <td>16866</td>\n",
       "      <td>Chocolate Rain</td>\n",
       "      <td>American Double / Imperial Stout</td>\n",
       "      <td>5.0</td>\n",
       "      <td>5.0</td>\n",
       "      <td>5.0</td>\n",
       "      <td>5.0</td>\n",
       "      <td>Bankhead</td>\n",
       "      <td>5.0</td>\n",
       "      <td>sampled as many ounces as possible at mardi no...</td>\n",
       "      <td>1257028907</td>\n",
       "    </tr>\n",
       "    <tr>\n",
       "      <th>128974</th>\n",
       "      <td>18.40</td>\n",
       "      <td>32963</td>\n",
       "      <td>848</td>\n",
       "      <td>XXX Warlock Double Imperial Stout</td>\n",
       "      <td>American Double / Imperial Stout</td>\n",
       "      <td>1.0</td>\n",
       "      <td>4.0</td>\n",
       "      <td>2.0</td>\n",
       "      <td>1.0</td>\n",
       "      <td>Jeffo</td>\n",
       "      <td>2.5</td>\n",
       "      <td>Got this one from Doodler. Thanks for hanging ...</td>\n",
       "      <td>1309699442</td>\n",
       "    </tr>\n",
       "  </tbody>\n",
       "</table>\n",
       "</div>"
      ],
      "text/plain": [
       "        beer_ABV  beer_beerId  beer_brewerId  \\\n",
       "12889      57.70        73368           6513   \n",
       "12909      43.00        57856           6513   \n",
       "12911      39.44        55712           6513   \n",
       "12888      30.86        51466           6513   \n",
       "293656     27.00        25759             35   \n",
       "286261     25.00         9840             35   \n",
       "317616     25.00        41120             35   \n",
       "297499     24.00         2683             35   \n",
       "284086     21.00         1640             35   \n",
       "58570      19.50        74295          16866   \n",
       "62141      19.50        61328          16866   \n",
       "100013     19.50        58656           2958   \n",
       "259810     19.20        65892          18796   \n",
       "61712      18.50        53728          16866   \n",
       "128974     18.40        32963            848   \n",
       "\n",
       "                                        beer_name  \\\n",
       "12889               Schorschbräu Schorschbock 57%   \n",
       "12909               Schorschbräu Schorschbock 43%   \n",
       "12911               Schorschbräu Schorschbock 40%   \n",
       "12888               Schorschbräu Schorschbock 31%   \n",
       "293656                       Samuel Adams Utopias   \n",
       "286261                 Samuel Adams Utopias MMIII   \n",
       "317616  Samuel Adams Utopias (Aged On Cocoa Nibs)   \n",
       "297499                  Samuel Adams Utopias MMII   \n",
       "284086                    Samuel Adams Millennium   \n",
       "58570                                 Grey Monday   \n",
       "62141                       Cherry Chocolate Rain   \n",
       "100013                Cuvée Alex Le Rouge Eisbock   \n",
       "259810                                      Acero   \n",
       "61712                              Chocolate Rain   \n",
       "128974          XXX Warlock Double Imperial Stout   \n",
       "\n",
       "                              beer_style  review_appearance  review_palette  \\\n",
       "12889                            Eisbock                4.0             4.0   \n",
       "12909                            Eisbock                3.5             4.0   \n",
       "12911                            Eisbock                3.0             3.0   \n",
       "12888                            Eisbock                4.0             4.0   \n",
       "293656               American Strong Ale                5.0             4.0   \n",
       "286261               American Strong Ale                4.5             4.0   \n",
       "317616               American Strong Ale                3.0             3.5   \n",
       "297499               American Strong Ale                4.5             4.5   \n",
       "284086               American Strong Ale                4.0             4.0   \n",
       "58570   American Double / Imperial Stout                4.0             5.0   \n",
       "62141   American Double / Imperial Stout                4.5             4.5   \n",
       "100013                           Eisbock                3.0             3.5   \n",
       "259810               American Strong Ale                4.0             4.5   \n",
       "61712   American Double / Imperial Stout                5.0             5.0   \n",
       "128974  American Double / Imperial Stout                1.0             4.0   \n",
       "\n",
       "        review_overall  review_taste review_profileName  review_aroma  \\\n",
       "12889              4.0           4.0        kappldav123           3.5   \n",
       "12909              4.0           4.0           Sunnanek           4.0   \n",
       "12911              3.0           2.0          orangesol           3.0   \n",
       "12888              3.5           4.0        kappldav123           4.5   \n",
       "293656             4.5           5.0      wesleyhighley           4.0   \n",
       "286261             3.5           3.5           Kenny411           3.5   \n",
       "317616             2.0           3.0      LilBeerDoctor           3.5   \n",
       "297499             4.5           4.5          largadeer           4.5   \n",
       "284086             4.5           4.5         cpetrone84           4.0   \n",
       "58570              4.5           4.5            Hands22           5.0   \n",
       "62141              3.5           3.0         jbtice0315           3.5   \n",
       "100013             3.0           3.0           Anthony1           3.0   \n",
       "259810             4.5           4.0               kwjd           4.0   \n",
       "61712              5.0           5.0           Bankhead           5.0   \n",
       "128974             2.0           1.0              Jeffo           2.5   \n",
       "\n",
       "                                              review_text  review_time  \n",
       "12889   New world strongest beer. Very limited, only 3...   1316780901  \n",
       "12909   43% ABV - this is so crazy! A: Pour is warm am...   1309974178  \n",
       "12911   Thanks to foofaa for sharing his sample with m...   1321041551  \n",
       "12888   Bottle @ home (of course not the whole bottle ...   1248785936  \n",
       "293656  I bought this bottle in 2007, drank it for the...   1293667236  \n",
       "286261  I had a connection that had their bottle fille...   1298323843  \n",
       "317616  Extreme Beer Fest 2/15/08: Dark amber in color...   1230426927  \n",
       "297499  2002 Utopias. Thanks to Arthur for the chance ...   1319135850  \n",
       "284086  Had back in April, Utopias right before. Pours...   1321970235  \n",
       "58570   Served from a cask in 6oz pours at Beachwood B...   1318997327  \n",
       "62141   Had this on cask after one of the Bruery's res...   1292705682  \n",
       "100013  The Eisbock of Cuve Alex Le Rouge. Was very ex...   1274797770  \n",
       "259810  Bought this almost a year ago at Peluso in Mon...   1296780279  \n",
       "61712   sampled as many ounces as possible at mardi no...   1257028907  \n",
       "128974  Got this one from Doodler. Thanks for hanging ...   1309699442  "
      ]
     },
     "execution_count": 13,
     "metadata": {},
     "output_type": "execute_result"
    }
   ],
   "source": [
    "# take a look at the dataframe to visualize the top three breweries with the strongest beers\n",
    "beer_df.sort_values(['beer_ABV','beer_brewerId'],ascending=False).head(15)"
   ]
  },
  {
   "cell_type": "code",
   "execution_count": 14,
   "metadata": {},
   "outputs": [
    {
     "data": {
      "text/plain": [
       "beer_brewerId\n",
       "6513     57.7\n",
       "35       27.0\n",
       "16866    19.5\n",
       "2958     19.5\n",
       "18796    19.2\n",
       "848      18.4\n",
       "1628     18.0\n",
       "24803    18.0\n",
       "4614     18.0\n",
       "351      18.0\n",
       "Name: beer_ABV, dtype: float64"
      ]
     },
     "execution_count": 14,
     "metadata": {},
     "output_type": "execute_result"
    }
   ],
   "source": [
    "# compare this answer by doing a groupby on the maximum ABV\n",
    "beer_df.groupby('beer_brewerId').beer_ABV.max().sort_values(ascending=False).head(10)"
   ]
  },
  {
   "cell_type": "markdown",
   "metadata": {},
   "source": [
    "## According to data exploration, the top three breweries serving the strongest beers are 1.) brewery 6513  2.) brewery 35 and  3.) a tie between brewery 16866 and 2958"
   ]
  },
  {
   "cell_type": "code",
   "execution_count": 15,
   "metadata": {},
   "outputs": [
    {
     "data": {
      "text/html": [
       "<div>\n",
       "<style scoped>\n",
       "    .dataframe tbody tr th:only-of-type {\n",
       "        vertical-align: middle;\n",
       "    }\n",
       "\n",
       "    .dataframe tbody tr th {\n",
       "        vertical-align: top;\n",
       "    }\n",
       "\n",
       "    .dataframe thead th {\n",
       "        text-align: right;\n",
       "    }\n",
       "</style>\n",
       "<table border=\"1\" class=\"dataframe\">\n",
       "  <thead>\n",
       "    <tr style=\"text-align: right;\">\n",
       "      <th></th>\n",
       "      <th>beer_ABV</th>\n",
       "      <th>beer_beerId</th>\n",
       "      <th>beer_brewerId</th>\n",
       "      <th>beer_name</th>\n",
       "      <th>beer_style</th>\n",
       "      <th>review_appearance</th>\n",
       "      <th>review_palette</th>\n",
       "      <th>review_overall</th>\n",
       "      <th>review_taste</th>\n",
       "      <th>review_profileName</th>\n",
       "      <th>review_aroma</th>\n",
       "      <th>review_text</th>\n",
       "      <th>review_time</th>\n",
       "    </tr>\n",
       "  </thead>\n",
       "  <tbody>\n",
       "    <tr>\n",
       "      <th>12889</th>\n",
       "      <td>57.70</td>\n",
       "      <td>73368</td>\n",
       "      <td>6513</td>\n",
       "      <td>Schorschbräu Schorschbock 57%</td>\n",
       "      <td>Eisbock</td>\n",
       "      <td>4.0</td>\n",
       "      <td>4.0</td>\n",
       "      <td>4.0</td>\n",
       "      <td>4.0</td>\n",
       "      <td>kappldav123</td>\n",
       "      <td>3.5</td>\n",
       "      <td>New world strongest beer. Very limited, only 3...</td>\n",
       "      <td>1316780901</td>\n",
       "    </tr>\n",
       "    <tr>\n",
       "      <th>12909</th>\n",
       "      <td>43.00</td>\n",
       "      <td>57856</td>\n",
       "      <td>6513</td>\n",
       "      <td>Schorschbräu Schorschbock 43%</td>\n",
       "      <td>Eisbock</td>\n",
       "      <td>3.5</td>\n",
       "      <td>4.0</td>\n",
       "      <td>4.0</td>\n",
       "      <td>4.0</td>\n",
       "      <td>Sunnanek</td>\n",
       "      <td>4.0</td>\n",
       "      <td>43% ABV - this is so crazy! A: Pour is warm am...</td>\n",
       "      <td>1309974178</td>\n",
       "    </tr>\n",
       "    <tr>\n",
       "      <th>12910</th>\n",
       "      <td>43.00</td>\n",
       "      <td>57856</td>\n",
       "      <td>6513</td>\n",
       "      <td>Schorschbräu Schorschbock 43%</td>\n",
       "      <td>Eisbock</td>\n",
       "      <td>4.0</td>\n",
       "      <td>4.0</td>\n",
       "      <td>3.5</td>\n",
       "      <td>4.0</td>\n",
       "      <td>kappldav123</td>\n",
       "      <td>4.5</td>\n",
       "      <td>The bottle looks really great, handnumbered an...</td>\n",
       "      <td>1274469798</td>\n",
       "    </tr>\n",
       "    <tr>\n",
       "      <th>12911</th>\n",
       "      <td>39.44</td>\n",
       "      <td>55712</td>\n",
       "      <td>6513</td>\n",
       "      <td>Schorschbräu Schorschbock 40%</td>\n",
       "      <td>Eisbock</td>\n",
       "      <td>3.0</td>\n",
       "      <td>3.0</td>\n",
       "      <td>3.0</td>\n",
       "      <td>2.0</td>\n",
       "      <td>orangesol</td>\n",
       "      <td>3.0</td>\n",
       "      <td>Thanks to foofaa for sharing his sample with m...</td>\n",
       "      <td>1321041551</td>\n",
       "    </tr>\n",
       "    <tr>\n",
       "      <th>12912</th>\n",
       "      <td>39.44</td>\n",
       "      <td>55712</td>\n",
       "      <td>6513</td>\n",
       "      <td>Schorschbräu Schorschbock 40%</td>\n",
       "      <td>Eisbock</td>\n",
       "      <td>3.5</td>\n",
       "      <td>3.5</td>\n",
       "      <td>3.0</td>\n",
       "      <td>3.5</td>\n",
       "      <td>thepeter</td>\n",
       "      <td>3.5</td>\n",
       "      <td>Very lucky to get a 2oz sample of this at a ta...</td>\n",
       "      <td>1274645294</td>\n",
       "    </tr>\n",
       "  </tbody>\n",
       "</table>\n",
       "</div>"
      ],
      "text/plain": [
       "       beer_ABV  beer_beerId  beer_brewerId                      beer_name  \\\n",
       "12889     57.70        73368           6513  Schorschbräu Schorschbock 57%   \n",
       "12909     43.00        57856           6513  Schorschbräu Schorschbock 43%   \n",
       "12910     43.00        57856           6513  Schorschbräu Schorschbock 43%   \n",
       "12911     39.44        55712           6513  Schorschbräu Schorschbock 40%   \n",
       "12912     39.44        55712           6513  Schorschbräu Schorschbock 40%   \n",
       "\n",
       "      beer_style  review_appearance  review_palette  review_overall  \\\n",
       "12889    Eisbock                4.0             4.0             4.0   \n",
       "12909    Eisbock                3.5             4.0             4.0   \n",
       "12910    Eisbock                4.0             4.0             3.5   \n",
       "12911    Eisbock                3.0             3.0             3.0   \n",
       "12912    Eisbock                3.5             3.5             3.0   \n",
       "\n",
       "       review_taste review_profileName  review_aroma  \\\n",
       "12889           4.0        kappldav123           3.5   \n",
       "12909           4.0           Sunnanek           4.0   \n",
       "12910           4.0        kappldav123           4.5   \n",
       "12911           2.0          orangesol           3.0   \n",
       "12912           3.5           thepeter           3.5   \n",
       "\n",
       "                                             review_text  review_time  \n",
       "12889  New world strongest beer. Very limited, only 3...   1316780901  \n",
       "12909  43% ABV - this is so crazy! A: Pour is warm am...   1309974178  \n",
       "12910  The bottle looks really great, handnumbered an...   1274469798  \n",
       "12911  Thanks to foofaa for sharing his sample with m...   1321041551  \n",
       "12912  Very lucky to get a 2oz sample of this at a ta...   1274645294  "
      ]
     },
     "execution_count": 15,
     "metadata": {},
     "output_type": "execute_result"
    }
   ],
   "source": [
    "# try another method to validate if brewery 16866 and brewery 2958 are indeed tied\n",
    "df_strong = df1.sort_values(['beer_ABV', 'beer_brewerId'], ascending = False).iloc[0:1000]\n",
    "df_strong.head()"
   ]
  },
  {
   "cell_type": "code",
   "execution_count": 16,
   "metadata": {},
   "outputs": [
    {
     "data": {
      "text/plain": [
       "<matplotlib.axes._subplots.AxesSubplot at 0x1a183aad68>"
      ]
     },
     "execution_count": 16,
     "metadata": {},
     "output_type": "execute_result"
    },
    {
     "data": {
      "image/png": "[encoded data removed]",
      "text/plain": [
       "<Figure size 432x288 with 1 Axes>"
      ]
     },
     "metadata": {
      "needs_background": "light"
     },
     "output_type": "display_data"
    }
   ],
   "source": [
    "# perform a groupby between brewer_Id and beer_ABV to visualize which breweries serve the strongest beers\n",
    "df_strong.groupby('beer_brewerId').beer_ABV.max().plot(kind='bar')"
   ]
  },
  {
   "cell_type": "code",
   "execution_count": 17,
   "metadata": {},
   "outputs": [
    {
     "data": {
      "text/plain": [
       "beer_brewerId\n",
       "35       27.0\n",
       "848      18.4\n",
       "2958     19.5\n",
       "6513     57.7\n",
       "16866    19.5\n",
       "18796    19.2\n",
       "Name: beer_ABV, dtype: float64"
      ]
     },
     "execution_count": 17,
     "metadata": {},
     "output_type": "execute_result"
    }
   ],
   "source": [
    "# numerically evaluate between beer_brewerId 2958 and 16866\n",
    "df_strong.groupby('beer_brewerId').beer_ABV.max()"
   ]
  },
  {
   "cell_type": "markdown",
   "metadata": {},
   "source": [
    "## Answer1:  Statistical analyses indicates the top three ranked brewery id's serving the strongest ABV beers are 1.) 6513, 2.) 35, and 3.) a tie between 2958 and 16866"
   ]
  },
  {
   "cell_type": "code",
   "execution_count": 18,
   "metadata": {},
   "outputs": [
    {
     "data": {
      "text/plain": [
       "beer_brewerId\n",
       "6513     41.840000\n",
       "35       26.406542\n",
       "2958     19.500000\n",
       "18796    19.200000\n",
       "848      18.400000\n",
       "16866    18.322424\n",
       "Name: beer_ABV, dtype: float64"
      ]
     },
     "execution_count": 18,
     "metadata": {},
     "output_type": "execute_result"
    }
   ],
   "source": [
    "# take a look at answer if mean groupby is used instead of max\n",
    "df_strong.groupby('beer_brewerId').beer_ABV.mean().sort_values(ascending=False).head(10)"
   ]
  },
  {
   "cell_type": "markdown",
   "metadata": {},
   "source": [
    "## Answer1: Statistical analyses utilizing groupby mean instead of groupby max gives a slightly different answer with the top three ranked breweries serving the strongest ABV beers being 1.)6513, 2.) 35 and 3.) 2958.  Utilizing mean groupby shows that brewery 16866 ranks #6."
   ]
  },
  {
   "cell_type": "code",
   "execution_count": 19,
   "metadata": {},
   "outputs": [
    {
     "data": {
      "text/plain": [
       "18"
      ]
     },
     "execution_count": 19,
     "metadata": {},
     "output_type": "execute_result"
    }
   ],
   "source": [
    "# take a look at how many unique beer names are in the strong beer dataset\n",
    "df_name_unique = df_strong['beer_name'].unique()\n",
    "len(df_name_unique)"
   ]
  },
  {
   "cell_type": "code",
   "execution_count": 20,
   "metadata": {},
   "outputs": [
    {
     "data": {
      "image/png": "[encoded data removed]",
      "text/plain": [
       "<Figure size 432x288 with 1 Axes>"
      ]
     },
     "metadata": {
      "needs_background": "light"
     },
     "output_type": "display_data"
    }
   ],
   "source": [
    "# plot the top 5 highest ABV serving breweries against the 18 unique beer names\n",
    "sns.scatterplot(x = 'beer_brewerId', y = 'beer_name', data = df_strong)\n",
    "plt.show()"
   ]
  },
  {
   "cell_type": "markdown",
   "metadata": {},
   "source": [
    "### This shows that while brewery id 6513 serves the strongest ABV beers that brewery id 16866 serves more variety of strong beers."
   ]
  },
  {
   "cell_type": "code",
   "execution_count": 21,
   "metadata": {},
   "outputs": [
    {
     "data": {
      "text/plain": [
       "<matplotlib.axes._subplots.AxesSubplot at 0x1a18cf3828>"
      ]
     },
     "execution_count": 21,
     "metadata": {},
     "output_type": "execute_result"
    },
    {
     "data": {
      "image/png": "[encoded data removed]",
      "text/plain": [
       "<Figure size 432x288 with 1 Axes>"
      ]
     },
     "metadata": {
      "needs_background": "light"
     },
     "output_type": "display_data"
    }
   ],
   "source": [
    "# plot the breweries serving the strongest beers against the overall review of those breweries\n",
    "sns.countplot(x='review_overall', data=df_strong, hue='beer_brewerId')"
   ]
  },
  {
   "cell_type": "markdown",
   "metadata": {},
   "source": [
    "### This shows that although beer_brewerId 6513 serves the strongest beers, it does not have the strongest reviews which matches the negative correlation seen between reviews and beer_ABV on the correlation heatmap."
   ]
  },
  {
   "cell_type": "markdown",
   "metadata": {},
   "source": [
    "## Question2: Which year did beers enjoy the highest ratings?"
   ]
  },
  {
   "cell_type": "code",
   "execution_count": 22,
   "metadata": {},
   "outputs": [],
   "source": [
    "# first convert to readable datetime from unix\n",
    "df1[ 'review_time' ] = pd.to_datetime(df1[ 'review_time' ], unit = 's' )"
   ]
  },
  {
   "cell_type": "code",
   "execution_count": 23,
   "metadata": {},
   "outputs": [
    {
     "data": {
      "text/html": [
       "<div>\n",
       "<style scoped>\n",
       "    .dataframe tbody tr th:only-of-type {\n",
       "        vertical-align: middle;\n",
       "    }\n",
       "\n",
       "    .dataframe tbody tr th {\n",
       "        vertical-align: top;\n",
       "    }\n",
       "\n",
       "    .dataframe thead th {\n",
       "        text-align: right;\n",
       "    }\n",
       "</style>\n",
       "<table border=\"1\" class=\"dataframe\">\n",
       "  <thead>\n",
       "    <tr style=\"text-align: right;\">\n",
       "      <th></th>\n",
       "      <th>beer_ABV</th>\n",
       "      <th>beer_beerId</th>\n",
       "      <th>beer_brewerId</th>\n",
       "      <th>beer_name</th>\n",
       "      <th>beer_style</th>\n",
       "      <th>review_appearance</th>\n",
       "      <th>review_palette</th>\n",
       "      <th>review_overall</th>\n",
       "      <th>review_taste</th>\n",
       "      <th>review_profileName</th>\n",
       "      <th>review_aroma</th>\n",
       "      <th>review_text</th>\n",
       "      <th>review_time</th>\n",
       "    </tr>\n",
       "  </thead>\n",
       "  <tbody>\n",
       "    <tr>\n",
       "      <th>0</th>\n",
       "      <td>5.0</td>\n",
       "      <td>47986</td>\n",
       "      <td>10325</td>\n",
       "      <td>Sausa Weizen</td>\n",
       "      <td>Hefeweizen</td>\n",
       "      <td>2.5</td>\n",
       "      <td>2.0</td>\n",
       "      <td>1.5</td>\n",
       "      <td>1.5</td>\n",
       "      <td>stcules</td>\n",
       "      <td>1.5</td>\n",
       "      <td>A lot of foam. But a lot. In the smell some ba...</td>\n",
       "      <td>2009-02-16 20:57:03</td>\n",
       "    </tr>\n",
       "    <tr>\n",
       "      <th>1</th>\n",
       "      <td>6.2</td>\n",
       "      <td>48213</td>\n",
       "      <td>10325</td>\n",
       "      <td>Red Moon</td>\n",
       "      <td>English Strong Ale</td>\n",
       "      <td>3.0</td>\n",
       "      <td>2.5</td>\n",
       "      <td>3.0</td>\n",
       "      <td>3.0</td>\n",
       "      <td>stcules</td>\n",
       "      <td>3.0</td>\n",
       "      <td>Dark red color, light beige foam, average. In ...</td>\n",
       "      <td>2009-03-01 13:44:57</td>\n",
       "    </tr>\n",
       "    <tr>\n",
       "      <th>2</th>\n",
       "      <td>6.5</td>\n",
       "      <td>48215</td>\n",
       "      <td>10325</td>\n",
       "      <td>Black Horse Black Beer</td>\n",
       "      <td>Foreign / Export Stout</td>\n",
       "      <td>3.0</td>\n",
       "      <td>2.5</td>\n",
       "      <td>3.0</td>\n",
       "      <td>3.0</td>\n",
       "      <td>stcules</td>\n",
       "      <td>3.0</td>\n",
       "      <td>Almost totally black. Beige foam, quite compac...</td>\n",
       "      <td>2009-03-01 14:10:04</td>\n",
       "    </tr>\n",
       "    <tr>\n",
       "      <th>3</th>\n",
       "      <td>5.0</td>\n",
       "      <td>47969</td>\n",
       "      <td>10325</td>\n",
       "      <td>Sausa Pils</td>\n",
       "      <td>German Pilsener</td>\n",
       "      <td>3.5</td>\n",
       "      <td>3.0</td>\n",
       "      <td>3.0</td>\n",
       "      <td>2.5</td>\n",
       "      <td>stcules</td>\n",
       "      <td>3.0</td>\n",
       "      <td>Golden yellow color. White, compact foam, quit...</td>\n",
       "      <td>2009-02-15 19:12:25</td>\n",
       "    </tr>\n",
       "    <tr>\n",
       "      <th>4</th>\n",
       "      <td>7.7</td>\n",
       "      <td>64883</td>\n",
       "      <td>1075</td>\n",
       "      <td>Cauldron DIPA</td>\n",
       "      <td>American Double / Imperial IPA</td>\n",
       "      <td>4.0</td>\n",
       "      <td>4.5</td>\n",
       "      <td>4.0</td>\n",
       "      <td>4.0</td>\n",
       "      <td>johnmichaelsen</td>\n",
       "      <td>4.5</td>\n",
       "      <td>According to the website, the style for the Ca...</td>\n",
       "      <td>2010-12-30 18:53:26</td>\n",
       "    </tr>\n",
       "  </tbody>\n",
       "</table>\n",
       "</div>"
      ],
      "text/plain": [
       "   beer_ABV  beer_beerId  beer_brewerId               beer_name  \\\n",
       "0       5.0        47986          10325            Sausa Weizen   \n",
       "1       6.2        48213          10325                Red Moon   \n",
       "2       6.5        48215          10325  Black Horse Black Beer   \n",
       "3       5.0        47969          10325              Sausa Pils   \n",
       "4       7.7        64883           1075           Cauldron DIPA   \n",
       "\n",
       "                       beer_style  review_appearance  review_palette  \\\n",
       "0                      Hefeweizen                2.5             2.0   \n",
       "1              English Strong Ale                3.0             2.5   \n",
       "2          Foreign / Export Stout                3.0             2.5   \n",
       "3                 German Pilsener                3.5             3.0   \n",
       "4  American Double / Imperial IPA                4.0             4.5   \n",
       "\n",
       "   review_overall  review_taste review_profileName  review_aroma  \\\n",
       "0             1.5           1.5            stcules           1.5   \n",
       "1             3.0           3.0            stcules           3.0   \n",
       "2             3.0           3.0            stcules           3.0   \n",
       "3             3.0           2.5            stcules           3.0   \n",
       "4             4.0           4.0     johnmichaelsen           4.5   \n",
       "\n",
       "                                         review_text         review_time  \n",
       "0  A lot of foam. But a lot. In the smell some ba... 2009-02-16 20:57:03  \n",
       "1  Dark red color, light beige foam, average. In ... 2009-03-01 13:44:57  \n",
       "2  Almost totally black. Beige foam, quite compac... 2009-03-01 14:10:04  \n",
       "3  Golden yellow color. White, compact foam, quit... 2009-02-15 19:12:25  \n",
       "4  According to the website, the style for the Ca... 2010-12-30 18:53:26  "
      ]
     },
     "execution_count": 23,
     "metadata": {},
     "output_type": "execute_result"
    }
   ],
   "source": [
    "# take a look at dataframe\n",
    "df1.head()"
   ]
  },
  {
   "cell_type": "code",
   "execution_count": 24,
   "metadata": {},
   "outputs": [
    {
     "data": {
      "text/plain": [
       "beer_ABV                     float64\n",
       "beer_beerId                    int64\n",
       "beer_brewerId                  int64\n",
       "beer_name                     object\n",
       "beer_style                    object\n",
       "review_appearance            float64\n",
       "review_palette               float64\n",
       "review_overall               float64\n",
       "review_taste                 float64\n",
       "review_profileName            object\n",
       "review_aroma                 float64\n",
       "review_text                   object\n",
       "review_time           datetime64[ns]\n",
       "dtype: object"
      ]
     },
     "execution_count": 24,
     "metadata": {},
     "output_type": "execute_result"
    }
   ],
   "source": [
    "# make sure that date is in datetime\n",
    "df1.dtypes"
   ]
  },
  {
   "cell_type": "code",
   "execution_count": 25,
   "metadata": {},
   "outputs": [
    {
     "data": {
      "text/plain": [
       "Timestamp('2012-01-11 10:10:56')"
      ]
     },
     "execution_count": 25,
     "metadata": {},
     "output_type": "execute_result"
    }
   ],
   "source": [
    "# get max time date stamp\n",
    "df1.review_time.max()"
   ]
  },
  {
   "cell_type": "code",
   "execution_count": 26,
   "metadata": {},
   "outputs": [
    {
     "data": {
      "text/plain": [
       "Timestamp('1998-01-10 00:00:01')"
      ]
     },
     "execution_count": 26,
     "metadata": {},
     "output_type": "execute_result"
    }
   ],
   "source": [
    "# get min time date stamp\n",
    "df1.review_time.min()"
   ]
  },
  {
   "cell_type": "markdown",
   "metadata": {},
   "source": [
    "### This shows the dataset spans from 1998 to 2012-almost 15 years."
   ]
  },
  {
   "cell_type": "code",
   "execution_count": 27,
   "metadata": {},
   "outputs": [],
   "source": [
    "# create column in data frame for year only\n",
    "df1['year'] = df1.review_time.dt.year"
   ]
  },
  {
   "cell_type": "code",
   "execution_count": 28,
   "metadata": {},
   "outputs": [
    {
     "data": {
      "text/plain": [
       "<matplotlib.axes._subplots.AxesSubplot at 0x1a195bc278>"
      ]
     },
     "execution_count": 28,
     "metadata": {},
     "output_type": "execute_result"
    },
    {
     "data": {
      "image/png": "[encoded data removed]",
      "text/plain": [
       "<Figure size 432x288 with 1 Axes>"
      ]
     },
     "metadata": {
      "needs_background": "light"
     },
     "output_type": "display_data"
    }
   ],
   "source": [
    "# plot year against count to notice any trends from year to year\n",
    "df1.year.value_counts().sort_index().plot()"
   ]
  },
  {
   "cell_type": "markdown",
   "metadata": {},
   "source": [
    "### This shows the reviews have steadily climbed over time with the highest count of reviews in 2011"
   ]
  },
  {
   "cell_type": "code",
   "execution_count": 29,
   "metadata": {},
   "outputs": [
    {
     "data": {
      "text/plain": [
       "year\n",
       "1998    3.891304\n",
       "1999    4.000000\n",
       "2000    4.181818\n",
       "2001    3.927741\n",
       "2002    3.798905\n",
       "2003    3.752900\n",
       "2004    3.794630\n",
       "2005    3.832042\n",
       "2006    3.798192\n",
       "2007    3.809552\n",
       "2008    3.833939\n",
       "2009    3.864390\n",
       "2010    3.866139\n",
       "2011    3.828093\n",
       "2012    3.829717\n",
       "Name: review_overall, dtype: float64"
      ]
     },
     "execution_count": 29,
     "metadata": {},
     "output_type": "execute_result"
    }
   ],
   "source": [
    "# do a groupby between reviews and year to determine if 1998,1999, or 2000 have highest average reviews\n",
    "df1.groupby('year').review_overall.mean()"
   ]
  },
  {
   "cell_type": "markdown",
   "metadata": {},
   "source": [
    "### Data exploration indicates the year 2000 had the highest average reviews and the year 2003 had the lowest average reviews"
   ]
  },
  {
   "cell_type": "code",
   "execution_count": 30,
   "metadata": {},
   "outputs": [
    {
     "data": {
      "text/plain": [
       "<matplotlib.axes._subplots.AxesSubplot at 0x1a19ade4a8>"
      ]
     },
     "execution_count": 30,
     "metadata": {},
     "output_type": "execute_result"
    },
    {
     "data": {
      "image/png": "[encoded data removed]",
      "text/plain": [
       "<Figure size 432x288 with 1 Axes>"
      ]
     },
     "metadata": {
      "needs_background": "light"
     },
     "output_type": "display_data"
    }
   ],
   "source": [
    "# perform groupby barplot between overall_review and year\n",
    "df1.groupby('year').review_overall.mean().plot(kind='bar')"
   ]
  },
  {
   "cell_type": "markdown",
   "metadata": {},
   "source": [
    "### Data visualization shows that 1998, 1999 and 2000 enjoyed the highest reviews and that 2003 had the lowest reviews. "
   ]
  },
  {
   "cell_type": "markdown",
   "metadata": {},
   "source": [
    "## Answer2: In conclusion, based on data visualizations and statistical analysis, the year 2000 enjoyed the highest average beer ratings.  Data exploration and visualization shows that 1998 and 1999 also had high reviews and this could suggest that there were less reviews written in those earlier years or that folks gave reviews with higher rating in those earlier years.  "
   ]
  },
  {
   "cell_type": "markdown",
   "metadata": {},
   "source": [
    "## Question3: Based on the user’s ratings which factors are important among taste, aroma, appearance, and palette?"
   ]
  },
  {
   "cell_type": "code",
   "execution_count": 31,
   "metadata": {},
   "outputs": [],
   "source": [
    "# drop extra columns not needed in analysis\n",
    "df3 = df2.drop(labels=['beer_ABV','review_time'], axis = 1)"
   ]
  },
  {
   "cell_type": "code",
   "execution_count": 32,
   "metadata": {},
   "outputs": [
    {
     "data": {
      "text/plain": [
       "review_overall       1.000000\n",
       "review_aroma         0.783002\n",
       "review_taste         0.692454\n",
       "review_palette       0.601971\n",
       "review_appearance    0.486687\n",
       "Name: review_overall, dtype: float64"
      ]
     },
     "execution_count": 32,
     "metadata": {},
     "output_type": "execute_result"
    }
   ],
   "source": [
    "# first take a look at statistical correlation values between ratings and all other features\n",
    "df3.corr()['review_overall'].sort_values(ascending=False)"
   ]
  },
  {
   "cell_type": "code",
   "execution_count": 33,
   "metadata": {},
   "outputs": [
    {
     "data": {
      "text/plain": [
       "<matplotlib.axes._subplots.AxesSubplot at 0x1a19b35e10>"
      ]
     },
     "execution_count": 33,
     "metadata": {},
     "output_type": "execute_result"
    },
    {
     "data": {
      "image/png": "[encoded data removed]",
      "text/plain": [
       "<Figure size 432x288 with 1 Axes>"
      ]
     },
     "metadata": {
      "needs_background": "light"
     },
     "output_type": "display_data"
    }
   ],
   "source": [
    "# now take a look visually at the correlations between reviews and aroma, taste, palette, and appearance. \n",
    "df3.corr()['review_overall'].sort_values(ascending=False).plot(kind = 'bar')"
   ]
  },
  {
   "cell_type": "code",
   "execution_count": 34,
   "metadata": {},
   "outputs": [
    {
     "data": {
      "image/png": "[encoded data removed]",
      "text/plain": [
       "<Figure size 720x720 with 2 Axes>"
      ]
     },
     "metadata": {
      "needs_background": "light"
     },
     "output_type": "display_data"
    }
   ],
   "source": [
    "#create a correlation heatmap\n",
    "corr_plot = df3.corr()\n",
    "fig, ax = plt.subplots(figsize = (10,10))\n",
    "colormap=sns.diverging_palette(220,10, as_cmap=True)\n",
    "_ = sns.heatmap(corr_plot,cmap=colormap,annot=True,fmt=\".2f\", xticklabels=corr_plot.columns, yticklabels=corr_plot.columns)\n",
    "plt.show()"
   ]
  },
  {
   "cell_type": "markdown",
   "metadata": {},
   "source": [
    "## The data visualization and statistical analyses show that review aroma is the most correlated with overall user rating followed by review_taste, review_palette and review_appearance. Review_appearance is the least correlated with overall user ratings.  The correlation heatmap also shows there is strong colinearity between review_aroma and review_taste as well as between review_aroma and review_palette."
   ]
  },
  {
   "cell_type": "code",
   "execution_count": 35,
   "metadata": {},
   "outputs": [
    {
     "name": "stdout",
     "output_type": "stream",
     "text": [
      "(528636, 4)\n",
      "<class 'numpy.ndarray'>\n"
     ]
    }
   ],
   "source": [
    "# create ml model to see which feature is the strongest in determining overall rating\n",
    "x_cols = ['review_aroma', 'review_taste', 'review_palette','review_appearance']\n",
    "X = df[x_cols].as_matrix()\n",
    "print(X.shape)\n",
    "print(type(X))"
   ]
  },
  {
   "cell_type": "code",
   "execution_count": 36,
   "metadata": {},
   "outputs": [
    {
     "name": "stdout",
     "output_type": "stream",
     "text": [
      "<class 'numpy.ndarray'>\n",
      "(528636,)\n"
     ]
    }
   ],
   "source": [
    "# assign the predictor(target) variable\n",
    "y = df['review_overall'].values\n",
    "print(type(y))\n",
    "print(y.shape)"
   ]
  },
  {
   "cell_type": "code",
   "execution_count": 37,
   "metadata": {},
   "outputs": [
    {
     "name": "stdout",
     "output_type": "stream",
     "text": [
      "accuracy on the training subset:0.666\n",
      "accuracy on the test subset:0.653\n"
     ]
    }
   ],
   "source": [
    "# create a random forest regressor model between the different features and the prediction of overall user rating \n",
    "# choose random forest regressor since it has less bias than linear regression model\n",
    "from sklearn.ensemble import RandomForestRegressor\n",
    "from sklearn.model_selection import train_test_split\n",
    "X_train, X_test, y_train, y_test = train_test_split(X,y,random_state=1)\n",
    "rand_reg = RandomForestRegressor(n_estimators=100,random_state=1)\n",
    "rand_reg.fit(X_train,y_train)\n",
    "print(\"accuracy on the training subset:{:.3f}\".format(rand_reg.score(X_train,y_train)))\n",
    "print(\"accuracy on the test subset:{:.3f}\".format(rand_reg.score(X_test,y_test)))"
   ]
  },
  {
   "cell_type": "code",
   "execution_count": 38,
   "metadata": {},
   "outputs": [
    {
     "name": "stdout",
     "output_type": "stream",
     "text": [
      "accuracy on the training subset:0.623\n",
      "accuracy on the test subset:0.622\n"
     ]
    }
   ],
   "source": [
    "# create a random forest regressor model between review_aroma and the prediction of overall user rating \n",
    "x1_cols = ['review_aroma']\n",
    "X1 = df[x1_cols].as_matrix()\n",
    "X_train, X_test, y_train, y_test = train_test_split(X1,y,random_state=1)\n",
    "rand_reg = RandomForestRegressor(n_estimators=100,random_state=1)\n",
    "rand_reg.fit(X_train,y_train)\n",
    "print(\"accuracy on the training subset:{:.3f}\".format(rand_reg.score(X_train,y_train)))\n",
    "print(\"accuracy on the test subset:{:.3f}\".format(rand_reg.score(X_test,y_test)))"
   ]
  },
  {
   "cell_type": "code",
   "execution_count": 39,
   "metadata": {},
   "outputs": [
    {
     "name": "stdout",
     "output_type": "stream",
     "text": [
      "accuracy on the training subset:0.488\n",
      "accuracy on the test subset:0.488\n"
     ]
    }
   ],
   "source": [
    "# create a random forest regressor model between review_taste and the prediction of overall user rating \n",
    "x2_cols = ['review_taste']\n",
    "X2 = df[x2_cols].as_matrix()\n",
    "X_train, X_test, y_train, y_test = train_test_split(X2,y,random_state=1)\n",
    "rand_reg = RandomForestRegressor(n_estimators=100,random_state=1)\n",
    "rand_reg.fit(X_train,y_train)\n",
    "print(\"accuracy on the training subset:{:.3f}\".format(rand_reg.score(X_train,y_train)))\n",
    "print(\"accuracy on the test subset:{:.3f}\".format(rand_reg.score(X_test,y_test)))"
   ]
  },
  {
   "cell_type": "code",
   "execution_count": 40,
   "metadata": {},
   "outputs": [
    {
     "name": "stdout",
     "output_type": "stream",
     "text": [
      "accuracy on the training subset:0.373\n",
      "accuracy on the test subset:0.374\n"
     ]
    }
   ],
   "source": [
    "# create a random forest regressor model between review_palette and the prediction of overall user rating \n",
    "x3_cols = ['review_palette']\n",
    "X3 = df[x3_cols].as_matrix()\n",
    "X_train, X_test, y_train, y_test = train_test_split(X3,y,random_state=1)\n",
    "rand_reg = RandomForestRegressor(n_estimators=100,random_state=1)\n",
    "rand_reg.fit(X_train,y_train)\n",
    "print(\"accuracy on the training subset:{:.3f}\".format(rand_reg.score(X_train,y_train)))\n",
    "print(\"accuracy on the test subset:{:.3f}\".format(rand_reg.score(X_test,y_test)))"
   ]
  },
  {
   "cell_type": "code",
   "execution_count": 41,
   "metadata": {},
   "outputs": [
    {
     "name": "stdout",
     "output_type": "stream",
     "text": [
      "accuracy on the training subset:0.243\n",
      "accuracy on the test subset:0.240\n"
     ]
    }
   ],
   "source": [
    "# create a random forest regressor model between review_appearance and the prediction of overall user rating \n",
    "x4_cols = ['review_appearance']\n",
    "X4 = df[x4_cols].as_matrix()\n",
    "X_train, X_test, y_train, y_test = train_test_split(X4,y,random_state=1)\n",
    "rand_reg = RandomForestRegressor(n_estimators=100,random_state=1)\n",
    "rand_reg.fit(X_train,y_train)\n",
    "print(\"accuracy on the training subset:{:.3f}\".format(rand_reg.score(X_train,y_train)))\n",
    "print(\"accuracy on the test subset:{:.3f}\".format(rand_reg.score(X_test,y_test)))"
   ]
  },
  {
   "cell_type": "markdown",
   "metadata": {},
   "source": [
    "## The Random Forest Regressor creates the best predictive model with all four features together. However, there is not much difference in accuracy between all four features and review_aroma alone.  Therefore, the model rates the features in the following order based on model accuracy: 1. review_aroma 2. review_taste 3. review_palette 4. review_appearance"
   ]
  },
  {
   "cell_type": "code",
   "execution_count": 42,
   "metadata": {},
   "outputs": [
    {
     "name": "stdout",
     "output_type": "stream",
     "text": [
      "(528636, 4) (528636,)\n"
     ]
    }
   ],
   "source": [
    "# define dataset\n",
    "x5_cols = ['review_aroma', 'review_taste', 'review_palette','review_appearance']\n",
    "X5 = df[x5_cols].as_matrix()\n",
    "# summarize the dataset\n",
    "print(X5.shape, y.shape)"
   ]
  },
  {
   "cell_type": "code",
   "execution_count": 43,
   "metadata": {},
   "outputs": [
    {
     "name": "stdout",
     "output_type": "stream",
     "text": [
      "Feature: 0, Score: 0.92631\n",
      "Feature: 1, Score: 0.05559\n",
      "Feature: 2, Score: 0.00859\n",
      "Feature: 3, Score: 0.00950\n"
     ]
    },
    {
     "data": {
      "image/png": "[encoded data removed]",
      "text/plain": [
       "<Figure size 432x288 with 1 Axes>"
      ]
     },
     "metadata": {
      "needs_background": "light"
     },
     "output_type": "display_data"
    }
   ],
   "source": [
    "#utilize weighted feature importance on Random Forest Regressor and also plot answer\n",
    "from sklearn.ensemble import RandomForestRegressor\n",
    "from matplotlib import pyplot\n",
    "# define the model\n",
    "model = RandomForestRegressor()\n",
    "# fit the model\n",
    "model.fit(X5, y)\n",
    "# get importance\n",
    "importance = model.feature_importances_\n",
    "# summarize feature importance\n",
    "for i,v in enumerate(importance):\n",
    "\tprint('Feature: %0d, Score: %.5f' % (i,v))\n",
    "# plot feature importance\n",
    "pyplot.bar([x for x in range(len(importance))], importance)\n",
    "pyplot.show()"
   ]
  },
  {
   "cell_type": "markdown",
   "metadata": {},
   "source": [
    "## Based on the random forest regression weighted feature selection, review_aroma and review_taste are the most important features.  Meanwhile, review_palette and review_appearance are not weighted very important at all."
   ]
  },
  {
   "cell_type": "code",
   "execution_count": 44,
   "metadata": {},
   "outputs": [
    {
     "name": "stdout",
     "output_type": "stream",
     "text": [
      "(422908, 4) (105728, 4) (422908,) (105728,)\n"
     ]
    }
   ],
   "source": [
    "# create a linear regression model for features chosen\n",
    "from sklearn.linear_model import LinearRegression\n",
    "from sklearn import linear_model\n",
    "from sklearn.model_selection import train_test_split\n",
    "linreg = LinearRegression()\n",
    "X_train, X_test, y_train, y_test = train_test_split(X,y,train_size = 0.8,random_state=42)\n",
    "linreg.fit(X_train,y_train)\n",
    "print(X_train.shape, X_test.shape, y_train.shape, y_test.shape)"
   ]
  },
  {
   "cell_type": "code",
   "execution_count": 45,
   "metadata": {},
   "outputs": [
    {
     "name": "stdout",
     "output_type": "stream",
     "text": [
      "root mean square error is: 0.42229643091923197\n",
      "mean square error is: 0.17833427556712164\n",
      "r2 score is: 0.6475744241520862\n"
     ]
    }
   ],
   "source": [
    "# take a look at R^2 score for linear regression model\n",
    "from sklearn.metrics import mean_squared_error\n",
    "y_pred = linreg.predict(X_test)\n",
    "mse = np.mean((y_pred - y_test) **2)\n",
    "mse_r = mse ** (1/2)\n",
    "print(\"root mean square error is:\", mse_r)\n",
    "print(\"mean square error is:\", mean_squared_error(y_test, y_pred))\n",
    "r2_score = linreg. score(X,y)\n",
    "print(\"r2 score is:\", r2_score)"
   ]
  },
  {
   "cell_type": "code",
   "execution_count": 46,
   "metadata": {},
   "outputs": [
    {
     "name": "stdout",
     "output_type": "stream",
     "text": [
      "                            OLS Regression Results                            \n",
      "==============================================================================\n",
      "Dep. Variable:         review_overall   R-squared:                       0.613\n",
      "Model:                            OLS   Adj. R-squared:                  0.613\n",
      "Method:                 Least Squares   F-statistic:                 8.376e+05\n",
      "Date:                Thu, 16 Jul 2020   Prob (F-statistic):               0.00\n",
      "Time:                        07:29:13   Log-Likelihood:            -3.1802e+05\n",
      "No. Observations:              528636   AIC:                         6.361e+05\n",
      "Df Residuals:                  528634   BIC:                         6.361e+05\n",
      "Df Model:                           1                                         \n",
      "Covariance Type:            nonrobust                                         \n",
      "================================================================================\n",
      "                   coef    std err          t      P>|t|      [0.025      0.975]\n",
      "--------------------------------------------------------------------------------\n",
      "Intercept        0.8812      0.003    268.490      0.000       0.875       0.888\n",
      "review_aroma     0.7733      0.001    915.221      0.000       0.772       0.775\n",
      "==============================================================================\n",
      "Omnibus:                    23144.296   Durbin-Watson:                   1.813\n",
      "Prob(Omnibus):                  0.000   Jarque-Bera (JB):            67156.808\n",
      "Skew:                          -0.179   Prob(JB):                         0.00\n",
      "Kurtosis:                       4.709   Cond. No.                         22.3\n",
      "==============================================================================\n",
      "\n",
      "Warnings:\n",
      "[1] Standard Errors assume that the covariance matrix of the errors is correctly specified.\n"
     ]
    }
   ],
   "source": [
    "# Import regression modules and utilize ordinary least squares(OLS) to look at rsquared and coeff for review_aroma\n",
    "import statsmodels.api as sm\n",
    "from statsmodels.formula.api import ols\n",
    "m = ols('review_overall ~ review_aroma',df).fit()\n",
    "print(m.summary())"
   ]
  },
  {
   "cell_type": "markdown",
   "metadata": {},
   "source": [
    "## The review_aroma feature has an adjusted R2 of .61 and coefficient value of .77.  There is not much difference between the R2 for all four features(R2 = .64) and review_aroma alone.  This agrees with weighted feature selection as well as random forest regressor accuracy."
   ]
  },
  {
   "cell_type": "code",
   "execution_count": 47,
   "metadata": {},
   "outputs": [
    {
     "name": "stdout",
     "output_type": "stream",
     "text": [
      "                            OLS Regression Results                            \n",
      "==============================================================================\n",
      "Dep. Variable:         review_overall   R-squared:                       0.479\n",
      "Model:                            OLS   Adj. R-squared:                  0.479\n",
      "Method:                 Least Squares   F-statistic:                 4.869e+05\n",
      "Date:                Thu, 16 Jul 2020   Prob (F-statistic):               0.00\n",
      "Time:                        07:29:13   Log-Likelihood:            -3.9643e+05\n",
      "No. Observations:              528636   AIC:                         7.929e+05\n",
      "Df Residuals:                  528634   BIC:                         7.929e+05\n",
      "Df Model:                           1                                         \n",
      "Covariance Type:            nonrobust                                         \n",
      "================================================================================\n",
      "                   coef    std err          t      P>|t|      [0.025      0.975]\n",
      "--------------------------------------------------------------------------------\n",
      "Intercept        1.0658      0.004    264.602      0.000       1.058       1.074\n",
      "review_taste     0.7348      0.001    697.796      0.000       0.733       0.737\n",
      "==============================================================================\n",
      "Omnibus:                    44014.287   Durbin-Watson:                   1.797\n",
      "Prob(Omnibus):                  0.000   Jarque-Bera (JB):           105319.481\n",
      "Skew:                          -0.511   Prob(JB):                         0.00\n",
      "Kurtosis:                       4.933   Cond. No.                         23.3\n",
      "==============================================================================\n",
      "\n",
      "Warnings:\n",
      "[1] Standard Errors assume that the covariance matrix of the errors is correctly specified.\n"
     ]
    }
   ],
   "source": [
    "# Use OLS stats to look at feature review_taste\n",
    "m = ols('review_overall ~ review_taste',df).fit()\n",
    "print(m.summary())"
   ]
  },
  {
   "cell_type": "markdown",
   "metadata": {},
   "source": [
    "## The review_taste feature has an adjusted R2 of .48 and a coefficient value of .73"
   ]
  },
  {
   "cell_type": "code",
   "execution_count": 48,
   "metadata": {},
   "outputs": [
    {
     "name": "stdout",
     "output_type": "stream",
     "text": [
      "                            OLS Regression Results                            \n",
      "==============================================================================\n",
      "Dep. Variable:         review_overall   R-squared:                       0.362\n",
      "Model:                            OLS   Adj. R-squared:                  0.362\n",
      "Method:                 Least Squares   F-statistic:                 3.004e+05\n",
      "Date:                Thu, 16 Jul 2020   Prob (F-statistic):               0.00\n",
      "Time:                        07:29:14   Log-Likelihood:            -4.5007e+05\n",
      "No. Observations:              528636   AIC:                         9.001e+05\n",
      "Df Residuals:                  528634   BIC:                         9.002e+05\n",
      "Df Model:                           1                                         \n",
      "Covariance Type:            nonrobust                                         \n",
      "==================================================================================\n",
      "                     coef    std err          t      P>|t|      [0.025      0.975]\n",
      "----------------------------------------------------------------------------------\n",
      "Intercept          1.4890      0.004    342.505      0.000       1.481       1.498\n",
      "review_palette     0.6236      0.001    548.078      0.000       0.621       0.626\n",
      "==============================================================================\n",
      "Omnibus:                    46127.151   Durbin-Watson:                   1.738\n",
      "Prob(Omnibus):                  0.000   Jarque-Bera (JB):            95139.735\n",
      "Skew:                          -0.578   Prob(JB):                         0.00\n",
      "Kurtosis:                       4.728   Cond. No.                         22.7\n",
      "==============================================================================\n",
      "\n",
      "Warnings:\n",
      "[1] Standard Errors assume that the covariance matrix of the errors is correctly specified.\n"
     ]
    }
   ],
   "source": [
    "# Use OLS stats to look at feature review_palette\n",
    "m = ols('review_overall ~ review_palette',df).fit()\n",
    "print(m.summary())"
   ]
  },
  {
   "cell_type": "markdown",
   "metadata": {},
   "source": [
    "##  The review_palette feature has an adjusted R2 of .36 and a coefficient value of .62"
   ]
  },
  {
   "cell_type": "code",
   "execution_count": 49,
   "metadata": {},
   "outputs": [
    {
     "name": "stdout",
     "output_type": "stream",
     "text": [
      "                            OLS Regression Results                            \n",
      "==============================================================================\n",
      "Dep. Variable:         review_overall   R-squared:                       0.237\n",
      "Model:                            OLS   Adj. R-squared:                  0.237\n",
      "Method:                 Least Squares   F-statistic:                 1.641e+05\n",
      "Date:                Thu, 16 Jul 2020   Prob (F-statistic):               0.00\n",
      "Time:                        07:29:14   Log-Likelihood:            -4.9756e+05\n",
      "No. Observations:              528636   AIC:                         9.951e+05\n",
      "Df Residuals:                  528634   BIC:                         9.951e+05\n",
      "Df Model:                           1                                         \n",
      "Covariance Type:            nonrobust                                         \n",
      "=====================================================================================\n",
      "                        coef    std err          t      P>|t|      [0.025      0.975]\n",
      "-------------------------------------------------------------------------------------\n",
      "Intercept             1.6225      0.006    293.711      0.000       1.612       1.633\n",
      "review_appearance     0.5721      0.001    405.061      0.000       0.569       0.575\n",
      "==============================================================================\n",
      "Omnibus:                    68574.033   Durbin-Watson:                   1.690\n",
      "Prob(Omnibus):                  0.000   Jarque-Bera (JB):           135866.395\n",
      "Skew:                          -0.821   Prob(JB):                         0.00\n",
      "Kurtosis:                       4.863   Cond. No.                         26.9\n",
      "==============================================================================\n",
      "\n",
      "Warnings:\n",
      "[1] Standard Errors assume that the covariance matrix of the errors is correctly specified.\n"
     ]
    }
   ],
   "source": [
    "# Use OLS stats to look at feature review_appearance\n",
    "m = ols('review_overall ~ review_appearance',df).fit()\n",
    "print(m.summary())"
   ]
  },
  {
   "cell_type": "markdown",
   "metadata": {},
   "source": [
    "## The review_appearance feature has an adjusted R2 of .24 and a coefficient value of .57.  "
   ]
  },
  {
   "cell_type": "markdown",
   "metadata": {},
   "source": [
    "## Thus, the linear regression model shows that review_aroma is the most important feature followed by review_taste, review_palette and review_appearance.  "
   ]
  },
  {
   "cell_type": "markdown",
   "metadata": {},
   "source": [
    "## Answer3: In conclusion,by running the features through different predictive machine learning and statistical tools, review_aroma was found to be the strongest predictor for overall review. "
   ]
  },
  {
   "cell_type": "markdown",
   "metadata": {},
   "source": [
    "## Question4: If you were to recommend 3 to 5 beers to your friends based on this data which ones will you recommend?"
   ]
  },
  {
   "cell_type": "code",
   "execution_count": 50,
   "metadata": {},
   "outputs": [
    {
     "data": {
      "text/html": [
       "<div>\n",
       "<style scoped>\n",
       "    .dataframe tbody tr th:only-of-type {\n",
       "        vertical-align: middle;\n",
       "    }\n",
       "\n",
       "    .dataframe tbody tr th {\n",
       "        vertical-align: top;\n",
       "    }\n",
       "\n",
       "    .dataframe thead th {\n",
       "        text-align: right;\n",
       "    }\n",
       "</style>\n",
       "<table border=\"1\" class=\"dataframe\">\n",
       "  <thead>\n",
       "    <tr style=\"text-align: right;\">\n",
       "      <th></th>\n",
       "      <th>mean</th>\n",
       "      <th>count</th>\n",
       "    </tr>\n",
       "    <tr>\n",
       "      <th>beer_name</th>\n",
       "      <th></th>\n",
       "      <th></th>\n",
       "    </tr>\n",
       "  </thead>\n",
       "  <tbody>\n",
       "    <tr>\n",
       "      <th>\"100\" Pale Ale</th>\n",
       "      <td>4.000000</td>\n",
       "      <td>1</td>\n",
       "    </tr>\n",
       "    <tr>\n",
       "      <th>\"33\" Export</th>\n",
       "      <td>3.000000</td>\n",
       "      <td>3</td>\n",
       "    </tr>\n",
       "    <tr>\n",
       "      <th>\"76\" Anniversary Ale</th>\n",
       "      <td>4.000000</td>\n",
       "      <td>3</td>\n",
       "    </tr>\n",
       "    <tr>\n",
       "      <th>\"76\" Anniversary Ale With English Hops</th>\n",
       "      <td>4.000000</td>\n",
       "      <td>1</td>\n",
       "    </tr>\n",
       "    <tr>\n",
       "      <th>\"Fade To Black\" Porter</th>\n",
       "      <td>4.000000</td>\n",
       "      <td>1</td>\n",
       "    </tr>\n",
       "    <tr>\n",
       "      <th>\"Great Satchmo\" Stout</th>\n",
       "      <td>4.000000</td>\n",
       "      <td>1</td>\n",
       "    </tr>\n",
       "    <tr>\n",
       "      <th>\"Jessica &amp; Brendan's\" Bridal Ale</th>\n",
       "      <td>2.916667</td>\n",
       "      <td>6</td>\n",
       "    </tr>\n",
       "    <tr>\n",
       "      <th>\"Just One More\" Scotch Ale</th>\n",
       "      <td>3.625000</td>\n",
       "      <td>4</td>\n",
       "    </tr>\n",
       "    <tr>\n",
       "      <th>\"Nein Toll Bier\" German Alt</th>\n",
       "      <td>4.000000</td>\n",
       "      <td>1</td>\n",
       "    </tr>\n",
       "    <tr>\n",
       "      <th>\"O Smokey Night\"</th>\n",
       "      <td>3.500000</td>\n",
       "      <td>1</td>\n",
       "    </tr>\n",
       "  </tbody>\n",
       "</table>\n",
       "</div>"
      ],
      "text/plain": [
       "                                            mean  count\n",
       "beer_name                                              \n",
       "\"100\" Pale Ale                          4.000000      1\n",
       "\"33\" Export                             3.000000      3\n",
       "\"76\" Anniversary Ale                    4.000000      3\n",
       "\"76\" Anniversary Ale With English Hops  4.000000      1\n",
       "\"Fade To Black\" Porter                  4.000000      1\n",
       "\"Great Satchmo\" Stout                   4.000000      1\n",
       "\"Jessica & Brendan's\" Bridal Ale        2.916667      6\n",
       "\"Just One More\" Scotch Ale              3.625000      4\n",
       "\"Nein Toll Bier\" German Alt             4.000000      1\n",
       "\"O Smokey Night\"                        3.500000      1"
      ]
     },
     "execution_count": 50,
     "metadata": {},
     "output_type": "execute_result"
    }
   ],
   "source": [
    "df_rate = df.groupby('beer_name').review_overall.agg(['mean','count'])\n",
    "df_rate.head(10)"
   ]
  },
  {
   "cell_type": "code",
   "execution_count": 51,
   "metadata": {},
   "outputs": [
    {
     "data": {
      "text/html": [
       "<div>\n",
       "<style scoped>\n",
       "    .dataframe tbody tr th:only-of-type {\n",
       "        vertical-align: middle;\n",
       "    }\n",
       "\n",
       "    .dataframe tbody tr th {\n",
       "        vertical-align: top;\n",
       "    }\n",
       "\n",
       "    .dataframe thead th {\n",
       "        text-align: right;\n",
       "    }\n",
       "</style>\n",
       "<table border=\"1\" class=\"dataframe\">\n",
       "  <thead>\n",
       "    <tr style=\"text-align: right;\">\n",
       "      <th></th>\n",
       "      <th>beer_ABV</th>\n",
       "      <th>beer_beerId</th>\n",
       "      <th>beer_brewerId</th>\n",
       "      <th>beer_name</th>\n",
       "      <th>beer_style</th>\n",
       "      <th>review_appearance</th>\n",
       "      <th>review_palette</th>\n",
       "      <th>review_overall</th>\n",
       "      <th>review_taste</th>\n",
       "      <th>review_profileName</th>\n",
       "      <th>review_aroma</th>\n",
       "      <th>review_text</th>\n",
       "      <th>review_time</th>\n",
       "    </tr>\n",
       "  </thead>\n",
       "  <tbody>\n",
       "    <tr>\n",
       "      <th>433</th>\n",
       "      <td>6.1</td>\n",
       "      <td>10784</td>\n",
       "      <td>1075</td>\n",
       "      <td>Caldera IPA</td>\n",
       "      <td>American IPA</td>\n",
       "      <td>5.0</td>\n",
       "      <td>5.0</td>\n",
       "      <td>5.0</td>\n",
       "      <td>5.0</td>\n",
       "      <td>vicsju1991</td>\n",
       "      <td>5.0</td>\n",
       "      <td>12 oz can poured into duvel snifter A - pours ...</td>\n",
       "      <td>1325980456</td>\n",
       "    </tr>\n",
       "    <tr>\n",
       "      <th>1712</th>\n",
       "      <td>5.3</td>\n",
       "      <td>16491</td>\n",
       "      <td>1454</td>\n",
       "      <td>T.J.'s Best Bitter</td>\n",
       "      <td>English Bitter</td>\n",
       "      <td>5.0</td>\n",
       "      <td>5.0</td>\n",
       "      <td>5.0</td>\n",
       "      <td>5.0</td>\n",
       "      <td>shbobdb</td>\n",
       "      <td>5.0</td>\n",
       "      <td>Holy crap. This beer is amazing. Wow. Holy cra...</td>\n",
       "      <td>1182392570</td>\n",
       "    </tr>\n",
       "    <tr>\n",
       "      <th>1751</th>\n",
       "      <td>5.5</td>\n",
       "      <td>15660</td>\n",
       "      <td>1454</td>\n",
       "      <td>Wobbly Bob APA</td>\n",
       "      <td>American Pale Ale (APA)</td>\n",
       "      <td>5.0</td>\n",
       "      <td>5.0</td>\n",
       "      <td>5.0</td>\n",
       "      <td>5.0</td>\n",
       "      <td>908carson</td>\n",
       "      <td>5.0</td>\n",
       "      <td>My first and only perfect score. I'm not sure ...</td>\n",
       "      <td>1288538410</td>\n",
       "    </tr>\n",
       "    <tr>\n",
       "      <th>2113</th>\n",
       "      <td>4.5</td>\n",
       "      <td>1557</td>\n",
       "      <td>577</td>\n",
       "      <td>Black Cuillin</td>\n",
       "      <td>Scottish Ale</td>\n",
       "      <td>5.0</td>\n",
       "      <td>5.0</td>\n",
       "      <td>5.0</td>\n",
       "      <td>5.0</td>\n",
       "      <td>dennis</td>\n",
       "      <td>5.0</td>\n",
       "      <td>Roasted oatmeal and honey. Thick dark but not ...</td>\n",
       "      <td>1000848115</td>\n",
       "    </tr>\n",
       "    <tr>\n",
       "      <th>2380</th>\n",
       "      <td>4.8</td>\n",
       "      <td>61800</td>\n",
       "      <td>16859</td>\n",
       "      <td>Blonde Ambition</td>\n",
       "      <td>American Blonde Ale</td>\n",
       "      <td>5.0</td>\n",
       "      <td>5.0</td>\n",
       "      <td>5.0</td>\n",
       "      <td>5.0</td>\n",
       "      <td>cstrong821</td>\n",
       "      <td>5.0</td>\n",
       "      <td>A- great golden color, light foam. S- somewhat...</td>\n",
       "      <td>1313808291</td>\n",
       "    </tr>\n",
       "  </tbody>\n",
       "</table>\n",
       "</div>"
      ],
      "text/plain": [
       "      beer_ABV  beer_beerId  beer_brewerId           beer_name  \\\n",
       "433        6.1        10784           1075         Caldera IPA   \n",
       "1712       5.3        16491           1454  T.J.'s Best Bitter   \n",
       "1751       5.5        15660           1454      Wobbly Bob APA   \n",
       "2113       4.5         1557            577       Black Cuillin   \n",
       "2380       4.8        61800          16859     Blonde Ambition   \n",
       "\n",
       "                   beer_style  review_appearance  review_palette  \\\n",
       "433              American IPA                5.0             5.0   \n",
       "1712           English Bitter                5.0             5.0   \n",
       "1751  American Pale Ale (APA)                5.0             5.0   \n",
       "2113             Scottish Ale                5.0             5.0   \n",
       "2380      American Blonde Ale                5.0             5.0   \n",
       "\n",
       "      review_overall  review_taste review_profileName  review_aroma  \\\n",
       "433              5.0           5.0         vicsju1991           5.0   \n",
       "1712             5.0           5.0            shbobdb           5.0   \n",
       "1751             5.0           5.0          908carson           5.0   \n",
       "2113             5.0           5.0             dennis           5.0   \n",
       "2380             5.0           5.0         cstrong821           5.0   \n",
       "\n",
       "                                            review_text  review_time  \n",
       "433   12 oz can poured into duvel snifter A - pours ...   1325980456  \n",
       "1712  Holy crap. This beer is amazing. Wow. Holy cra...   1182392570  \n",
       "1751  My first and only perfect score. I'm not sure ...   1288538410  \n",
       "2113  Roasted oatmeal and honey. Thick dark but not ...   1000848115  \n",
       "2380  A- great golden color, light foam. S- somewhat...   1313808291  "
      ]
     },
     "execution_count": 51,
     "metadata": {},
     "output_type": "execute_result"
    }
   ],
   "source": [
    "# sort from most important feature to least(for ex review_aroma strongest feature as found previously)\n",
    "df_ratings = df.sort_values(['review_overall', 'review_aroma', 'review_taste','review_palette','review_appearance'], ascending = False)\n",
    "df_top_ratings = df_ratings[0:2000]\n",
    "df_top_ratings.head()"
   ]
  },
  {
   "cell_type": "code",
   "execution_count": 52,
   "metadata": {},
   "outputs": [
    {
     "data": {
      "text/plain": [
       "Founders KBS (Kentucky Breakfast Stout)       108\n",
       "Trappistes Rochefort 10                        84\n",
       "Founders Breakfast Stout                       72\n",
       "Founders CBS Imperial Stout                    50\n",
       "Tröegs Nugget Nectar                           44\n",
       "Orval Trappist Ale                             38\n",
       "Chimay Grande Réserve (Blue)                   35\n",
       "La Fin Du Monde                                33\n",
       "Péché Mortel (Imperial Stout Au Cafe)          30\n",
       "Sierra Nevada Celebration Ale                  29\n",
       "Shakespeare Oatmeal Stout                      27\n",
       "Samuel Smith's Oatmeal Stout                   26\n",
       "Sierra Nevada Bigfoot Barleywine Style Ale     24\n",
       "Hunahpu's Imperial Stout                       22\n",
       "Masala Mama India Pale Ale                     21\n",
       "Name: beer_name, dtype: int64"
      ]
     },
     "execution_count": 52,
     "metadata": {},
     "output_type": "execute_result"
    }
   ],
   "source": [
    "# organize top beers by value counts since more reviews correlates w/ more people drinking that particular brand of beer\n",
    "list3 = df_top_ratings.beer_name.value_counts()\n",
    "list3[0:15]"
   ]
  },
  {
   "cell_type": "code",
   "execution_count": 53,
   "metadata": {},
   "outputs": [
    {
     "data": {
      "text/plain": [
       "<matplotlib.axes._subplots.AxesSubplot at 0x1a244a00f0>"
      ]
     },
     "execution_count": 53,
     "metadata": {},
     "output_type": "execute_result"
    },
    {
     "data": {
      "image/png": "[encoded data removed]",
      "text/plain": [
       "<Figure size 432x288 with 1 Axes>"
      ]
     },
     "metadata": {
      "needs_background": "light"
     },
     "output_type": "display_data"
    }
   ],
   "source": [
    "# plot the beer names with the highest count of reviews\n",
    "list_3 = list3[0:12]\n",
    "list_3.plot(kind='bar')"
   ]
  },
  {
   "cell_type": "code",
   "execution_count": 54,
   "metadata": {},
   "outputs": [
    {
     "data": {
      "text/plain": [
       "array(['Caldera IPA', 'Orval Trappist Ale'], dtype=object)"
      ]
     },
     "execution_count": 54,
     "metadata": {},
     "output_type": "execute_result"
    }
   ],
   "source": [
    "# sort values of the top rated beers \n",
    "df_top_ratings.sort_values(by = ['review_overall'], ascending = False ).head(10)\\\n",
    "    [ 'beer_name' ].unique()"
   ]
  },
  {
   "cell_type": "code",
   "execution_count": 55,
   "metadata": {
    "scrolled": false
   },
   "outputs": [
    {
     "name": "stdout",
     "output_type": "stream",
     "text": [
      "587\n"
     ]
    },
    {
     "data": {
      "text/plain": [
       "array(['Caldera IPA', 'Molson Stock Ale', 'Black Snow Coffee Porter',\n",
       "       'Pothole Filler Imperial Stout', 'Pumpkineater Imperial Ale',\n",
       "       'Goodes Highland Scotch Ale',\n",
       "       'Total Eclipse Of The Hop Imperial India Pale Ale',\n",
       "       \"Father John's Winter Ale\", 'Rail Ale', 'Mettleman Copper Ale'],\n",
       "      dtype=object)"
      ]
     },
     "execution_count": 55,
     "metadata": {},
     "output_type": "execute_result"
    }
   ],
   "source": [
    "# remove duplicates of the same beer name\n",
    "df_top_rating = df_top_ratings.drop_duplicates(subset = 'beer_name', keep = 'first')\n",
    "print(len(df_top_rating))\n",
    "df_top_rating.sort_values( by = ['review_overall'], ascending = False ).head(10) \\\n",
    "    [ 'beer_name' ].unique()"
   ]
  },
  {
   "cell_type": "markdown",
   "metadata": {},
   "source": [
    "## Answer4: Therefore, the beers to recommend to a friend would be 1.)Founder's KBS,  2.) Trappistes Rochefort 10,  3.) Founder's Breakfast Stout, and  4.) Pilsner Urquel based on overall reviews and review counts of each beer.  "
   ]
  },
  {
   "cell_type": "markdown",
   "metadata": {},
   "source": [
    "## Question5: Which beer style seems to be the favorite based on reviews written by users? How does written review compare to overall review score for the beer style?\n"
   ]
  },
  {
   "cell_type": "code",
   "execution_count": 56,
   "metadata": {},
   "outputs": [
    {
     "name": "stdout",
     "output_type": "stream",
     "text": [
      "American Double / Imperial Stout    424\n",
      "American IPA                        162\n",
      "American Double / Imperial IPA      114\n",
      "Russian Imperial Stout               98\n",
      "Quadrupel (Quad)                     88\n",
      "Belgian Strong Dark Ale              82\n",
      "American Amber / Red Ale             68\n",
      "Oatmeal Stout                        55\n",
      "Tripel                               51\n",
      "American Barleywine                  50\n",
      "Belgian Pale Ale                     44\n",
      "American Strong Ale                  38\n",
      "American Pale Ale (APA)              35\n",
      "Lambic - Fruit                       35\n",
      "American Stout                       34\n",
      "American Porter                      32\n",
      "Fruit / Vegetable Beer               32\n",
      "Dubbel                               30\n",
      "Rye Beer                             29\n",
      "Doppelbock                           23\n",
      "Name: beer_style, dtype: int64\n"
     ]
    }
   ],
   "source": [
    "# organize top beers by value counts since more reviews correlates w/ more people drinking that particular brand of beer\n",
    "list5 = df_top_ratings.beer_style.value_counts()\n",
    "print(list5[0:20])"
   ]
  },
  {
   "cell_type": "code",
   "execution_count": 57,
   "metadata": {},
   "outputs": [
    {
     "data": {
      "text/plain": [
       "<matplotlib.axes._subplots.AxesSubplot at 0x1a188c7d30>"
      ]
     },
     "execution_count": 57,
     "metadata": {},
     "output_type": "execute_result"
    },
    {
     "data": {
      "image/png": "[encoded data removed]",
      "text/plain": [
       "<Figure size 432x288 with 1 Axes>"
      ]
     },
     "metadata": {
      "needs_background": "light"
     },
     "output_type": "display_data"
    }
   ],
   "source": [
    "# plot the beer styles with the highest count of reviews\n",
    "list_5 = list5[0:15]\n",
    "list_5.plot(kind='bar')"
   ]
  },
  {
   "cell_type": "code",
   "execution_count": 58,
   "metadata": {},
   "outputs": [
    {
     "data": {
      "text/plain": [
       "array(['American IPA', 'Belgian Pale Ale'], dtype=object)"
      ]
     },
     "execution_count": 58,
     "metadata": {},
     "output_type": "execute_result"
    }
   ],
   "source": [
    "# sort unique values to in order to choose top ten beers by beer style\n",
    "df_top_ratings.sort_values( by = ['review_overall'], ascending = False ).head(20) \\\n",
    "    [ 'beer_style' ].unique()"
   ]
  },
  {
   "cell_type": "code",
   "execution_count": 59,
   "metadata": {},
   "outputs": [
    {
     "data": {
      "text/plain": [
       "array(['American IPA', 'American Amber / Red Lager', 'Winter Warmer',\n",
       "       'German Pilsener', 'Belgian Strong Dark Ale', 'Gueuze',\n",
       "       'Belgian Dark Ale', 'English India Pale Ale (IPA)', 'Light Lager',\n",
       "       'Altbier', 'English Pale Mild Ale', 'Pumpkin Ale',\n",
       "       'Flanders Red Ale', 'Chile Beer', 'Quadrupel (Quad)',\n",
       "       'American Adjunct Lager', 'Märzen / Oktoberfest', 'Dunkelweizen',\n",
       "       'Belgian Pale Ale', 'Oatmeal Stout'], dtype=object)"
      ]
     },
     "execution_count": 59,
     "metadata": {},
     "output_type": "execute_result"
    }
   ],
   "source": [
    "# remove duplicates of the same beer name\n",
    "df_top_rating = df_top_ratings.drop_duplicates(subset = 'beer_style')\n",
    "df_top_rating.sort_values( by = ['review_overall'], ascending = False ).head(20) \\\n",
    "    [ 'beer_style' ].unique()"
   ]
  },
  {
   "cell_type": "markdown",
   "metadata": {},
   "source": [
    "## Answer5: Therefore based on the analysis of overall reviews and the review counts of each beer, the 1.) American Double/Imperial Stout, 2.) American IPA, 3.) American Double/Imperial IPA, and the 4.) Czech Pilsner would be the best beer_styles to recommend to a friend"
   ]
  },
  {
   "cell_type": "markdown",
   "metadata": {},
   "source": [
    "## Question5 continued: Now, How does written review compare to overall review score for the beer style?"
   ]
  },
  {
   "cell_type": "code",
   "execution_count": 60,
   "metadata": {},
   "outputs": [],
   "source": [
    "# import nltk packages in order to take a look at review_text written by users and rank based on the text\n",
    "import re\n",
    "import nltk\n",
    "import nltk.corpus\n",
    "import re\n",
    "import string\n",
    "from nltk.corpus import stopwords\n",
    "import nltk as nlp"
   ]
  },
  {
   "cell_type": "code",
   "execution_count": 61,
   "metadata": {},
   "outputs": [],
   "source": [
    "# create list of positive and negative ratings based on 25% tiers in df.\n",
    "list = []\n",
    "for i in df.review_overall:\n",
    "    if i > 4.50:\n",
    "        list.append('positive_rating')\n",
    "    elif i < 3.50:\n",
    "        list.append('negative_rating')    \n",
    "    else:\n",
    "        list.append('other')"
   ]
  },
  {
   "cell_type": "code",
   "execution_count": 62,
   "metadata": {},
   "outputs": [
    {
     "data": {
      "text/plain": [
       "['negative_rating',\n",
       " 'negative_rating',\n",
       " 'negative_rating',\n",
       " 'negative_rating',\n",
       " 'other']"
      ]
     },
     "execution_count": 62,
     "metadata": {},
     "output_type": "execute_result"
    }
   ],
   "source": [
    "# take a look at first five ratings in  the list\n",
    "list[0:5]"
   ]
  },
  {
   "cell_type": "code",
   "execution_count": 63,
   "metadata": {},
   "outputs": [
    {
     "data": {
      "text/html": [
       "<div>\n",
       "<style scoped>\n",
       "    .dataframe tbody tr th:only-of-type {\n",
       "        vertical-align: middle;\n",
       "    }\n",
       "\n",
       "    .dataframe tbody tr th {\n",
       "        vertical-align: top;\n",
       "    }\n",
       "\n",
       "    .dataframe thead th {\n",
       "        text-align: right;\n",
       "    }\n",
       "</style>\n",
       "<table border=\"1\" class=\"dataframe\">\n",
       "  <thead>\n",
       "    <tr style=\"text-align: right;\">\n",
       "      <th></th>\n",
       "      <th>beer_ABV</th>\n",
       "      <th>beer_beerId</th>\n",
       "      <th>beer_brewerId</th>\n",
       "      <th>beer_name</th>\n",
       "      <th>beer_style</th>\n",
       "      <th>review_appearance</th>\n",
       "      <th>review_palette</th>\n",
       "      <th>review_overall</th>\n",
       "      <th>review_taste</th>\n",
       "      <th>review_profileName</th>\n",
       "      <th>review_aroma</th>\n",
       "      <th>review_text</th>\n",
       "      <th>review_time</th>\n",
       "      <th>rating</th>\n",
       "    </tr>\n",
       "  </thead>\n",
       "  <tbody>\n",
       "    <tr>\n",
       "      <th>0</th>\n",
       "      <td>5.0</td>\n",
       "      <td>47986</td>\n",
       "      <td>10325</td>\n",
       "      <td>Sausa Weizen</td>\n",
       "      <td>Hefeweizen</td>\n",
       "      <td>2.5</td>\n",
       "      <td>2.0</td>\n",
       "      <td>1.5</td>\n",
       "      <td>1.5</td>\n",
       "      <td>stcules</td>\n",
       "      <td>1.5</td>\n",
       "      <td>A lot of foam. But a lot. In the smell some ba...</td>\n",
       "      <td>1234817823</td>\n",
       "      <td>negative_rating</td>\n",
       "    </tr>\n",
       "    <tr>\n",
       "      <th>1</th>\n",
       "      <td>6.2</td>\n",
       "      <td>48213</td>\n",
       "      <td>10325</td>\n",
       "      <td>Red Moon</td>\n",
       "      <td>English Strong Ale</td>\n",
       "      <td>3.0</td>\n",
       "      <td>2.5</td>\n",
       "      <td>3.0</td>\n",
       "      <td>3.0</td>\n",
       "      <td>stcules</td>\n",
       "      <td>3.0</td>\n",
       "      <td>Dark red color, light beige foam, average. In ...</td>\n",
       "      <td>1235915097</td>\n",
       "      <td>negative_rating</td>\n",
       "    </tr>\n",
       "    <tr>\n",
       "      <th>2</th>\n",
       "      <td>6.5</td>\n",
       "      <td>48215</td>\n",
       "      <td>10325</td>\n",
       "      <td>Black Horse Black Beer</td>\n",
       "      <td>Foreign / Export Stout</td>\n",
       "      <td>3.0</td>\n",
       "      <td>2.5</td>\n",
       "      <td>3.0</td>\n",
       "      <td>3.0</td>\n",
       "      <td>stcules</td>\n",
       "      <td>3.0</td>\n",
       "      <td>Almost totally black. Beige foam, quite compac...</td>\n",
       "      <td>1235916604</td>\n",
       "      <td>negative_rating</td>\n",
       "    </tr>\n",
       "    <tr>\n",
       "      <th>3</th>\n",
       "      <td>5.0</td>\n",
       "      <td>47969</td>\n",
       "      <td>10325</td>\n",
       "      <td>Sausa Pils</td>\n",
       "      <td>German Pilsener</td>\n",
       "      <td>3.5</td>\n",
       "      <td>3.0</td>\n",
       "      <td>3.0</td>\n",
       "      <td>2.5</td>\n",
       "      <td>stcules</td>\n",
       "      <td>3.0</td>\n",
       "      <td>Golden yellow color. White, compact foam, quit...</td>\n",
       "      <td>1234725145</td>\n",
       "      <td>negative_rating</td>\n",
       "    </tr>\n",
       "    <tr>\n",
       "      <th>4</th>\n",
       "      <td>7.7</td>\n",
       "      <td>64883</td>\n",
       "      <td>1075</td>\n",
       "      <td>Cauldron DIPA</td>\n",
       "      <td>American Double / Imperial IPA</td>\n",
       "      <td>4.0</td>\n",
       "      <td>4.5</td>\n",
       "      <td>4.0</td>\n",
       "      <td>4.0</td>\n",
       "      <td>johnmichaelsen</td>\n",
       "      <td>4.5</td>\n",
       "      <td>According to the website, the style for the Ca...</td>\n",
       "      <td>1293735206</td>\n",
       "      <td>other</td>\n",
       "    </tr>\n",
       "  </tbody>\n",
       "</table>\n",
       "</div>"
      ],
      "text/plain": [
       "   beer_ABV  beer_beerId  beer_brewerId               beer_name  \\\n",
       "0       5.0        47986          10325            Sausa Weizen   \n",
       "1       6.2        48213          10325                Red Moon   \n",
       "2       6.5        48215          10325  Black Horse Black Beer   \n",
       "3       5.0        47969          10325              Sausa Pils   \n",
       "4       7.7        64883           1075           Cauldron DIPA   \n",
       "\n",
       "                       beer_style  review_appearance  review_palette  \\\n",
       "0                      Hefeweizen                2.5             2.0   \n",
       "1              English Strong Ale                3.0             2.5   \n",
       "2          Foreign / Export Stout                3.0             2.5   \n",
       "3                 German Pilsener                3.5             3.0   \n",
       "4  American Double / Imperial IPA                4.0             4.5   \n",
       "\n",
       "   review_overall  review_taste review_profileName  review_aroma  \\\n",
       "0             1.5           1.5            stcules           1.5   \n",
       "1             3.0           3.0            stcules           3.0   \n",
       "2             3.0           3.0            stcules           3.0   \n",
       "3             3.0           2.5            stcules           3.0   \n",
       "4             4.0           4.0     johnmichaelsen           4.5   \n",
       "\n",
       "                                         review_text  review_time  \\\n",
       "0  A lot of foam. But a lot. In the smell some ba...   1234817823   \n",
       "1  Dark red color, light beige foam, average. In ...   1235915097   \n",
       "2  Almost totally black. Beige foam, quite compac...   1235916604   \n",
       "3  Golden yellow color. White, compact foam, quit...   1234725145   \n",
       "4  According to the website, the style for the Ca...   1293735206   \n",
       "\n",
       "            rating  \n",
       "0  negative_rating  \n",
       "1  negative_rating  \n",
       "2  negative_rating  \n",
       "3  negative_rating  \n",
       "4            other  "
      ]
     },
     "execution_count": 63,
     "metadata": {},
     "output_type": "execute_result"
    }
   ],
   "source": [
    "# add list to data frame under column name rating\n",
    "df['rating'] = list\n",
    "df.head()"
   ]
  },
  {
   "cell_type": "code",
   "execution_count": 64,
   "metadata": {},
   "outputs": [
    {
     "data": {
      "text/plain": [
       "(122419, 14)"
      ]
     },
     "execution_count": 64,
     "metadata": {},
     "output_type": "execute_result"
    }
   ],
   "source": [
    "# drop the 'other' values\n",
    "dat = df[df.rating != 'other']\n",
    "dat.shape"
   ]
  },
  {
   "cell_type": "code",
   "execution_count": 65,
   "metadata": {},
   "outputs": [
    {
     "data": {
      "text/html": [
       "<div>\n",
       "<style scoped>\n",
       "    .dataframe tbody tr th:only-of-type {\n",
       "        vertical-align: middle;\n",
       "    }\n",
       "\n",
       "    .dataframe tbody tr th {\n",
       "        vertical-align: top;\n",
       "    }\n",
       "\n",
       "    .dataframe thead th {\n",
       "        text-align: right;\n",
       "    }\n",
       "</style>\n",
       "<table border=\"1\" class=\"dataframe\">\n",
       "  <thead>\n",
       "    <tr style=\"text-align: right;\">\n",
       "      <th></th>\n",
       "      <th>beer_ABV</th>\n",
       "      <th>beer_beerId</th>\n",
       "      <th>beer_brewerId</th>\n",
       "      <th>beer_name</th>\n",
       "      <th>beer_style</th>\n",
       "      <th>review_appearance</th>\n",
       "      <th>review_palette</th>\n",
       "      <th>review_overall</th>\n",
       "      <th>review_taste</th>\n",
       "      <th>review_profileName</th>\n",
       "      <th>review_aroma</th>\n",
       "      <th>review_text</th>\n",
       "      <th>review_time</th>\n",
       "      <th>rating</th>\n",
       "    </tr>\n",
       "  </thead>\n",
       "  <tbody>\n",
       "    <tr>\n",
       "      <th>0</th>\n",
       "      <td>5.0</td>\n",
       "      <td>47986</td>\n",
       "      <td>10325</td>\n",
       "      <td>Sausa Weizen</td>\n",
       "      <td>Hefeweizen</td>\n",
       "      <td>2.5</td>\n",
       "      <td>2.0</td>\n",
       "      <td>1.5</td>\n",
       "      <td>1.5</td>\n",
       "      <td>stcules</td>\n",
       "      <td>1.5</td>\n",
       "      <td>A lot of foam. But a lot. In the smell some ba...</td>\n",
       "      <td>1234817823</td>\n",
       "      <td>0</td>\n",
       "    </tr>\n",
       "    <tr>\n",
       "      <th>1</th>\n",
       "      <td>6.2</td>\n",
       "      <td>48213</td>\n",
       "      <td>10325</td>\n",
       "      <td>Red Moon</td>\n",
       "      <td>English Strong Ale</td>\n",
       "      <td>3.0</td>\n",
       "      <td>2.5</td>\n",
       "      <td>3.0</td>\n",
       "      <td>3.0</td>\n",
       "      <td>stcules</td>\n",
       "      <td>3.0</td>\n",
       "      <td>Dark red color, light beige foam, average. In ...</td>\n",
       "      <td>1235915097</td>\n",
       "      <td>0</td>\n",
       "    </tr>\n",
       "    <tr>\n",
       "      <th>2</th>\n",
       "      <td>6.5</td>\n",
       "      <td>48215</td>\n",
       "      <td>10325</td>\n",
       "      <td>Black Horse Black Beer</td>\n",
       "      <td>Foreign / Export Stout</td>\n",
       "      <td>3.0</td>\n",
       "      <td>2.5</td>\n",
       "      <td>3.0</td>\n",
       "      <td>3.0</td>\n",
       "      <td>stcules</td>\n",
       "      <td>3.0</td>\n",
       "      <td>Almost totally black. Beige foam, quite compac...</td>\n",
       "      <td>1235916604</td>\n",
       "      <td>0</td>\n",
       "    </tr>\n",
       "    <tr>\n",
       "      <th>3</th>\n",
       "      <td>5.0</td>\n",
       "      <td>47969</td>\n",
       "      <td>10325</td>\n",
       "      <td>Sausa Pils</td>\n",
       "      <td>German Pilsener</td>\n",
       "      <td>3.5</td>\n",
       "      <td>3.0</td>\n",
       "      <td>3.0</td>\n",
       "      <td>2.5</td>\n",
       "      <td>stcules</td>\n",
       "      <td>3.0</td>\n",
       "      <td>Golden yellow color. White, compact foam, quit...</td>\n",
       "      <td>1234725145</td>\n",
       "      <td>0</td>\n",
       "    </tr>\n",
       "    <tr>\n",
       "      <th>5</th>\n",
       "      <td>4.7</td>\n",
       "      <td>52159</td>\n",
       "      <td>1075</td>\n",
       "      <td>Caldera Ginger Beer</td>\n",
       "      <td>Herbed / Spiced Beer</td>\n",
       "      <td>3.5</td>\n",
       "      <td>3.5</td>\n",
       "      <td>3.0</td>\n",
       "      <td>3.0</td>\n",
       "      <td>oline73</td>\n",
       "      <td>3.5</td>\n",
       "      <td>Poured from the bottle into a Chimay goblet. A...</td>\n",
       "      <td>1325524659</td>\n",
       "      <td>0</td>\n",
       "    </tr>\n",
       "  </tbody>\n",
       "</table>\n",
       "</div>"
      ],
      "text/plain": [
       "   beer_ABV  beer_beerId  beer_brewerId               beer_name  \\\n",
       "0       5.0        47986          10325            Sausa Weizen   \n",
       "1       6.2        48213          10325                Red Moon   \n",
       "2       6.5        48215          10325  Black Horse Black Beer   \n",
       "3       5.0        47969          10325              Sausa Pils   \n",
       "5       4.7        52159           1075     Caldera Ginger Beer   \n",
       "\n",
       "               beer_style  review_appearance  review_palette  review_overall  \\\n",
       "0              Hefeweizen                2.5             2.0             1.5   \n",
       "1      English Strong Ale                3.0             2.5             3.0   \n",
       "2  Foreign / Export Stout                3.0             2.5             3.0   \n",
       "3         German Pilsener                3.5             3.0             3.0   \n",
       "5    Herbed / Spiced Beer                3.5             3.5             3.0   \n",
       "\n",
       "   review_taste review_profileName  review_aroma  \\\n",
       "0           1.5            stcules           1.5   \n",
       "1           3.0            stcules           3.0   \n",
       "2           3.0            stcules           3.0   \n",
       "3           2.5            stcules           3.0   \n",
       "5           3.0            oline73           3.5   \n",
       "\n",
       "                                         review_text  review_time  rating  \n",
       "0  A lot of foam. But a lot. In the smell some ba...   1234817823       0  \n",
       "1  Dark red color, light beige foam, average. In ...   1235915097       0  \n",
       "2  Almost totally black. Beige foam, quite compac...   1235916604       0  \n",
       "3  Golden yellow color. White, compact foam, quit...   1234725145       0  \n",
       "5  Poured from the bottle into a Chimay goblet. A...   1325524659       0  "
      ]
     },
     "execution_count": 65,
     "metadata": {},
     "output_type": "execute_result"
    }
   ],
   "source": [
    "# Create numerical column rating that will be used later for response vector\n",
    "dat['rating'] = dat.rating.map({'positive_rating':1, 'negative_rating':0})\n",
    "dat.head()"
   ]
  },
  {
   "cell_type": "code",
   "execution_count": 66,
   "metadata": {},
   "outputs": [
    {
     "data": {
      "text/html": [
       "<div>\n",
       "<style scoped>\n",
       "    .dataframe tbody tr th:only-of-type {\n",
       "        vertical-align: middle;\n",
       "    }\n",
       "\n",
       "    .dataframe tbody tr th {\n",
       "        vertical-align: top;\n",
       "    }\n",
       "\n",
       "    .dataframe thead th {\n",
       "        text-align: right;\n",
       "    }\n",
       "</style>\n",
       "<table border=\"1\" class=\"dataframe\">\n",
       "  <thead>\n",
       "    <tr style=\"text-align: right;\">\n",
       "      <th></th>\n",
       "      <th>rating</th>\n",
       "      <th>review_text</th>\n",
       "      <th>beer_style</th>\n",
       "      <th>review_overall</th>\n",
       "    </tr>\n",
       "  </thead>\n",
       "  <tbody>\n",
       "    <tr>\n",
       "      <th>0</th>\n",
       "      <td>0</td>\n",
       "      <td>A lot of foam. But a lot. In the smell some ba...</td>\n",
       "      <td>Hefeweizen</td>\n",
       "      <td>1.5</td>\n",
       "    </tr>\n",
       "    <tr>\n",
       "      <th>1</th>\n",
       "      <td>0</td>\n",
       "      <td>Dark red color, light beige foam, average. In ...</td>\n",
       "      <td>English Strong Ale</td>\n",
       "      <td>3.0</td>\n",
       "    </tr>\n",
       "    <tr>\n",
       "      <th>2</th>\n",
       "      <td>0</td>\n",
       "      <td>Almost totally black. Beige foam, quite compac...</td>\n",
       "      <td>Foreign / Export Stout</td>\n",
       "      <td>3.0</td>\n",
       "    </tr>\n",
       "    <tr>\n",
       "      <th>3</th>\n",
       "      <td>0</td>\n",
       "      <td>Golden yellow color. White, compact foam, quit...</td>\n",
       "      <td>German Pilsener</td>\n",
       "      <td>3.0</td>\n",
       "    </tr>\n",
       "    <tr>\n",
       "      <th>5</th>\n",
       "      <td>0</td>\n",
       "      <td>Poured from the bottle into a Chimay goblet. A...</td>\n",
       "      <td>Herbed / Spiced Beer</td>\n",
       "      <td>3.0</td>\n",
       "    </tr>\n",
       "  </tbody>\n",
       "</table>\n",
       "</div>"
      ],
      "text/plain": [
       "   rating                                        review_text  \\\n",
       "0       0  A lot of foam. But a lot. In the smell some ba...   \n",
       "1       0  Dark red color, light beige foam, average. In ...   \n",
       "2       0  Almost totally black. Beige foam, quite compac...   \n",
       "3       0  Golden yellow color. White, compact foam, quit...   \n",
       "5       0  Poured from the bottle into a Chimay goblet. A...   \n",
       "\n",
       "               beer_style  review_overall  \n",
       "0              Hefeweizen             1.5  \n",
       "1      English Strong Ale             3.0  \n",
       "2  Foreign / Export Stout             3.0  \n",
       "3         German Pilsener             3.0  \n",
       "5    Herbed / Spiced Beer             3.0  "
      ]
     },
     "execution_count": 66,
     "metadata": {},
     "output_type": "execute_result"
    }
   ],
   "source": [
    "# take a look at data frame\n",
    "df4 = dat[['rating','review_text','beer_style','review_overall']]\n",
    "df4.head()"
   ]
  },
  {
   "cell_type": "code",
   "execution_count": 67,
   "metadata": {},
   "outputs": [],
   "source": [
    "# convert all dialogue to list of text in order to begin text pre-processing\n",
    "tex = df4['review_text'].tolist()\n",
    "text = str(tex)"
   ]
  },
  {
   "cell_type": "code",
   "execution_count": 68,
   "metadata": {},
   "outputs": [],
   "source": [
    "# Make function to lowercase text, remove punctuation, remove whitespace and remove words containing numbers\n",
    "def clean_text(text):\n",
    "    text = text.lower()\n",
    "    text = re.sub('[%s]' % re.escape(string.punctuation), '', text)\n",
    "    text = re.sub('\\w*\\d\\w*', '', text)\n",
    "    text = text.strip()\n",
    "    return text\n",
    "\n",
    "clean = lambda x: clean_text(x)"
   ]
  },
  {
   "cell_type": "code",
   "execution_count": 69,
   "metadata": {},
   "outputs": [
    {
     "data": {
      "text/html": [
       "<div>\n",
       "<style scoped>\n",
       "    .dataframe tbody tr th:only-of-type {\n",
       "        vertical-align: middle;\n",
       "    }\n",
       "\n",
       "    .dataframe tbody tr th {\n",
       "        vertical-align: top;\n",
       "    }\n",
       "\n",
       "    .dataframe thead th {\n",
       "        text-align: right;\n",
       "    }\n",
       "</style>\n",
       "<table border=\"1\" class=\"dataframe\">\n",
       "  <thead>\n",
       "    <tr style=\"text-align: right;\">\n",
       "      <th></th>\n",
       "      <th>review_text</th>\n",
       "    </tr>\n",
       "  </thead>\n",
       "  <tbody>\n",
       "    <tr>\n",
       "      <th>0</th>\n",
       "      <td>a lot of foam but a lot in the smell some bana...</td>\n",
       "    </tr>\n",
       "    <tr>\n",
       "      <th>1</th>\n",
       "      <td>dark red color light beige foam average in the...</td>\n",
       "    </tr>\n",
       "    <tr>\n",
       "      <th>2</th>\n",
       "      <td>almost totally black beige foam quite compact ...</td>\n",
       "    </tr>\n",
       "    <tr>\n",
       "      <th>3</th>\n",
       "      <td>golden yellow color white compact foam quite c...</td>\n",
       "    </tr>\n",
       "    <tr>\n",
       "      <th>5</th>\n",
       "      <td>poured from the bottle into a chimay goblet ap...</td>\n",
       "    </tr>\n",
       "  </tbody>\n",
       "</table>\n",
       "</div>"
      ],
      "text/plain": [
       "                                         review_text\n",
       "0  a lot of foam but a lot in the smell some bana...\n",
       "1  dark red color light beige foam average in the...\n",
       "2  almost totally black beige foam quite compact ...\n",
       "3  golden yellow color white compact foam quite c...\n",
       "5  poured from the bottle into a chimay goblet ap..."
      ]
     },
     "execution_count": 69,
     "metadata": {},
     "output_type": "execute_result"
    }
   ],
   "source": [
    "# Let's take a look at the updated text\n",
    "from nltk.tokenize import word_tokenize\n",
    "updated_text = pd.DataFrame(df4['review_text'].apply(clean))\n",
    "updated_text.head()"
   ]
  },
  {
   "cell_type": "code",
   "execution_count": 70,
   "metadata": {},
   "outputs": [],
   "source": [
    "# still need to remove stop words and lemmatize to further clean\n",
    "from nltk.tokenize import word_tokenize\n",
    "text1 = updated_text['review_text'].tolist()\n",
    "text2 = str(text1)\n",
    "stop_words = set(stopwords.words('english'))\n",
    "from nltk.stem import WordNetLemmatizer\n",
    "lemmatizer = WordNetLemmatizer()\n",
    "def cleaner_text(text2):\n",
    "    text2 = word_tokenize(text2)\n",
    "    text2 = [i for i in text2 if not i in stop_words]\n",
    "    text2 = \" \".join([lemmatizer.lemmatize(t) for t in text2])\n",
    "    return text2\n",
    "\n",
    "clean2 = lambda x: cleaner_text(x)"
   ]
  },
  {
   "cell_type": "code",
   "execution_count": 71,
   "metadata": {},
   "outputs": [
    {
     "data": {
      "text/html": [
       "<div>\n",
       "<style scoped>\n",
       "    .dataframe tbody tr th:only-of-type {\n",
       "        vertical-align: middle;\n",
       "    }\n",
       "\n",
       "    .dataframe tbody tr th {\n",
       "        vertical-align: top;\n",
       "    }\n",
       "\n",
       "    .dataframe thead th {\n",
       "        text-align: right;\n",
       "    }\n",
       "</style>\n",
       "<table border=\"1\" class=\"dataframe\">\n",
       "  <thead>\n",
       "    <tr style=\"text-align: right;\">\n",
       "      <th></th>\n",
       "      <th>review_text</th>\n",
       "    </tr>\n",
       "  </thead>\n",
       "  <tbody>\n",
       "    <tr>\n",
       "      <th>0</th>\n",
       "      <td>lot foam lot smell banana lactic tart good sta...</td>\n",
       "    </tr>\n",
       "    <tr>\n",
       "      <th>1</th>\n",
       "      <td>dark red color light beige foam average smell ...</td>\n",
       "    </tr>\n",
       "    <tr>\n",
       "      <th>2</th>\n",
       "      <td>almost totally black beige foam quite compact ...</td>\n",
       "    </tr>\n",
       "    <tr>\n",
       "      <th>3</th>\n",
       "      <td>golden yellow color white compact foam quite c...</td>\n",
       "    </tr>\n",
       "    <tr>\n",
       "      <th>5</th>\n",
       "      <td>poured bottle chimay goblet appearance pours s...</td>\n",
       "    </tr>\n",
       "  </tbody>\n",
       "</table>\n",
       "</div>"
      ],
      "text/plain": [
       "                                         review_text\n",
       "0  lot foam lot smell banana lactic tart good sta...\n",
       "1  dark red color light beige foam average smell ...\n",
       "2  almost totally black beige foam quite compact ...\n",
       "3  golden yellow color white compact foam quite c...\n",
       "5  poured bottle chimay goblet appearance pours s..."
      ]
     },
     "execution_count": 71,
     "metadata": {},
     "output_type": "execute_result"
    }
   ],
   "source": [
    "# Let's take a look at the updated text2\n",
    "updated = pd.DataFrame(updated_text['review_text'].apply(clean2))\n",
    "updated.head()"
   ]
  },
  {
   "cell_type": "code",
   "execution_count": 72,
   "metadata": {},
   "outputs": [],
   "source": [
    "# keep only pre-processed text;remove text from previous data frame and then merge data frames\n",
    "df4.drop(['review_text'], axis=1, inplace=True)"
   ]
  },
  {
   "cell_type": "code",
   "execution_count": 73,
   "metadata": {},
   "outputs": [
    {
     "data": {
      "text/html": [
       "<div>\n",
       "<style scoped>\n",
       "    .dataframe tbody tr th:only-of-type {\n",
       "        vertical-align: middle;\n",
       "    }\n",
       "\n",
       "    .dataframe tbody tr th {\n",
       "        vertical-align: top;\n",
       "    }\n",
       "\n",
       "    .dataframe thead th {\n",
       "        text-align: right;\n",
       "    }\n",
       "</style>\n",
       "<table border=\"1\" class=\"dataframe\">\n",
       "  <thead>\n",
       "    <tr style=\"text-align: right;\">\n",
       "      <th></th>\n",
       "      <th>review_text</th>\n",
       "    </tr>\n",
       "  </thead>\n",
       "  <tbody>\n",
       "    <tr>\n",
       "      <th>0</th>\n",
       "      <td>lot foam lot smell banana lactic tart good sta...</td>\n",
       "    </tr>\n",
       "    <tr>\n",
       "      <th>1</th>\n",
       "      <td>dark red color light beige foam average smell ...</td>\n",
       "    </tr>\n",
       "    <tr>\n",
       "      <th>2</th>\n",
       "      <td>almost totally black beige foam quite compact ...</td>\n",
       "    </tr>\n",
       "    <tr>\n",
       "      <th>3</th>\n",
       "      <td>golden yellow color white compact foam quite c...</td>\n",
       "    </tr>\n",
       "    <tr>\n",
       "      <th>5</th>\n",
       "      <td>poured bottle chimay goblet appearance pours s...</td>\n",
       "    </tr>\n",
       "  </tbody>\n",
       "</table>\n",
       "</div>"
      ],
      "text/plain": [
       "                                         review_text\n",
       "0  lot foam lot smell banana lactic tart good sta...\n",
       "1  dark red color light beige foam average smell ...\n",
       "2  almost totally black beige foam quite compact ...\n",
       "3  golden yellow color white compact foam quite c...\n",
       "5  poured bottle chimay goblet appearance pours s..."
      ]
     },
     "execution_count": 73,
     "metadata": {},
     "output_type": "execute_result"
    }
   ],
   "source": [
    "# take a look at the dataframe\n",
    "updated.head()"
   ]
  },
  {
   "cell_type": "code",
   "execution_count": 74,
   "metadata": {},
   "outputs": [
    {
     "data": {
      "text/html": [
       "<div>\n",
       "<style scoped>\n",
       "    .dataframe tbody tr th:only-of-type {\n",
       "        vertical-align: middle;\n",
       "    }\n",
       "\n",
       "    .dataframe tbody tr th {\n",
       "        vertical-align: top;\n",
       "    }\n",
       "\n",
       "    .dataframe thead th {\n",
       "        text-align: right;\n",
       "    }\n",
       "</style>\n",
       "<table border=\"1\" class=\"dataframe\">\n",
       "  <thead>\n",
       "    <tr style=\"text-align: right;\">\n",
       "      <th></th>\n",
       "      <th>rating</th>\n",
       "      <th>beer_style</th>\n",
       "      <th>review_overall</th>\n",
       "      <th>review_text</th>\n",
       "    </tr>\n",
       "  </thead>\n",
       "  <tbody>\n",
       "    <tr>\n",
       "      <th>0</th>\n",
       "      <td>0</td>\n",
       "      <td>Hefeweizen</td>\n",
       "      <td>1.5</td>\n",
       "      <td>lot foam lot smell banana lactic tart good sta...</td>\n",
       "    </tr>\n",
       "    <tr>\n",
       "      <th>1</th>\n",
       "      <td>0</td>\n",
       "      <td>English Strong Ale</td>\n",
       "      <td>3.0</td>\n",
       "      <td>dark red color light beige foam average smell ...</td>\n",
       "    </tr>\n",
       "    <tr>\n",
       "      <th>2</th>\n",
       "      <td>0</td>\n",
       "      <td>Foreign / Export Stout</td>\n",
       "      <td>3.0</td>\n",
       "      <td>almost totally black beige foam quite compact ...</td>\n",
       "    </tr>\n",
       "    <tr>\n",
       "      <th>3</th>\n",
       "      <td>0</td>\n",
       "      <td>German Pilsener</td>\n",
       "      <td>3.0</td>\n",
       "      <td>golden yellow color white compact foam quite c...</td>\n",
       "    </tr>\n",
       "    <tr>\n",
       "      <th>5</th>\n",
       "      <td>0</td>\n",
       "      <td>Herbed / Spiced Beer</td>\n",
       "      <td>3.0</td>\n",
       "      <td>poured bottle chimay goblet appearance pours s...</td>\n",
       "    </tr>\n",
       "  </tbody>\n",
       "</table>\n",
       "</div>"
      ],
      "text/plain": [
       "   rating              beer_style  review_overall  \\\n",
       "0       0              Hefeweizen             1.5   \n",
       "1       0      English Strong Ale             3.0   \n",
       "2       0  Foreign / Export Stout             3.0   \n",
       "3       0         German Pilsener             3.0   \n",
       "5       0    Herbed / Spiced Beer             3.0   \n",
       "\n",
       "                                         review_text  \n",
       "0  lot foam lot smell banana lactic tart good sta...  \n",
       "1  dark red color light beige foam average smell ...  \n",
       "2  almost totally black beige foam quite compact ...  \n",
       "3  golden yellow color white compact foam quite c...  \n",
       "5  poured bottle chimay goblet appearance pours s...  "
      ]
     },
     "execution_count": 74,
     "metadata": {},
     "output_type": "execute_result"
    }
   ],
   "source": [
    "# merge both data frames together\n",
    "data = pd.concat([df4, updated], axis=1)\n",
    "data.head()"
   ]
  },
  {
   "cell_type": "code",
   "execution_count": 75,
   "metadata": {},
   "outputs": [
    {
     "name": "stdout",
     "output_type": "stream",
     "text": [
      "(122419,)\n",
      "(122419,)\n"
     ]
    }
   ],
   "source": [
    "# create target variable of 'good_rating' and 'bad_rating' to be response vector;\n",
    "# review_text will be converted into doc term matrix \n",
    "X = data.review_text\n",
    "y = data.rating\n",
    "print(X.shape)\n",
    "print(y.shape)"
   ]
  },
  {
   "cell_type": "code",
   "execution_count": 76,
   "metadata": {},
   "outputs": [
    {
     "name": "stdout",
     "output_type": "stream",
     "text": [
      "(91814,)\n",
      "(30605,)\n",
      "(91814,)\n",
      "(30605,)\n"
     ]
    }
   ],
   "source": [
    "# divide into training and test data sets\n",
    "from sklearn.model_selection import train_test_split\n",
    "X_train, X_test, y_train, y_test = train_test_split(X, y, random_state=1)\n",
    "print(X_train.shape)\n",
    "print(X_test.shape)\n",
    "print(y_train.shape)\n",
    "print(y_test.shape)"
   ]
  },
  {
   "cell_type": "code",
   "execution_count": 77,
   "metadata": {},
   "outputs": [
    {
     "name": "stdout",
     "output_type": "stream",
     "text": [
      "training set: (91814, 102724)\n",
      "test set: (30605, 102724)\n"
     ]
    }
   ],
   "source": [
    "# instantiate, fit,and transform test and training set into document term matrix\n",
    "from sklearn.feature_extraction.text import CountVectorizer\n",
    "vect = CountVectorizer()\n",
    "vect.fit(X_train)\n",
    "X_train_dtm = vect.transform(X_train)\n",
    "X_train_dtm = vect.fit_transform(X_train)\n",
    "X_test_dtm = vect.transform(X_test)\n",
    "print(\"training set:\", X_train_dtm.shape)\n",
    "print(\"test set:\", X_test_dtm.shape)"
   ]
  },
  {
   "cell_type": "code",
   "execution_count": 78,
   "metadata": {},
   "outputs": [
    {
     "data": {
      "text/plain": [
       "lemonmelon             11.734384\n",
       "mustthat               11.734384\n",
       "mustskunk              11.734384\n",
       "mustlike               11.734384\n",
       "mustinsmitty           11.734384\n",
       "mustinessslightly      11.734384\n",
       "mustinessnot           11.734384\n",
       "mustinessearthiness    11.734384\n",
       "mustinessalmost        11.734384\n",
       "mustiest               11.734384\n",
       "musthouse              11.734384\n",
       "musthit                11.734384\n",
       "musthaves              11.734384\n",
       "mustgrab               11.734384\n",
       "mustardyellow          11.734384\n",
       "mustardseed            11.734384\n",
       "mustardlike            11.734384\n",
       "muststop               11.734384\n",
       "mustyalmond            11.734384\n",
       "mussles                11.734384\n",
       "Name: weights, dtype: float64"
      ]
     },
     "execution_count": 78,
     "metadata": {},
     "output_type": "execute_result"
    }
   ],
   "source": [
    "# take a look at properties of weighted words\n",
    "from sklearn.feature_extraction.text import TfidfTransformer\n",
    "tf = TfidfTransformer(smooth_idf=True, use_idf=True)\n",
    "tf.fit(X_train_dtm)\n",
    "idf = pd.DataFrame(tf.idf_,index=vect.get_feature_names(),columns=['weights'])\n",
    "sort = idf.sort_values(by=['weights'],ascending=False)\n",
    "sort.weights[0:20]"
   ]
  },
  {
   "cell_type": "code",
   "execution_count": 79,
   "metadata": {},
   "outputs": [
    {
     "data": {
      "text/plain": [
       "<matplotlib.axes._subplots.AxesSubplot at 0x1a38c51cf8>"
      ]
     },
     "execution_count": 79,
     "metadata": {},
     "output_type": "execute_result"
    },
    {
     "data": {
      "image/png": "[encoded data removed]",
      "text/plain": [
       "<Figure size 432x288 with 1 Axes>"
      ]
     },
     "metadata": {
      "needs_background": "light"
     },
     "output_type": "display_data"
    }
   ],
   "source": [
    "# plot weight distribution of words\n",
    "%matplotlib inline\n",
    "sort.plot()"
   ]
  },
  {
   "cell_type": "code",
   "execution_count": 80,
   "metadata": {},
   "outputs": [
    {
     "name": "stdout",
     "output_type": "stream",
     "text": [
      "CPU times: user 98.5 ms, sys: 28.3 ms, total: 127 ms\n",
      "Wall time: 141 ms\n"
     ]
    },
    {
     "data": {
      "text/plain": [
       "MultinomialNB(alpha=1.0, class_prior=None, fit_prior=True)"
      ]
     },
     "execution_count": 80,
     "metadata": {},
     "output_type": "execute_result"
    }
   ],
   "source": [
    "# since multinomial works well for wide data sets and word classification, instantiate mulitnomialNB classifier\n",
    "from sklearn.naive_bayes import MultinomialNB\n",
    "nb = MultinomialNB()\n",
    "\n",
    "# train the model using X_train_dtm (timing it with an IPython \"magic command\")\n",
    "%time nb.fit(X_train_dtm, y_train)"
   ]
  },
  {
   "cell_type": "code",
   "execution_count": 81,
   "metadata": {},
   "outputs": [
    {
     "data": {
      "text/plain": [
       "0.9019441267766705"
      ]
     },
     "execution_count": 81,
     "metadata": {},
     "output_type": "execute_result"
    }
   ],
   "source": [
    "# make class predictions for X_test_dtm\n",
    "y_pred_class = nb.predict(X_test_dtm)\n",
    "# calculate accuracy of class predictions\n",
    "from sklearn import metrics\n",
    "metrics.accuracy_score(y_test, y_pred_class)"
   ]
  },
  {
   "cell_type": "code",
   "execution_count": 82,
   "metadata": {},
   "outputs": [
    {
     "data": {
      "text/plain": [
       "array([[21352,  1418],\n",
       "       [ 1583,  6252]])"
      ]
     },
     "execution_count": 82,
     "metadata": {},
     "output_type": "execute_result"
    }
   ],
   "source": [
    "# print the confusion matrix \n",
    "metrics.confusion_matrix(y_test, y_pred_class)"
   ]
  },
  {
   "cell_type": "code",
   "execution_count": 83,
   "metadata": {},
   "outputs": [],
   "source": [
    "# print text for the false positives(negative_rating incorrectly classified as positive_rating) \n",
    "list2 = X_test[y_test < y_pred_class]"
   ]
  },
  {
   "cell_type": "code",
   "execution_count": 84,
   "metadata": {},
   "outputs": [
    {
     "data": {
      "text/plain": [
       "8717      inky brown almost opaque dark tan head good th...\n",
       "95038     enjoy ipas especially stone brewing co lagunit...\n",
       "300117    poured big bottle small snifter head light flu...\n",
       "284044    brew always good decision appearance cloudy go...\n",
       "134558    bottle city beer store sf made trip back suitc...\n",
       "447962    pours deep dark red hazy small purple head lit...\n",
       "507554    used motor oil brown pour little head present ...\n",
       "114066    brown ale conditioned one year maker mark bour...\n",
       "358601    poured deep yellowush color good carbonation n...\n",
       "225687    wow powerful stuff oakaged woody aftertaste th...\n",
       "505146    pours dark definitive brown one finger loose t...\n",
       "457381    chocolaty almost much experience must say one ...\n",
       "247869    gorgeous burgundy hue matter floating though b...\n",
       "525233    good looking beer near black brown head two fi...\n",
       "506984    perfect session drinking sweetish prickly malt...\n",
       "295367    served cellar temperature pint glass appearanc...\n",
       "19475     reviewed note sampled pours deep redbrown colo...\n",
       "17956     capped bottle pours reverberating goldtinged n...\n",
       "Name: review_text, dtype: object"
      ]
     },
     "execution_count": 84,
     "metadata": {},
     "output_type": "execute_result"
    }
   ],
   "source": [
    "# take a look at 18 examples of the false positives\n",
    "list2[0:18]"
   ]
  },
  {
   "cell_type": "code",
   "execution_count": 85,
   "metadata": {},
   "outputs": [
    {
     "data": {
      "text/plain": [
       "3.5"
      ]
     },
     "execution_count": 85,
     "metadata": {},
     "output_type": "execute_result"
    }
   ],
   "source": [
    "# take a look at review_rating of a false positive text\n",
    "df.review_overall.iloc[472551]"
   ]
  },
  {
   "cell_type": "code",
   "execution_count": 86,
   "metadata": {},
   "outputs": [
    {
     "data": {
      "text/plain": [
       "'Pours a nice red. Froathy off-white head. Slight carbonation. A- Hops, malty, alcohol, alcohol, umm alcohol, grapey. T- Sweet and malty with a huge kick of alcohol. A little dry and bitter in the middle. M- A little rough with a slight alcohol burn. D- It warms you up, but be careful.'"
      ]
     },
     "execution_count": 86,
     "metadata": {},
     "output_type": "execute_result"
    }
   ],
   "source": [
    "# take a look at why the ml model detrmined this text to be a false positive\n",
    "df.review_text.iloc[472551]"
   ]
  },
  {
   "cell_type": "markdown",
   "metadata": {},
   "source": [
    "### Looking at the false positive text, it's apparent that \"the looks are best part\" and \"good amount of malt\" was used to be sarcastic and sarcastic tones can confuse NLP ml models into thinking the text is positive when it's actually negative"
   ]
  },
  {
   "cell_type": "code",
   "execution_count": 87,
   "metadata": {},
   "outputs": [
    {
     "data": {
      "text/html": [
       "<div>\n",
       "<style scoped>\n",
       "    .dataframe tbody tr th:only-of-type {\n",
       "        vertical-align: middle;\n",
       "    }\n",
       "\n",
       "    .dataframe tbody tr th {\n",
       "        vertical-align: top;\n",
       "    }\n",
       "\n",
       "    .dataframe thead th {\n",
       "        text-align: right;\n",
       "    }\n",
       "</style>\n",
       "<table border=\"1\" class=\"dataframe\">\n",
       "  <thead>\n",
       "    <tr style=\"text-align: right;\">\n",
       "      <th></th>\n",
       "      <th>rating</th>\n",
       "      <th>beer_style</th>\n",
       "      <th>review_overall</th>\n",
       "      <th>review_text</th>\n",
       "      <th>written</th>\n",
       "    </tr>\n",
       "  </thead>\n",
       "  <tbody>\n",
       "    <tr>\n",
       "      <th>0</th>\n",
       "      <td>0</td>\n",
       "      <td>Hefeweizen</td>\n",
       "      <td>1.5</td>\n",
       "      <td>lot foam lot smell banana lactic tart good sta...</td>\n",
       "      <td>NaN</td>\n",
       "    </tr>\n",
       "    <tr>\n",
       "      <th>1</th>\n",
       "      <td>0</td>\n",
       "      <td>English Strong Ale</td>\n",
       "      <td>3.0</td>\n",
       "      <td>dark red color light beige foam average smell ...</td>\n",
       "      <td>NaN</td>\n",
       "    </tr>\n",
       "    <tr>\n",
       "      <th>2</th>\n",
       "      <td>0</td>\n",
       "      <td>Foreign / Export Stout</td>\n",
       "      <td>3.0</td>\n",
       "      <td>almost totally black beige foam quite compact ...</td>\n",
       "      <td>NaN</td>\n",
       "    </tr>\n",
       "    <tr>\n",
       "      <th>3</th>\n",
       "      <td>0</td>\n",
       "      <td>German Pilsener</td>\n",
       "      <td>3.0</td>\n",
       "      <td>golden yellow color white compact foam quite c...</td>\n",
       "      <td>NaN</td>\n",
       "    </tr>\n",
       "    <tr>\n",
       "      <th>5</th>\n",
       "      <td>0</td>\n",
       "      <td>Herbed / Spiced Beer</td>\n",
       "      <td>3.0</td>\n",
       "      <td>poured bottle chimay goblet appearance pours s...</td>\n",
       "      <td>NaN</td>\n",
       "    </tr>\n",
       "  </tbody>\n",
       "</table>\n",
       "</div>"
      ],
      "text/plain": [
       "   rating              beer_style  review_overall  \\\n",
       "0       0              Hefeweizen             1.5   \n",
       "1       0      English Strong Ale             3.0   \n",
       "2       0  Foreign / Export Stout             3.0   \n",
       "3       0         German Pilsener             3.0   \n",
       "5       0    Herbed / Spiced Beer             3.0   \n",
       "\n",
       "                                         review_text written  \n",
       "0  lot foam lot smell banana lactic tart good sta...     NaN  \n",
       "1  dark red color light beige foam average smell ...     NaN  \n",
       "2  almost totally black beige foam quite compact ...     NaN  \n",
       "3  golden yellow color white compact foam quite c...     NaN  \n",
       "5  poured bottle chimay goblet appearance pours s...     NaN  "
      ]
     },
     "execution_count": 87,
     "metadata": {},
     "output_type": "execute_result"
    }
   ],
   "source": [
    "# add list to data frame under column name rating\n",
    "data['written'] = list2\n",
    "data.head()"
   ]
  },
  {
   "cell_type": "code",
   "execution_count": 88,
   "metadata": {},
   "outputs": [
    {
     "data": {
      "text/html": [
       "<div>\n",
       "<style scoped>\n",
       "    .dataframe tbody tr th:only-of-type {\n",
       "        vertical-align: middle;\n",
       "    }\n",
       "\n",
       "    .dataframe tbody tr th {\n",
       "        vertical-align: top;\n",
       "    }\n",
       "\n",
       "    .dataframe thead th {\n",
       "        text-align: right;\n",
       "    }\n",
       "</style>\n",
       "<table border=\"1\" class=\"dataframe\">\n",
       "  <thead>\n",
       "    <tr style=\"text-align: right;\">\n",
       "      <th></th>\n",
       "      <th>rating</th>\n",
       "      <th>beer_style</th>\n",
       "      <th>review_overall</th>\n",
       "      <th>review_text</th>\n",
       "      <th>written</th>\n",
       "    </tr>\n",
       "  </thead>\n",
       "  <tbody>\n",
       "    <tr>\n",
       "      <th>659</th>\n",
       "      <td>0</td>\n",
       "      <td>American IPA</td>\n",
       "      <td>3.0</td>\n",
       "      <td>poured small snifter light sunset orange color...</td>\n",
       "      <td>poured small snifter light sunset orange color...</td>\n",
       "    </tr>\n",
       "    <tr>\n",
       "      <th>1463</th>\n",
       "      <td>0</td>\n",
       "      <td>Euro Pale Lager</td>\n",
       "      <td>3.0</td>\n",
       "      <td>beer huge greece everywhere time draft rythmno...</td>\n",
       "      <td>beer huge greece everywhere time draft rythmno...</td>\n",
       "    </tr>\n",
       "    <tr>\n",
       "      <th>1569</th>\n",
       "      <td>0</td>\n",
       "      <td>Euro Pale Lager</td>\n",
       "      <td>3.0</td>\n",
       "      <td>like hot weather bier poured hard glass elimin...</td>\n",
       "      <td>like hot weather bier poured hard glass elimin...</td>\n",
       "    </tr>\n",
       "    <tr>\n",
       "      <th>2201</th>\n",
       "      <td>0</td>\n",
       "      <td>American Double / Imperial IPA</td>\n",
       "      <td>3.0</td>\n",
       "      <td>got kentucky trip three year back poured sam g...</td>\n",
       "      <td>got kentucky trip three year back poured sam g...</td>\n",
       "    </tr>\n",
       "    <tr>\n",
       "      <th>2897</th>\n",
       "      <td>0</td>\n",
       "      <td>American Double / Imperial IPA</td>\n",
       "      <td>3.0</td>\n",
       "      <td>pours cloudy dark amber orange white head good...</td>\n",
       "      <td>pours cloudy dark amber orange white head good...</td>\n",
       "    </tr>\n",
       "  </tbody>\n",
       "</table>\n",
       "</div>"
      ],
      "text/plain": [
       "      rating                      beer_style  review_overall  \\\n",
       "659        0                    American IPA             3.0   \n",
       "1463       0                 Euro Pale Lager             3.0   \n",
       "1569       0                 Euro Pale Lager             3.0   \n",
       "2201       0  American Double / Imperial IPA             3.0   \n",
       "2897       0  American Double / Imperial IPA             3.0   \n",
       "\n",
       "                                            review_text  \\\n",
       "659   poured small snifter light sunset orange color...   \n",
       "1463  beer huge greece everywhere time draft rythmno...   \n",
       "1569  like hot weather bier poured hard glass elimin...   \n",
       "2201  got kentucky trip three year back poured sam g...   \n",
       "2897  pours cloudy dark amber orange white head good...   \n",
       "\n",
       "                                                written  \n",
       "659   poured small snifter light sunset orange color...  \n",
       "1463  beer huge greece everywhere time draft rythmno...  \n",
       "1569  like hot weather bier poured hard glass elimin...  \n",
       "2201  got kentucky trip three year back poured sam g...  \n",
       "2897  pours cloudy dark amber orange white head good...  "
      ]
     },
     "execution_count": 88,
     "metadata": {},
     "output_type": "execute_result"
    }
   ],
   "source": [
    "# drop missing values\n",
    "data.dropna(inplace=True)\n",
    "data.head()"
   ]
  },
  {
   "cell_type": "code",
   "execution_count": 89,
   "metadata": {},
   "outputs": [
    {
     "data": {
      "text/plain": [
       "array(['American IPA', 'American Porter', 'Dunkelweizen',\n",
       "       'American Double / Imperial IPA',\n",
       "       'American Double / Imperial Pilsner',\n",
       "       'Bière de Champagne / Bière Brut', 'Winter Warmer',\n",
       "       'American Strong Ale'], dtype=object)"
      ]
     },
     "execution_count": 89,
     "metadata": {},
     "output_type": "execute_result"
    }
   ],
   "source": [
    "# sort unique values to in order to choose top ten beers by beer style\n",
    "data.sort_values( by = ['review_overall'], ascending = False ).head(15) \\\n",
    "    [ 'beer_style' ].unique()"
   ]
  },
  {
   "cell_type": "code",
   "execution_count": 90,
   "metadata": {},
   "outputs": [
    {
     "data": {
      "text/plain": [
       "array(['American IPA', 'Belgian Pale Ale'], dtype=object)"
      ]
     },
     "execution_count": 90,
     "metadata": {},
     "output_type": "execute_result"
    }
   ],
   "source": [
    "# sort unique values to in order to choose top ten beers by beer style\n",
    "df_top_ratings.sort_values( by = ['review_overall'], ascending = False ).head(15) \\\n",
    "    [ 'beer_style' ].unique()"
   ]
  },
  {
   "cell_type": "markdown",
   "metadata": {},
   "source": [
    "## Answer5 continued: Thus, American Double/Imperial IPA , American Double/Imperial Stout, American IPA and Quad are the same best beer_styles in both reviews_overall and review_texts.  Even though there were false positives in the text analysis, the NLP model accuracy was high at 90% and the false positives were low at 1494 out of 29,125 (~5%).  Therefore, both review_texts and reviews_overall were fairly equivalent predictors of beer_style."
   ]
  }
 ],
 "metadata": {
  "kernelspec": {
   "display_name": "Python 3",
   "language": "python",
   "name": "python3"
  },
  "language_info": {
   "codemirror_mode": {
    "name": "ipython",
    "version": 3
   },
   "file_extension": ".py",
   "mimetype": "text/x-python",
   "name": "python",
   "nbconvert_exporter": "python",
   "pygments_lexer": "ipython3",
   "version": "3.7.3"
  }
 },
 "nbformat": 4,
 "nbformat_minor": 2
}
