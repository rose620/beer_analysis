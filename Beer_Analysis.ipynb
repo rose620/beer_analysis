{
 "cells": [
  {
   "cell_type": "code",
   "execution_count": 1,
   "metadata": {},
   "outputs": [],
   "source": [
    "#import packages to be used for data analysis\n",
    "import pandas as pd\n",
    "import numpy as np\n",
    "import matplotlib.pyplot as plt\n",
    "%matplotlib inline\n",
    "import seaborn as sns\n",
    "from scipy.stats import zscore\n",
    "from mpl_toolkits.mplot3d import Axes3D\n",
    "sns.set()\n",
    "from warnings import simplefilter\n",
    "simplefilter(action='ignore')"
   ]
  },
  {
   "cell_type": "code",
   "execution_count": 2,
   "metadata": {},
   "outputs": [],
   "source": [
    "#read in dataset into pandas\n",
    "df = pd.read_csv('BeerDataScienceProject.csv', encoding = 'ISO-8859-1')"
   ]
  },
  {
   "cell_type": "code",
   "execution_count": 3,
   "metadata": {},
   "outputs": [
    {
     "data": {
      "text/html": [
       "<div>\n",
       "<style scoped>\n",
       "    .dataframe tbody tr th:only-of-type {\n",
       "        vertical-align: middle;\n",
       "    }\n",
       "\n",
       "    .dataframe tbody tr th {\n",
       "        vertical-align: top;\n",
       "    }\n",
       "\n",
       "    .dataframe thead th {\n",
       "        text-align: right;\n",
       "    }\n",
       "</style>\n",
       "<table border=\"1\" class=\"dataframe\">\n",
       "  <thead>\n",
       "    <tr style=\"text-align: right;\">\n",
       "      <th></th>\n",
       "      <th>beer_ABV</th>\n",
       "      <th>beer_beerId</th>\n",
       "      <th>beer_brewerId</th>\n",
       "      <th>beer_name</th>\n",
       "      <th>beer_style</th>\n",
       "      <th>review_appearance</th>\n",
       "      <th>review_palette</th>\n",
       "      <th>review_overall</th>\n",
       "      <th>review_taste</th>\n",
       "      <th>review_profileName</th>\n",
       "      <th>review_aroma</th>\n",
       "      <th>review_text</th>\n",
       "      <th>review_time</th>\n",
       "    </tr>\n",
       "  </thead>\n",
       "  <tbody>\n",
       "    <tr>\n",
       "      <th>0</th>\n",
       "      <td>5.0</td>\n",
       "      <td>47986</td>\n",
       "      <td>10325</td>\n",
       "      <td>Sausa Weizen</td>\n",
       "      <td>Hefeweizen</td>\n",
       "      <td>2.5</td>\n",
       "      <td>2.0</td>\n",
       "      <td>1.5</td>\n",
       "      <td>1.5</td>\n",
       "      <td>stcules</td>\n",
       "      <td>1.5</td>\n",
       "      <td>A lot of foam. But a lot. In the smell some ba...</td>\n",
       "      <td>1234817823</td>\n",
       "    </tr>\n",
       "    <tr>\n",
       "      <th>1</th>\n",
       "      <td>6.2</td>\n",
       "      <td>48213</td>\n",
       "      <td>10325</td>\n",
       "      <td>Red Moon</td>\n",
       "      <td>English Strong Ale</td>\n",
       "      <td>3.0</td>\n",
       "      <td>2.5</td>\n",
       "      <td>3.0</td>\n",
       "      <td>3.0</td>\n",
       "      <td>stcules</td>\n",
       "      <td>3.0</td>\n",
       "      <td>Dark red color, light beige foam, average. In ...</td>\n",
       "      <td>1235915097</td>\n",
       "    </tr>\n",
       "    <tr>\n",
       "      <th>2</th>\n",
       "      <td>6.5</td>\n",
       "      <td>48215</td>\n",
       "      <td>10325</td>\n",
       "      <td>Black Horse Black Beer</td>\n",
       "      <td>Foreign / Export Stout</td>\n",
       "      <td>3.0</td>\n",
       "      <td>2.5</td>\n",
       "      <td>3.0</td>\n",
       "      <td>3.0</td>\n",
       "      <td>stcules</td>\n",
       "      <td>3.0</td>\n",
       "      <td>Almost totally black. Beige foam, quite compac...</td>\n",
       "      <td>1235916604</td>\n",
       "    </tr>\n",
       "    <tr>\n",
       "      <th>3</th>\n",
       "      <td>5.0</td>\n",
       "      <td>47969</td>\n",
       "      <td>10325</td>\n",
       "      <td>Sausa Pils</td>\n",
       "      <td>German Pilsener</td>\n",
       "      <td>3.5</td>\n",
       "      <td>3.0</td>\n",
       "      <td>3.0</td>\n",
       "      <td>2.5</td>\n",
       "      <td>stcules</td>\n",
       "      <td>3.0</td>\n",
       "      <td>Golden yellow color. White, compact foam, quit...</td>\n",
       "      <td>1234725145</td>\n",
       "    </tr>\n",
       "    <tr>\n",
       "      <th>4</th>\n",
       "      <td>7.7</td>\n",
       "      <td>64883</td>\n",
       "      <td>1075</td>\n",
       "      <td>Cauldron DIPA</td>\n",
       "      <td>American Double / Imperial IPA</td>\n",
       "      <td>4.0</td>\n",
       "      <td>4.5</td>\n",
       "      <td>4.0</td>\n",
       "      <td>4.0</td>\n",
       "      <td>johnmichaelsen</td>\n",
       "      <td>4.5</td>\n",
       "      <td>According to the website, the style for the Ca...</td>\n",
       "      <td>1293735206</td>\n",
       "    </tr>\n",
       "  </tbody>\n",
       "</table>\n",
       "</div>"
      ],
      "text/plain": [
       "   beer_ABV  beer_beerId  beer_brewerId               beer_name  \\\n",
       "0       5.0        47986          10325            Sausa Weizen   \n",
       "1       6.2        48213          10325                Red Moon   \n",
       "2       6.5        48215          10325  Black Horse Black Beer   \n",
       "3       5.0        47969          10325              Sausa Pils   \n",
       "4       7.7        64883           1075           Cauldron DIPA   \n",
       "\n",
       "                       beer_style  review_appearance  review_palette  \\\n",
       "0                      Hefeweizen                2.5             2.0   \n",
       "1              English Strong Ale                3.0             2.5   \n",
       "2          Foreign / Export Stout                3.0             2.5   \n",
       "3                 German Pilsener                3.5             3.0   \n",
       "4  American Double / Imperial IPA                4.0             4.5   \n",
       "\n",
       "   review_overall  review_taste review_profileName  review_aroma  \\\n",
       "0             1.5           1.5            stcules           1.5   \n",
       "1             3.0           3.0            stcules           3.0   \n",
       "2             3.0           3.0            stcules           3.0   \n",
       "3             3.0           2.5            stcules           3.0   \n",
       "4             4.0           4.0     johnmichaelsen           4.5   \n",
       "\n",
       "                                         review_text  review_time  \n",
       "0  A lot of foam. But a lot. In the smell some ba...   1234817823  \n",
       "1  Dark red color, light beige foam, average. In ...   1235915097  \n",
       "2  Almost totally black. Beige foam, quite compac...   1235916604  \n",
       "3  Golden yellow color. White, compact foam, quit...   1234725145  \n",
       "4  According to the website, the style for the Ca...   1293735206  "
      ]
     },
     "execution_count": 3,
     "metadata": {},
     "output_type": "execute_result"
    }
   ],
   "source": [
    "#take a look at dataframe \n",
    "df.head()"
   ]
  },
  {
   "cell_type": "code",
   "execution_count": 4,
   "metadata": {},
   "outputs": [
    {
     "name": "stdout",
     "output_type": "stream",
     "text": [
      "(528870, 13)\n"
     ]
    }
   ],
   "source": [
    "#take a look at shape\n",
    "print(df.shape)"
   ]
  },
  {
   "cell_type": "code",
   "execution_count": 5,
   "metadata": {},
   "outputs": [
    {
     "data": {
      "text/plain": [
       "beer_ABV              20280\n",
       "beer_beerId               0\n",
       "beer_brewerId             0\n",
       "beer_name                 0\n",
       "beer_style                0\n",
       "review_appearance         0\n",
       "review_palette            0\n",
       "review_overall            0\n",
       "review_taste              0\n",
       "review_profileName      115\n",
       "review_aroma              0\n",
       "review_text             119\n",
       "review_time               0\n",
       "dtype: int64"
      ]
     },
     "execution_count": 5,
     "metadata": {},
     "output_type": "execute_result"
    }
   ],
   "source": [
    "#take a look at how many missing values\n",
    "df.isnull().sum()"
   ]
  },
  {
   "cell_type": "code",
   "execution_count": 6,
   "metadata": {},
   "outputs": [
    {
     "name": "stdout",
     "output_type": "stream",
     "text": [
      "<class 'pandas.core.frame.DataFrame'>\n",
      "RangeIndex: 528870 entries, 0 to 528869\n",
      "Data columns (total 13 columns):\n",
      "beer_ABV              508590 non-null float64\n",
      "beer_beerId           528870 non-null int64\n",
      "beer_brewerId         528870 non-null int64\n",
      "beer_name             528870 non-null object\n",
      "beer_style            528870 non-null object\n",
      "review_appearance     528870 non-null float64\n",
      "review_palette        528870 non-null float64\n",
      "review_overall        528870 non-null float64\n",
      "review_taste          528870 non-null float64\n",
      "review_profileName    528755 non-null object\n",
      "review_aroma          528870 non-null float64\n",
      "review_text           528751 non-null object\n",
      "review_time           528870 non-null int64\n",
      "dtypes: float64(6), int64(3), object(4)\n",
      "memory usage: 52.5+ MB\n"
     ]
    }
   ],
   "source": [
    "#take a look at properties of df\n",
    "df.info()"
   ]
  },
  {
   "cell_type": "code",
   "execution_count": 7,
   "metadata": {},
   "outputs": [
    {
     "data": {
      "text/html": [
       "<div>\n",
       "<style scoped>\n",
       "    .dataframe tbody tr th:only-of-type {\n",
       "        vertical-align: middle;\n",
       "    }\n",
       "\n",
       "    .dataframe tbody tr th {\n",
       "        vertical-align: top;\n",
       "    }\n",
       "\n",
       "    .dataframe thead th {\n",
       "        text-align: right;\n",
       "    }\n",
       "</style>\n",
       "<table border=\"1\" class=\"dataframe\">\n",
       "  <thead>\n",
       "    <tr style=\"text-align: right;\">\n",
       "      <th></th>\n",
       "      <th>beer_ABV</th>\n",
       "      <th>beer_beerId</th>\n",
       "      <th>beer_brewerId</th>\n",
       "      <th>review_appearance</th>\n",
       "      <th>review_palette</th>\n",
       "      <th>review_overall</th>\n",
       "      <th>review_taste</th>\n",
       "      <th>review_aroma</th>\n",
       "      <th>review_time</th>\n",
       "    </tr>\n",
       "  </thead>\n",
       "  <tbody>\n",
       "    <tr>\n",
       "      <th>count</th>\n",
       "      <td>508590.000000</td>\n",
       "      <td>528870.000000</td>\n",
       "      <td>528870.000000</td>\n",
       "      <td>528870.000000</td>\n",
       "      <td>528870.000000</td>\n",
       "      <td>528870.000000</td>\n",
       "      <td>528870.000000</td>\n",
       "      <td>528870.000000</td>\n",
       "      <td>5.288700e+05</td>\n",
       "    </tr>\n",
       "    <tr>\n",
       "      <th>mean</th>\n",
       "      <td>7.017442</td>\n",
       "      <td>22098.466016</td>\n",
       "      <td>2598.423429</td>\n",
       "      <td>3.864522</td>\n",
       "      <td>3.758926</td>\n",
       "      <td>3.833197</td>\n",
       "      <td>3.765993</td>\n",
       "      <td>3.817350</td>\n",
       "      <td>1.224885e+09</td>\n",
       "    </tr>\n",
       "    <tr>\n",
       "      <th>std</th>\n",
       "      <td>2.204460</td>\n",
       "      <td>22158.284352</td>\n",
       "      <td>5281.805350</td>\n",
       "      <td>0.604010</td>\n",
       "      <td>0.685335</td>\n",
       "      <td>0.709962</td>\n",
       "      <td>0.669018</td>\n",
       "      <td>0.718903</td>\n",
       "      <td>7.605600e+07</td>\n",
       "    </tr>\n",
       "    <tr>\n",
       "      <th>min</th>\n",
       "      <td>0.010000</td>\n",
       "      <td>3.000000</td>\n",
       "      <td>1.000000</td>\n",
       "      <td>0.000000</td>\n",
       "      <td>1.000000</td>\n",
       "      <td>0.000000</td>\n",
       "      <td>1.000000</td>\n",
       "      <td>1.000000</td>\n",
       "      <td>8.843904e+08</td>\n",
       "    </tr>\n",
       "    <tr>\n",
       "      <th>25%</th>\n",
       "      <td>5.300000</td>\n",
       "      <td>1745.000000</td>\n",
       "      <td>132.000000</td>\n",
       "      <td>3.500000</td>\n",
       "      <td>3.500000</td>\n",
       "      <td>3.500000</td>\n",
       "      <td>3.500000</td>\n",
       "      <td>3.500000</td>\n",
       "      <td>1.174613e+09</td>\n",
       "    </tr>\n",
       "    <tr>\n",
       "      <th>50%</th>\n",
       "      <td>6.500000</td>\n",
       "      <td>14368.000000</td>\n",
       "      <td>394.000000</td>\n",
       "      <td>4.000000</td>\n",
       "      <td>4.000000</td>\n",
       "      <td>4.000000</td>\n",
       "      <td>4.000000</td>\n",
       "      <td>4.000000</td>\n",
       "      <td>1.240366e+09</td>\n",
       "    </tr>\n",
       "    <tr>\n",
       "      <th>75%</th>\n",
       "      <td>8.500000</td>\n",
       "      <td>40528.000000</td>\n",
       "      <td>1475.000000</td>\n",
       "      <td>4.000000</td>\n",
       "      <td>4.000000</td>\n",
       "      <td>4.500000</td>\n",
       "      <td>4.000000</td>\n",
       "      <td>4.500000</td>\n",
       "      <td>1.288560e+09</td>\n",
       "    </tr>\n",
       "    <tr>\n",
       "      <th>max</th>\n",
       "      <td>57.700000</td>\n",
       "      <td>77310.000000</td>\n",
       "      <td>27980.000000</td>\n",
       "      <td>5.000000</td>\n",
       "      <td>5.000000</td>\n",
       "      <td>5.000000</td>\n",
       "      <td>5.000000</td>\n",
       "      <td>5.000000</td>\n",
       "      <td>1.326277e+09</td>\n",
       "    </tr>\n",
       "  </tbody>\n",
       "</table>\n",
       "</div>"
      ],
      "text/plain": [
       "            beer_ABV    beer_beerId  beer_brewerId  review_appearance  \\\n",
       "count  508590.000000  528870.000000  528870.000000      528870.000000   \n",
       "mean        7.017442   22098.466016    2598.423429           3.864522   \n",
       "std         2.204460   22158.284352    5281.805350           0.604010   \n",
       "min         0.010000       3.000000       1.000000           0.000000   \n",
       "25%         5.300000    1745.000000     132.000000           3.500000   \n",
       "50%         6.500000   14368.000000     394.000000           4.000000   \n",
       "75%         8.500000   40528.000000    1475.000000           4.000000   \n",
       "max        57.700000   77310.000000   27980.000000           5.000000   \n",
       "\n",
       "       review_palette  review_overall   review_taste   review_aroma  \\\n",
       "count   528870.000000   528870.000000  528870.000000  528870.000000   \n",
       "mean         3.758926        3.833197       3.765993       3.817350   \n",
       "std          0.685335        0.709962       0.669018       0.718903   \n",
       "min          1.000000        0.000000       1.000000       1.000000   \n",
       "25%          3.500000        3.500000       3.500000       3.500000   \n",
       "50%          4.000000        4.000000       4.000000       4.000000   \n",
       "75%          4.000000        4.500000       4.000000       4.500000   \n",
       "max          5.000000        5.000000       5.000000       5.000000   \n",
       "\n",
       "        review_time  \n",
       "count  5.288700e+05  \n",
       "mean   1.224885e+09  \n",
       "std    7.605600e+07  \n",
       "min    8.843904e+08  \n",
       "25%    1.174613e+09  \n",
       "50%    1.240366e+09  \n",
       "75%    1.288560e+09  \n",
       "max    1.326277e+09  "
      ]
     },
     "execution_count": 7,
     "metadata": {},
     "output_type": "execute_result"
    }
   ],
   "source": [
    "#look for any trends in dataset\n",
    "df.describe()"
   ]
  },
  {
   "cell_type": "code",
   "execution_count": 8,
   "metadata": {},
   "outputs": [
    {
     "data": {
      "text/plain": [
       "beer_ABV              20280\n",
       "beer_beerId               0\n",
       "beer_brewerId             0\n",
       "beer_name                 0\n",
       "beer_style                0\n",
       "review_appearance         0\n",
       "review_palette            0\n",
       "review_overall            0\n",
       "review_taste              0\n",
       "review_profileName        0\n",
       "review_aroma              0\n",
       "review_text               0\n",
       "review_time               0\n",
       "dtype: int64"
      ]
     },
     "execution_count": 8,
     "metadata": {},
     "output_type": "execute_result"
    }
   ],
   "source": [
    "#fill in missing profile name with unknown and missing text with none\n",
    "df.review_profileName.fillna('unknown', inplace=True)\n",
    "df.review_text.fillna('none', inplace=True)\n",
    "df.isnull().sum()"
   ]
  },
  {
   "cell_type": "code",
   "execution_count": 9,
   "metadata": {},
   "outputs": [
    {
     "data": {
      "text/plain": [
       "0.03834590731181576"
      ]
     },
     "execution_count": 9,
     "metadata": {},
     "output_type": "execute_result"
    }
   ],
   "source": [
    "#calculate % of missing ABV entries over total entries\n",
    "20280 / 528870"
   ]
  },
  {
   "cell_type": "code",
   "execution_count": 10,
   "metadata": {},
   "outputs": [
    {
     "data": {
      "text/plain": [
       "beer_ABV              0\n",
       "beer_beerId           0\n",
       "beer_brewerId         0\n",
       "beer_name             0\n",
       "beer_style            0\n",
       "review_appearance     0\n",
       "review_palette        0\n",
       "review_overall        0\n",
       "review_taste          0\n",
       "review_profileName    0\n",
       "review_aroma          0\n",
       "review_text           0\n",
       "review_time           0\n",
       "dtype: int64"
      ]
     },
     "execution_count": 10,
     "metadata": {},
     "output_type": "execute_result"
    }
   ],
   "source": [
    "#since the amount is less than 5%, drop the rows without ABV since its small% and using mean ABV is not an option\n",
    "df.dropna(inplace=True)\n",
    "df.isnull().sum()"
   ]
  },
  {
   "cell_type": "code",
   "execution_count": 11,
   "metadata": {},
   "outputs": [
    {
     "data": {
      "text/plain": [
       "<matplotlib.axes._subplots.AxesSubplot at 0x10daa4588>"
      ]
     },
     "execution_count": 11,
     "metadata": {},
     "output_type": "execute_result"
    },
    {
     "data": {
      "image/png": "[encoded data removed]",
      "text/plain": [
       "<Figure size 720x576 with 2 Axes>"
      ]
     },
     "metadata": {
      "needs_background": "light"
     },
     "output_type": "display_data"
    }
   ],
   "source": [
    "#look for trends/correlations by plotting a correlation heatmap\n",
    "plt.subplots(figsize=(10,8))\n",
    "ax = plt.axes()\n",
    "ax.set_title(\"CORRELATION_HEAT_MAP\")\n",
    "corr = df.corr()\n",
    "sns.heatmap(corr, annot=True, xticklabels=corr.columns.values, yticklabels=corr.columns.values)"
   ]
  },
  {
   "cell_type": "markdown",
   "metadata": {},
   "source": [
    "### Correlation heatmap shows that there is strong correlation between overall review and review_aroma.  There is also strong correlation between review_aroma and review_taste.  Finally, there is strong correlation between review_palette and review_aroma.  "
   ]
  },
  {
   "cell_type": "markdown",
   "metadata": {},
   "source": [
    "### The Correlation heatmap shows a strong negative correlation between overall review and beer_brewer_Id indicating the beer review is not correlated with which brewery is serving that beer."
   ]
  },
  {
   "cell_type": "markdown",
   "metadata": {},
   "source": [
    "## Rank top 3 Breweries which produce the strongest beers?"
   ]
  },
  {
   "cell_type": "code",
   "execution_count": 12,
   "metadata": {},
   "outputs": [
    {
     "data": {
      "text/html": [
       "<div>\n",
       "<style scoped>\n",
       "    .dataframe tbody tr th:only-of-type {\n",
       "        vertical-align: middle;\n",
       "    }\n",
       "\n",
       "    .dataframe tbody tr th {\n",
       "        vertical-align: top;\n",
       "    }\n",
       "\n",
       "    .dataframe thead th {\n",
       "        text-align: right;\n",
       "    }\n",
       "</style>\n",
       "<table border=\"1\" class=\"dataframe\">\n",
       "  <thead>\n",
       "    <tr style=\"text-align: right;\">\n",
       "      <th></th>\n",
       "      <th>beer_ABV</th>\n",
       "      <th>beer_beerId</th>\n",
       "      <th>beer_brewerId</th>\n",
       "      <th>beer_name</th>\n",
       "      <th>beer_style</th>\n",
       "      <th>review_appearance</th>\n",
       "      <th>review_palette</th>\n",
       "      <th>review_overall</th>\n",
       "      <th>review_taste</th>\n",
       "      <th>review_profileName</th>\n",
       "      <th>review_aroma</th>\n",
       "      <th>review_text</th>\n",
       "      <th>review_time</th>\n",
       "    </tr>\n",
       "  </thead>\n",
       "  <tbody>\n",
       "    <tr>\n",
       "      <th>12889</th>\n",
       "      <td>57.70</td>\n",
       "      <td>73368</td>\n",
       "      <td>6513</td>\n",
       "      <td>Schorschbräu Schorschbock 57%</td>\n",
       "      <td>Eisbock</td>\n",
       "      <td>4.0</td>\n",
       "      <td>4.0</td>\n",
       "      <td>4.0</td>\n",
       "      <td>4.0</td>\n",
       "      <td>kappldav123</td>\n",
       "      <td>3.5</td>\n",
       "      <td>New world strongest beer. Very limited, only 3...</td>\n",
       "      <td>1316780901</td>\n",
       "    </tr>\n",
       "    <tr>\n",
       "      <th>12909</th>\n",
       "      <td>43.00</td>\n",
       "      <td>57856</td>\n",
       "      <td>6513</td>\n",
       "      <td>Schorschbräu Schorschbock 43%</td>\n",
       "      <td>Eisbock</td>\n",
       "      <td>3.5</td>\n",
       "      <td>4.0</td>\n",
       "      <td>4.0</td>\n",
       "      <td>4.0</td>\n",
       "      <td>Sunnanek</td>\n",
       "      <td>4.0</td>\n",
       "      <td>43% ABV - this is so crazy! A: Pour is warm am...</td>\n",
       "      <td>1309974178</td>\n",
       "    </tr>\n",
       "    <tr>\n",
       "      <th>12910</th>\n",
       "      <td>43.00</td>\n",
       "      <td>57856</td>\n",
       "      <td>6513</td>\n",
       "      <td>Schorschbräu Schorschbock 43%</td>\n",
       "      <td>Eisbock</td>\n",
       "      <td>4.0</td>\n",
       "      <td>4.0</td>\n",
       "      <td>3.5</td>\n",
       "      <td>4.0</td>\n",
       "      <td>kappldav123</td>\n",
       "      <td>4.5</td>\n",
       "      <td>The bottle looks really great, handnumbered an...</td>\n",
       "      <td>1274469798</td>\n",
       "    </tr>\n",
       "    <tr>\n",
       "      <th>12911</th>\n",
       "      <td>39.44</td>\n",
       "      <td>55712</td>\n",
       "      <td>6513</td>\n",
       "      <td>Schorschbräu Schorschbock 40%</td>\n",
       "      <td>Eisbock</td>\n",
       "      <td>3.0</td>\n",
       "      <td>3.0</td>\n",
       "      <td>3.0</td>\n",
       "      <td>2.0</td>\n",
       "      <td>orangesol</td>\n",
       "      <td>3.0</td>\n",
       "      <td>Thanks to foofaa for sharing his sample with m...</td>\n",
       "      <td>1321041551</td>\n",
       "    </tr>\n",
       "    <tr>\n",
       "      <th>12912</th>\n",
       "      <td>39.44</td>\n",
       "      <td>55712</td>\n",
       "      <td>6513</td>\n",
       "      <td>Schorschbräu Schorschbock 40%</td>\n",
       "      <td>Eisbock</td>\n",
       "      <td>3.5</td>\n",
       "      <td>3.5</td>\n",
       "      <td>3.0</td>\n",
       "      <td>3.5</td>\n",
       "      <td>thepeter</td>\n",
       "      <td>3.5</td>\n",
       "      <td>Very lucky to get a 2oz sample of this at a ta...</td>\n",
       "      <td>1274645294</td>\n",
       "    </tr>\n",
       "  </tbody>\n",
       "</table>\n",
       "</div>"
      ],
      "text/plain": [
       "       beer_ABV  beer_beerId  beer_brewerId                      beer_name  \\\n",
       "12889     57.70        73368           6513  Schorschbräu Schorschbock 57%   \n",
       "12909     43.00        57856           6513  Schorschbräu Schorschbock 43%   \n",
       "12910     43.00        57856           6513  Schorschbräu Schorschbock 43%   \n",
       "12911     39.44        55712           6513  Schorschbräu Schorschbock 40%   \n",
       "12912     39.44        55712           6513  Schorschbräu Schorschbock 40%   \n",
       "\n",
       "      beer_style  review_appearance  review_palette  review_overall  \\\n",
       "12889    Eisbock                4.0             4.0             4.0   \n",
       "12909    Eisbock                3.5             4.0             4.0   \n",
       "12910    Eisbock                4.0             4.0             3.5   \n",
       "12911    Eisbock                3.0             3.0             3.0   \n",
       "12912    Eisbock                3.5             3.5             3.0   \n",
       "\n",
       "       review_taste review_profileName  review_aroma  \\\n",
       "12889           4.0        kappldav123           3.5   \n",
       "12909           4.0           Sunnanek           4.0   \n",
       "12910           4.0        kappldav123           4.5   \n",
       "12911           2.0          orangesol           3.0   \n",
       "12912           3.5           thepeter           3.5   \n",
       "\n",
       "                                             review_text  review_time  \n",
       "12889  New world strongest beer. Very limited, only 3...   1316780901  \n",
       "12909  43% ABV - this is so crazy! A: Pour is warm am...   1309974178  \n",
       "12910  The bottle looks really great, handnumbered an...   1274469798  \n",
       "12911  Thanks to foofaa for sharing his sample with m...   1321041551  \n",
       "12912  Very lucky to get a 2oz sample of this at a ta...   1274645294  "
      ]
     },
     "execution_count": 12,
     "metadata": {},
     "output_type": "execute_result"
    }
   ],
   "source": [
    "#sort values in dataframe by ABV and brewerId\n",
    "df_strong = df.sort_values(['beer_ABV', 'beer_brewerId'], ascending = False)\n",
    "df_strong.head()\n"
   ]
  },
  {
   "cell_type": "code",
   "execution_count": 13,
   "metadata": {},
   "outputs": [
    {
     "data": {
      "text/plain": [
       "458"
      ]
     },
     "execution_count": 13,
     "metadata": {},
     "output_type": "execute_result"
    }
   ],
   "source": [
    "#filter out the dataframe even further by only looking at beers with ABV > 19\n",
    "df_strong_total = df_strong[df_strong['beer_ABV'] >19]\n",
    "len(df_strong_total)"
   ]
  },
  {
   "cell_type": "code",
   "execution_count": 14,
   "metadata": {},
   "outputs": [
    {
     "data": {
      "text/plain": [
       "<matplotlib.axes._subplots.AxesSubplot at 0x1a22195da0>"
      ]
     },
     "execution_count": 14,
     "metadata": {},
     "output_type": "execute_result"
    },
    {
     "data": {
      "image/png": "[encoded data removed]",
      "text/plain": [
       "<Figure size 432x288 with 1 Axes>"
      ]
     },
     "metadata": {
      "needs_background": "light"
     },
     "output_type": "display_data"
    }
   ],
   "source": [
    "#perform groupby between brewery and class beer_ABV to visually see which breweries serve the strongest beer\n",
    "df_strong_total.groupby('beer_brewerId').beer_ABV.mean().plot(kind='bar')"
   ]
  },
  {
   "cell_type": "code",
   "execution_count": 15,
   "metadata": {},
   "outputs": [
    {
     "data": {
      "text/plain": [
       "beer_brewerId\n",
       "35       26.406542\n",
       "2958     19.500000\n",
       "6513     41.840000\n",
       "16866    19.500000\n",
       "18796    19.200000\n",
       "Name: beer_ABV, dtype: float64"
      ]
     },
     "execution_count": 15,
     "metadata": {},
     "output_type": "execute_result"
    }
   ],
   "source": [
    "#take a look at same groupby mathematically since visually 2958, 16866 and 18796 appear the same\n",
    "df_strong_total.groupby('beer_brewerId').beer_ABV.mean()"
   ]
  },
  {
   "cell_type": "code",
   "execution_count": 16,
   "metadata": {},
   "outputs": [
    {
     "data": {
      "text/plain": [
       "5"
      ]
     },
     "execution_count": 16,
     "metadata": {},
     "output_type": "execute_result"
    }
   ],
   "source": [
    "#filter out the dataframe even further to look at only the unique breweryID's with the strongest beers\n",
    "df_strong_unique = df_strong_total['beer_brewerId'].unique()\n",
    "len(df_strong_unique)\n"
   ]
  },
  {
   "cell_type": "code",
   "execution_count": 17,
   "metadata": {},
   "outputs": [
    {
     "name": "stdout",
     "output_type": "stream",
     "text": [
      "[ 6513    35 16866  2958 18796]\n"
     ]
    }
   ],
   "source": [
    "print(df_strong_unique)"
   ]
  },
  {
   "cell_type": "markdown",
   "metadata": {},
   "source": [
    "### Therefore, the three brewery id's with the strongest beers are Brewery ID 6513, 35, and 16866. The top five brewery id's with the strongest beers are Brewery ID 1.) 6513, 2.) 35, 3.) 16866, 4.) 2958 and 5.) 18796."
   ]
  },
  {
   "cell_type": "code",
   "execution_count": 18,
   "metadata": {},
   "outputs": [
    {
     "data": {
      "text/plain": [
       "13"
      ]
     },
     "execution_count": 18,
     "metadata": {},
     "output_type": "execute_result"
    }
   ],
   "source": [
    "#take a look at how many unique beer names are in the strong beer dataset\n",
    "df_name_unique = df_strong_total['beer_name'].unique()\n",
    "len(df_name_unique)"
   ]
  },
  {
   "cell_type": "code",
   "execution_count": 19,
   "metadata": {},
   "outputs": [
    {
     "data": {
      "image/png": "[encoded data removed]",
      "text/plain": [
       "<Figure size 432x288 with 1 Axes>"
      ]
     },
     "metadata": {
      "needs_background": "light"
     },
     "output_type": "display_data"
    }
   ],
   "source": [
    "#plot the top 5 highest ABV serving breweries against the beer names to look for trends\n",
    "sns.scatterplot(x = 'beer_brewerId', y = 'beer_name', data = df_strong_total)\n",
    "plt.show()"
   ]
  },
  {
   "cell_type": "markdown",
   "metadata": {},
   "source": [
    "### This shows that while brewery id 6513 serves the strongest beer that brewery id 35 serves the most different kinds of strong beers."
   ]
  },
  {
   "cell_type": "code",
   "execution_count": 20,
   "metadata": {},
   "outputs": [
    {
     "data": {
      "text/plain": [
       "<matplotlib.axes._subplots.AxesSubplot at 0x1a227912b0>"
      ]
     },
     "execution_count": 20,
     "metadata": {},
     "output_type": "execute_result"
    },
    {
     "data": {
      "image/png": "[encoded data removed]",
      "text/plain": [
       "<Figure size 432x288 with 1 Axes>"
      ]
     },
     "metadata": {
      "needs_background": "light"
     },
     "output_type": "display_data"
    }
   ],
   "source": [
    "#plot the top 5 strongest breweries against the overall review of those breweries\n",
    "sns.countplot(x='review_overall', data=df_strong_total, hue='beer_brewerId')"
   ]
  },
  {
   "cell_type": "markdown",
   "metadata": {},
   "source": [
    "### This shows that even though beer_brewerId 6513 serves the strongest beers, 6513 does not have the strongest reviews. The plot shows brewer Id's 35 and 2958 have much better average reviews."
   ]
  },
  {
   "cell_type": "code",
   "execution_count": 21,
   "metadata": {},
   "outputs": [
    {
     "data": {
      "image/png": "[encoded data removed]",
      "text/plain": [
       "<Figure size 432x288 with 1 Axes>"
      ]
     },
     "metadata": {
      "needs_background": "light"
     },
     "output_type": "display_data"
    }
   ],
   "source": [
    "#take a closer look at the trends seen with the taste and aroma reviews of the strongest beers w/a 3d histogram\n",
    "from mpl_toolkits.mplot3d import Axes3D\n",
    "from matplotlib import style\n",
    "\n",
    "fig = plt.figure()\n",
    "ax = fig.add_subplot(111,projection='3d')\n",
    "x = df_strong_total['review_taste']\n",
    "y = df_strong_total['review_aroma']\n",
    "\n",
    "hist, xedges, yedges, = np.histogram2d(x,y,bins=(4,4))\n",
    "xpos, ypos = np.meshgrid(xedges[:1]+xedges[1:],yedges[:-1]+yedges[1:])\n",
    "xpos = xpos.flatten()/2.\n",
    "ypos = ypos.flatten()/2.\n",
    "zpos = np.zeros_like (xpos)\n",
    "dx = xedges [1] - xedges[0]\n",
    "dy = yedges [1] - yedges[1]\n",
    "dz = hist.flatten()\n",
    "\n",
    "ax.bar3d(xpos, ypos, zpos,dx, dy, dz, color='b', zsort='average')\n",
    "plt.xlabel(\"Taste_Review\")\n",
    "plt.ylabel(\"Aroma_Review\")\n",
    "\n",
    "plt.show()"
   ]
  },
  {
   "cell_type": "markdown",
   "metadata": {},
   "source": [
    "### This shows the correlation heatmap finding that there is a strong correlation between taste and aroma reviews.  This shows that this correlation not only applies to the whole dataset but also to the strongest of beers in the dataset"
   ]
  },
  {
   "cell_type": "markdown",
   "metadata": {},
   "source": [
    "## Which year did beers enjoy the highest ratings?"
   ]
  },
  {
   "cell_type": "code",
   "execution_count": 22,
   "metadata": {},
   "outputs": [],
   "source": [
    "#first convert to readable datetime from unix\n",
    "df[ 'review_time' ] = pd.to_datetime(df[ 'review_time' ], unit = 's' )"
   ]
  },
  {
   "cell_type": "code",
   "execution_count": 23,
   "metadata": {},
   "outputs": [
    {
     "data": {
      "text/html": [
       "<div>\n",
       "<style scoped>\n",
       "    .dataframe tbody tr th:only-of-type {\n",
       "        vertical-align: middle;\n",
       "    }\n",
       "\n",
       "    .dataframe tbody tr th {\n",
       "        vertical-align: top;\n",
       "    }\n",
       "\n",
       "    .dataframe thead th {\n",
       "        text-align: right;\n",
       "    }\n",
       "</style>\n",
       "<table border=\"1\" class=\"dataframe\">\n",
       "  <thead>\n",
       "    <tr style=\"text-align: right;\">\n",
       "      <th></th>\n",
       "      <th>beer_ABV</th>\n",
       "      <th>beer_beerId</th>\n",
       "      <th>beer_brewerId</th>\n",
       "      <th>beer_name</th>\n",
       "      <th>beer_style</th>\n",
       "      <th>review_appearance</th>\n",
       "      <th>review_palette</th>\n",
       "      <th>review_overall</th>\n",
       "      <th>review_taste</th>\n",
       "      <th>review_profileName</th>\n",
       "      <th>review_aroma</th>\n",
       "      <th>review_text</th>\n",
       "      <th>review_time</th>\n",
       "    </tr>\n",
       "  </thead>\n",
       "  <tbody>\n",
       "    <tr>\n",
       "      <th>0</th>\n",
       "      <td>5.0</td>\n",
       "      <td>47986</td>\n",
       "      <td>10325</td>\n",
       "      <td>Sausa Weizen</td>\n",
       "      <td>Hefeweizen</td>\n",
       "      <td>2.5</td>\n",
       "      <td>2.0</td>\n",
       "      <td>1.5</td>\n",
       "      <td>1.5</td>\n",
       "      <td>stcules</td>\n",
       "      <td>1.5</td>\n",
       "      <td>A lot of foam. But a lot. In the smell some ba...</td>\n",
       "      <td>2009-02-16 20:57:03</td>\n",
       "    </tr>\n",
       "    <tr>\n",
       "      <th>1</th>\n",
       "      <td>6.2</td>\n",
       "      <td>48213</td>\n",
       "      <td>10325</td>\n",
       "      <td>Red Moon</td>\n",
       "      <td>English Strong Ale</td>\n",
       "      <td>3.0</td>\n",
       "      <td>2.5</td>\n",
       "      <td>3.0</td>\n",
       "      <td>3.0</td>\n",
       "      <td>stcules</td>\n",
       "      <td>3.0</td>\n",
       "      <td>Dark red color, light beige foam, average. In ...</td>\n",
       "      <td>2009-03-01 13:44:57</td>\n",
       "    </tr>\n",
       "    <tr>\n",
       "      <th>2</th>\n",
       "      <td>6.5</td>\n",
       "      <td>48215</td>\n",
       "      <td>10325</td>\n",
       "      <td>Black Horse Black Beer</td>\n",
       "      <td>Foreign / Export Stout</td>\n",
       "      <td>3.0</td>\n",
       "      <td>2.5</td>\n",
       "      <td>3.0</td>\n",
       "      <td>3.0</td>\n",
       "      <td>stcules</td>\n",
       "      <td>3.0</td>\n",
       "      <td>Almost totally black. Beige foam, quite compac...</td>\n",
       "      <td>2009-03-01 14:10:04</td>\n",
       "    </tr>\n",
       "    <tr>\n",
       "      <th>3</th>\n",
       "      <td>5.0</td>\n",
       "      <td>47969</td>\n",
       "      <td>10325</td>\n",
       "      <td>Sausa Pils</td>\n",
       "      <td>German Pilsener</td>\n",
       "      <td>3.5</td>\n",
       "      <td>3.0</td>\n",
       "      <td>3.0</td>\n",
       "      <td>2.5</td>\n",
       "      <td>stcules</td>\n",
       "      <td>3.0</td>\n",
       "      <td>Golden yellow color. White, compact foam, quit...</td>\n",
       "      <td>2009-02-15 19:12:25</td>\n",
       "    </tr>\n",
       "    <tr>\n",
       "      <th>4</th>\n",
       "      <td>7.7</td>\n",
       "      <td>64883</td>\n",
       "      <td>1075</td>\n",
       "      <td>Cauldron DIPA</td>\n",
       "      <td>American Double / Imperial IPA</td>\n",
       "      <td>4.0</td>\n",
       "      <td>4.5</td>\n",
       "      <td>4.0</td>\n",
       "      <td>4.0</td>\n",
       "      <td>johnmichaelsen</td>\n",
       "      <td>4.5</td>\n",
       "      <td>According to the website, the style for the Ca...</td>\n",
       "      <td>2010-12-30 18:53:26</td>\n",
       "    </tr>\n",
       "  </tbody>\n",
       "</table>\n",
       "</div>"
      ],
      "text/plain": [
       "   beer_ABV  beer_beerId  beer_brewerId               beer_name  \\\n",
       "0       5.0        47986          10325            Sausa Weizen   \n",
       "1       6.2        48213          10325                Red Moon   \n",
       "2       6.5        48215          10325  Black Horse Black Beer   \n",
       "3       5.0        47969          10325              Sausa Pils   \n",
       "4       7.7        64883           1075           Cauldron DIPA   \n",
       "\n",
       "                       beer_style  review_appearance  review_palette  \\\n",
       "0                      Hefeweizen                2.5             2.0   \n",
       "1              English Strong Ale                3.0             2.5   \n",
       "2          Foreign / Export Stout                3.0             2.5   \n",
       "3                 German Pilsener                3.5             3.0   \n",
       "4  American Double / Imperial IPA                4.0             4.5   \n",
       "\n",
       "   review_overall  review_taste review_profileName  review_aroma  \\\n",
       "0             1.5           1.5            stcules           1.5   \n",
       "1             3.0           3.0            stcules           3.0   \n",
       "2             3.0           3.0            stcules           3.0   \n",
       "3             3.0           2.5            stcules           3.0   \n",
       "4             4.0           4.0     johnmichaelsen           4.5   \n",
       "\n",
       "                                         review_text         review_time  \n",
       "0  A lot of foam. But a lot. In the smell some ba... 2009-02-16 20:57:03  \n",
       "1  Dark red color, light beige foam, average. In ... 2009-03-01 13:44:57  \n",
       "2  Almost totally black. Beige foam, quite compac... 2009-03-01 14:10:04  \n",
       "3  Golden yellow color. White, compact foam, quit... 2009-02-15 19:12:25  \n",
       "4  According to the website, the style for the Ca... 2010-12-30 18:53:26  "
      ]
     },
     "execution_count": 23,
     "metadata": {},
     "output_type": "execute_result"
    }
   ],
   "source": [
    "#take a look at dataframe\n",
    "df.head()"
   ]
  },
  {
   "cell_type": "code",
   "execution_count": 24,
   "metadata": {},
   "outputs": [
    {
     "data": {
      "text/plain": [
       "beer_ABV                     float64\n",
       "beer_beerId                    int64\n",
       "beer_brewerId                  int64\n",
       "beer_name                     object\n",
       "beer_style                    object\n",
       "review_appearance            float64\n",
       "review_palette               float64\n",
       "review_overall               float64\n",
       "review_taste                 float64\n",
       "review_profileName            object\n",
       "review_aroma                 float64\n",
       "review_text                   object\n",
       "review_time           datetime64[ns]\n",
       "dtype: object"
      ]
     },
     "execution_count": 24,
     "metadata": {},
     "output_type": "execute_result"
    }
   ],
   "source": [
    "#make sure that date is in datetime\n",
    "df.dtypes"
   ]
  },
  {
   "cell_type": "code",
   "execution_count": 25,
   "metadata": {},
   "outputs": [
    {
     "data": {
      "text/plain": [
       "Timestamp('2012-01-11 10:10:56')"
      ]
     },
     "execution_count": 25,
     "metadata": {},
     "output_type": "execute_result"
    }
   ],
   "source": [
    "#get max time date stamp\n",
    "df.review_time.max()"
   ]
  },
  {
   "cell_type": "code",
   "execution_count": 26,
   "metadata": {},
   "outputs": [
    {
     "data": {
      "text/plain": [
       "Timestamp('1998-01-10 00:00:01')"
      ]
     },
     "execution_count": 26,
     "metadata": {},
     "output_type": "execute_result"
    }
   ],
   "source": [
    "#get min time date stamp\n",
    "df.review_time.min()"
   ]
  },
  {
   "cell_type": "markdown",
   "metadata": {},
   "source": [
    "### This shows the dataset spans from 1998 to 2012 or almost 15 years."
   ]
  },
  {
   "cell_type": "code",
   "execution_count": 27,
   "metadata": {},
   "outputs": [],
   "source": [
    "#create column in data frame for year only\n",
    "df['year'] = df.review_time.dt.year"
   ]
  },
  {
   "cell_type": "code",
   "execution_count": 28,
   "metadata": {},
   "outputs": [
    {
     "data": {
      "text/plain": [
       "<matplotlib.axes._subplots.AxesSubplot at 0x1a228afa58>"
      ]
     },
     "execution_count": 28,
     "metadata": {},
     "output_type": "execute_result"
    },
    {
     "data": {
      "image/png": "[encoded data removed]",
      "text/plain": [
       "<Figure size 432x288 with 1 Axes>"
      ]
     },
     "metadata": {
      "needs_background": "light"
     },
     "output_type": "display_data"
    }
   ],
   "source": [
    "#plot year against count to notice any trends from year to year\n",
    "df.year.value_counts().sort_index().plot()"
   ]
  },
  {
   "cell_type": "markdown",
   "metadata": {},
   "source": [
    "### This interestingly shows the reviews have steadily climbed over time with the highest count of reviews in 2011"
   ]
  },
  {
   "cell_type": "code",
   "execution_count": 29,
   "metadata": {},
   "outputs": [
    {
     "data": {
      "text/plain": [
       "(array([728659.00000289, 729390.00000289, 730120.00000289, 730851.00000289,\n",
       "        731581.00000289, 732312.00000289, 733042.00000289, 733773.00000289,\n",
       "        734503.00000289]), <a list of 9 Text xticklabel objects>)"
      ]
     },
     "execution_count": 29,
     "metadata": {},
     "output_type": "execute_result"
    },
    {
     "data": {
      "image/png": "[encoded data removed]",
      "text/plain": [
       "<Figure size 432x288 with 1 Axes>"
      ]
     },
     "metadata": {
      "needs_background": "light"
     },
     "output_type": "display_data"
    }
   ],
   "source": [
    "#take a look visually at how time and review are correlated \n",
    "df = df.sort_values('review_time', ascending = True)\n",
    "plt.plot(df['review_time'],df['review_overall'])\n",
    "plt.xticks(rotation = 'vertical')"
   ]
  },
  {
   "cell_type": "markdown",
   "metadata": {},
   "source": [
    "### So the plot above shows that 1998, 1999 and 2000 enjoyed the highest reviews and that 2003 had the lowest reviews. "
   ]
  },
  {
   "cell_type": "markdown",
   "metadata": {},
   "source": [
    "### The above visualization also shows that 1998, 1999 and 2000 have the highest average reviews but is showing that 2002 has the lowest reviews."
   ]
  },
  {
   "cell_type": "code",
   "execution_count": 30,
   "metadata": {},
   "outputs": [
    {
     "data": {
      "text/plain": [
       "year\n",
       "1998    4.045455\n",
       "1999    4.000000\n",
       "2000    4.233333\n",
       "2001    3.961896\n",
       "2002    3.817551\n",
       "2003    3.772807\n",
       "2004    3.807041\n",
       "2005    3.844327\n",
       "2006    3.808843\n",
       "2007    3.820009\n",
       "2008    3.840548\n",
       "2009    3.868688\n",
       "2010    3.869436\n",
       "2011    3.833438\n",
       "2012    3.838862\n",
       "Name: review_overall, dtype: float64"
      ]
     },
     "execution_count": 30,
     "metadata": {},
     "output_type": "execute_result"
    }
   ],
   "source": [
    "#do a groupby between reviews and year to determine if 1998,1999, or 2000 have highest average reviews\n",
    "df.groupby('year').review_overall.mean()"
   ]
  },
  {
   "cell_type": "markdown",
   "metadata": {},
   "source": [
    "### This indicates that 2000 had the highest average review and that 2003 had the lowest average review. "
   ]
  },
  {
   "cell_type": "code",
   "execution_count": 31,
   "metadata": {},
   "outputs": [
    {
     "data": {
      "text/plain": [
       "<matplotlib.axes._subplots.AxesSubplot at 0x1a22c76c50>"
      ]
     },
     "execution_count": 31,
     "metadata": {},
     "output_type": "execute_result"
    },
    {
     "data": {
      "image/png": "[encoded data removed]",
      "text/plain": [
       "<Figure size 432x288 with 1 Axes>"
      ]
     },
     "metadata": {
      "needs_background": "light"
     },
     "output_type": "display_data"
    }
   ],
   "source": [
    "#perform groupby barplot between overall_review and year\n",
    "df.groupby('year').review_overall.mean().plot(kind='bar')"
   ]
  },
  {
   "cell_type": "markdown",
   "metadata": {},
   "source": [
    "### In conclusion, the year 2000 enjoyed the highest average beer ratings"
   ]
  },
  {
   "cell_type": "markdown",
   "metadata": {},
   "source": [
    "## Based on the user’s ratings which factors are important among taste, aroma,appearance, and palette?"
   ]
  },
  {
   "cell_type": "code",
   "execution_count": 32,
   "metadata": {},
   "outputs": [
    {
     "data": {
      "text/plain": [
       "review_overall       1.000000\n",
       "review_aroma         0.780320\n",
       "review_taste         0.689299\n",
       "review_palette       0.598074\n",
       "review_appearance    0.483098\n",
       "beer_ABV             0.119603\n",
       "year                 0.020072\n",
       "beer_beerId         -0.011667\n",
       "beer_brewerId       -0.014277\n",
       "Name: review_overall, dtype: float64"
      ]
     },
     "execution_count": 32,
     "metadata": {},
     "output_type": "execute_result"
    }
   ],
   "source": [
    "# first take a look at statistical correlation values between ratings and all other features\n",
    "df.corr()['review_overall'].sort_values(ascending=False)"
   ]
  },
  {
   "cell_type": "code",
   "execution_count": 33,
   "metadata": {},
   "outputs": [
    {
     "data": {
      "text/plain": [
       "<matplotlib.axes._subplots.AxesSubplot at 0x1a221b73c8>"
      ]
     },
     "execution_count": 33,
     "metadata": {},
     "output_type": "execute_result"
    },
    {
     "data": {
      "image/png": "[encoded data removed]",
      "text/plain": [
       "<Figure size 432x288 with 1 Axes>"
      ]
     },
     "metadata": {
      "needs_background": "light"
     },
     "output_type": "display_data"
    }
   ],
   "source": [
    "#now take a look visually at the correlations between reviews and aroma, taste, palette, and appearance. \n",
    "df.corr()['review_overall'].sort_values(ascending=False).plot(kind = 'bar')"
   ]
  },
  {
   "cell_type": "markdown",
   "metadata": {},
   "source": [
    "### the data visualization as well as the statistical analysis shows that review aroma is the most correlated with overall user rating followed by review_taste, review_palette and review_appearance. This shows that review_appearance is the least correlated with overall user ratings.  "
   ]
  },
  {
   "cell_type": "code",
   "execution_count": 34,
   "metadata": {},
   "outputs": [
    {
     "name": "stdout",
     "output_type": "stream",
     "text": [
      "(508590, 4)\n",
      "<class 'numpy.ndarray'>\n"
     ]
    }
   ],
   "source": [
    "# create ml model to see which feature is the strongest in determining overall rating\n",
    "x_cols = ['review_taste', 'review_palette', 'review_appearance','review_aroma']\n",
    "X = df[x_cols].as_matrix()\n",
    "print(X.shape)\n",
    "print(type(X))"
   ]
  },
  {
   "cell_type": "code",
   "execution_count": 35,
   "metadata": {},
   "outputs": [
    {
     "name": "stdout",
     "output_type": "stream",
     "text": [
      "<class 'numpy.ndarray'>\n",
      "(508590,)\n"
     ]
    }
   ],
   "source": [
    "#assign the predictor(target) variable\n",
    "y = df['review_overall'].values\n",
    "print(type(y))\n",
    "print(y.shape)"
   ]
  },
  {
   "cell_type": "code",
   "execution_count": 36,
   "metadata": {},
   "outputs": [
    {
     "name": "stdout",
     "output_type": "stream",
     "text": [
      "accuracy on the training subset:0.661\n",
      "accuracy on the test subset:0.652\n"
     ]
    }
   ],
   "source": [
    "#create a random forest regressor model between the different features and the prediction of overall user rating \n",
    "from sklearn.ensemble import RandomForestRegressor\n",
    "from sklearn.model_selection import train_test_split\n",
    "X_train, X_test, y_train, y_test = train_test_split(X,y,random_state=1)\n",
    "rand_reg = RandomForestRegressor(n_estimators=100,random_state=1)\n",
    "rand_reg.fit(X_train,y_train)\n",
    "print(\"accuracy on the training subset:{:.3f}\".format(rand_reg.score(X_train,y_train)))\n",
    "print(\"accuracy on the test subset:{:.3f}\".format(rand_reg.score(X_test,y_test)))"
   ]
  },
  {
   "cell_type": "code",
   "execution_count": 37,
   "metadata": {},
   "outputs": [
    {
     "name": "stdout",
     "output_type": "stream",
     "text": [
      "accuracy on the training subset:0.618\n",
      "accuracy on the test subset:0.620\n"
     ]
    }
   ],
   "source": [
    "#create a random forest regressor model between the different features and the prediction of overall user rating \n",
    "x1_cols = ['review_aroma']\n",
    "X1 = df[x1_cols].as_matrix()\n",
    "X_train, X_test, y_train, y_test = train_test_split(X1,y,random_state=1)\n",
    "rand_reg = RandomForestRegressor(n_estimators=100,random_state=1)\n",
    "rand_reg.fit(X_train,y_train)\n",
    "print(\"accuracy on the training subset:{:.3f}\".format(rand_reg.score(X_train,y_train)))\n",
    "print(\"accuracy on the test subset:{:.3f}\".format(rand_reg.score(X_test,y_test)))"
   ]
  },
  {
   "cell_type": "code",
   "execution_count": 38,
   "metadata": {},
   "outputs": [
    {
     "name": "stdout",
     "output_type": "stream",
     "text": [
      "accuracy on the training subset:0.482\n",
      "accuracy on the test subset:0.488\n"
     ]
    }
   ],
   "source": [
    "#create a random forest regressor model between the different features and the prediction of overall user rating \n",
    "x2_cols = ['review_taste']\n",
    "X2 = df[x2_cols].as_matrix()\n",
    "X_train, X_test, y_train, y_test = train_test_split(X2,y,random_state=1)\n",
    "rand_reg = RandomForestRegressor(n_estimators=100,random_state=1)\n",
    "rand_reg.fit(X_train,y_train)\n",
    "print(\"accuracy on the training subset:{:.3f}\".format(rand_reg.score(X_train,y_train)))\n",
    "print(\"accuracy on the test subset:{:.3f}\".format(rand_reg.score(X_test,y_test)))"
   ]
  },
  {
   "cell_type": "code",
   "execution_count": 39,
   "metadata": {},
   "outputs": [
    {
     "name": "stdout",
     "output_type": "stream",
     "text": [
      "accuracy on the training subset:0.367\n",
      "accuracy on the test subset:0.372\n"
     ]
    }
   ],
   "source": [
    "#create a random forest regressor model between the different features and the prediction of overall user rating \n",
    "x3_cols = ['review_palette']\n",
    "X3 = df[x3_cols].as_matrix()\n",
    "X_train, X_test, y_train, y_test = train_test_split(X3,y,random_state=1)\n",
    "rand_reg = RandomForestRegressor(n_estimators=100,random_state=1)\n",
    "rand_reg.fit(X_train,y_train)\n",
    "print(\"accuracy on the training subset:{:.3f}\".format(rand_reg.score(X_train,y_train)))\n",
    "print(\"accuracy on the test subset:{:.3f}\".format(rand_reg.score(X_test,y_test)))"
   ]
  },
  {
   "cell_type": "code",
   "execution_count": 40,
   "metadata": {},
   "outputs": [
    {
     "name": "stdout",
     "output_type": "stream",
     "text": [
      "accuracy on the training subset:0.238\n",
      "accuracy on the test subset:0.243\n"
     ]
    }
   ],
   "source": [
    "#create a random forest regressor model between the different features and the prediction of overall user rating \n",
    "x4_cols = ['review_appearance']\n",
    "X4 = df[x4_cols].as_matrix()\n",
    "X_train, X_test, y_train, y_test = train_test_split(X4,y,random_state=1)\n",
    "rand_reg = RandomForestRegressor(n_estimators=100,random_state=1)\n",
    "rand_reg.fit(X_train,y_train)\n",
    "print(\"accuracy on the training subset:{:.3f}\".format(rand_reg.score(X_train,y_train)))\n",
    "print(\"accuracy on the test subset:{:.3f}\".format(rand_reg.score(X_test,y_test)))"
   ]
  },
  {
   "cell_type": "markdown",
   "metadata": {},
   "source": [
    "### Running the features through a predictive machine learning model for user rating shows there is not much difference in accuracy between using all four features and just using the review_aroma feature which again confirms that review_aroma is the most important factor amongst the four features for overall user rating"
   ]
  },
  {
   "cell_type": "markdown",
   "metadata": {},
   "source": [
    "## If you were to recommend 3 to 5 beers to your friends based on this data which ones will you recommend?"
   ]
  },
  {
   "cell_type": "code",
   "execution_count": 41,
   "metadata": {},
   "outputs": [
    {
     "data": {
      "text/html": [
       "<div>\n",
       "<style scoped>\n",
       "    .dataframe tbody tr th:only-of-type {\n",
       "        vertical-align: middle;\n",
       "    }\n",
       "\n",
       "    .dataframe tbody tr th {\n",
       "        vertical-align: top;\n",
       "    }\n",
       "\n",
       "    .dataframe thead th {\n",
       "        text-align: right;\n",
       "    }\n",
       "</style>\n",
       "<table border=\"1\" class=\"dataframe\">\n",
       "  <thead>\n",
       "    <tr style=\"text-align: right;\">\n",
       "      <th></th>\n",
       "      <th>beer_ABV</th>\n",
       "      <th>beer_beerId</th>\n",
       "      <th>beer_brewerId</th>\n",
       "      <th>beer_name</th>\n",
       "      <th>beer_style</th>\n",
       "      <th>review_appearance</th>\n",
       "      <th>review_palette</th>\n",
       "      <th>review_overall</th>\n",
       "      <th>review_taste</th>\n",
       "      <th>review_profileName</th>\n",
       "      <th>review_aroma</th>\n",
       "      <th>review_text</th>\n",
       "      <th>review_time</th>\n",
       "      <th>year</th>\n",
       "    </tr>\n",
       "  </thead>\n",
       "  <tbody>\n",
       "    <tr>\n",
       "      <th>45765</th>\n",
       "      <td>4.4</td>\n",
       "      <td>429</td>\n",
       "      <td>1</td>\n",
       "      <td>Pilsner Urquell</td>\n",
       "      <td>Czech Pilsener</td>\n",
       "      <td>5.0</td>\n",
       "      <td>5.0</td>\n",
       "      <td>5.0</td>\n",
       "      <td>5.0</td>\n",
       "      <td>BarnacleBill</td>\n",
       "      <td>5.0</td>\n",
       "      <td>You have been sentenced to drinking only one b...</td>\n",
       "      <td>2000-10-31 17:49:26</td>\n",
       "      <td>2000</td>\n",
       "    </tr>\n",
       "    <tr>\n",
       "      <th>505549</th>\n",
       "      <td>6.1</td>\n",
       "      <td>56973</td>\n",
       "      <td>132</td>\n",
       "      <td>Shakespeare Oatmeal Stout</td>\n",
       "      <td>Oatmeal Stout</td>\n",
       "      <td>5.0</td>\n",
       "      <td>5.0</td>\n",
       "      <td>5.0</td>\n",
       "      <td>5.0</td>\n",
       "      <td>esprit</td>\n",
       "      <td>5.0</td>\n",
       "      <td>If you love Stout, you have to love this one.....</td>\n",
       "      <td>2001-01-30 13:32:38</td>\n",
       "      <td>2001</td>\n",
       "    </tr>\n",
       "    <tr>\n",
       "      <th>374477</th>\n",
       "      <td>8.0</td>\n",
       "      <td>33</td>\n",
       "      <td>22</td>\n",
       "      <td>Maudite</td>\n",
       "      <td>Belgian Strong Dark Ale</td>\n",
       "      <td>5.0</td>\n",
       "      <td>5.0</td>\n",
       "      <td>5.0</td>\n",
       "      <td>5.0</td>\n",
       "      <td>suglis</td>\n",
       "      <td>5.0</td>\n",
       "      <td>A fine Belgian-style beer at less the cash.</td>\n",
       "      <td>2001-02-01 15:10:09</td>\n",
       "      <td>2001</td>\n",
       "    </tr>\n",
       "    <tr>\n",
       "      <th>489478</th>\n",
       "      <td>5.3</td>\n",
       "      <td>353</td>\n",
       "      <td>132</td>\n",
       "      <td>Mocha Porter</td>\n",
       "      <td>American Porter</td>\n",
       "      <td>5.0</td>\n",
       "      <td>5.0</td>\n",
       "      <td>5.0</td>\n",
       "      <td>5.0</td>\n",
       "      <td>Brent</td>\n",
       "      <td>5.0</td>\n",
       "      <td>Very bold with tons of coffee/dark chocolate n...</td>\n",
       "      <td>2001-03-08 09:30:51</td>\n",
       "      <td>2001</td>\n",
       "    </tr>\n",
       "    <tr>\n",
       "      <th>518395</th>\n",
       "      <td>5.0</td>\n",
       "      <td>571</td>\n",
       "      <td>113</td>\n",
       "      <td>Samuel Smith's Oatmeal Stout</td>\n",
       "      <td>Oatmeal Stout</td>\n",
       "      <td>5.0</td>\n",
       "      <td>5.0</td>\n",
       "      <td>5.0</td>\n",
       "      <td>5.0</td>\n",
       "      <td>grdahl</td>\n",
       "      <td>5.0</td>\n",
       "      <td>Quite possibly the best beer on earth. A bit p...</td>\n",
       "      <td>2001-06-22 23:20:51</td>\n",
       "      <td>2001</td>\n",
       "    </tr>\n",
       "  </tbody>\n",
       "</table>\n",
       "</div>"
      ],
      "text/plain": [
       "        beer_ABV  beer_beerId  beer_brewerId                     beer_name  \\\n",
       "45765        4.4          429              1               Pilsner Urquell   \n",
       "505549       6.1        56973            132     Shakespeare Oatmeal Stout   \n",
       "374477       8.0           33             22                       Maudite   \n",
       "489478       5.3          353            132                  Mocha Porter   \n",
       "518395       5.0          571            113  Samuel Smith's Oatmeal Stout   \n",
       "\n",
       "                     beer_style  review_appearance  review_palette  \\\n",
       "45765            Czech Pilsener                5.0             5.0   \n",
       "505549            Oatmeal Stout                5.0             5.0   \n",
       "374477  Belgian Strong Dark Ale                5.0             5.0   \n",
       "489478          American Porter                5.0             5.0   \n",
       "518395            Oatmeal Stout                5.0             5.0   \n",
       "\n",
       "        review_overall  review_taste review_profileName  review_aroma  \\\n",
       "45765              5.0           5.0       BarnacleBill           5.0   \n",
       "505549             5.0           5.0             esprit           5.0   \n",
       "374477             5.0           5.0             suglis           5.0   \n",
       "489478             5.0           5.0              Brent           5.0   \n",
       "518395             5.0           5.0             grdahl           5.0   \n",
       "\n",
       "                                              review_text         review_time  \\\n",
       "45765   You have been sentenced to drinking only one b... 2000-10-31 17:49:26   \n",
       "505549  If you love Stout, you have to love this one..... 2001-01-30 13:32:38   \n",
       "374477        A fine Belgian-style beer at less the cash. 2001-02-01 15:10:09   \n",
       "489478  Very bold with tons of coffee/dark chocolate n... 2001-03-08 09:30:51   \n",
       "518395  Quite possibly the best beer on earth. A bit p... 2001-06-22 23:20:51   \n",
       "\n",
       "        year  \n",
       "45765   2000  \n",
       "505549  2001  \n",
       "374477  2001  \n",
       "489478  2001  \n",
       "518395  2001  "
      ]
     },
     "execution_count": 41,
     "metadata": {},
     "output_type": "execute_result"
    }
   ],
   "source": [
    "#sort from most important feature to least; take a look at dataset\n",
    "df_ratings = df.sort_values(['review_overall', 'review_aroma', 'review_taste','review_palette','review_appearance'], ascending = False)\n",
    "df_top_ratings = df_ratings[0:2000]\n",
    "df_top_ratings.head()"
   ]
  },
  {
   "cell_type": "code",
   "execution_count": 42,
   "metadata": {},
   "outputs": [
    {
     "data": {
      "text/plain": [
       "79"
      ]
     },
     "execution_count": 42,
     "metadata": {},
     "output_type": "execute_result"
    }
   ],
   "source": [
    "#filter dataset using previous data analysis that 2002 had the highest reviews in beer\n",
    "df_2002_ratings = df_top_ratings[df_top_ratings['year'] == 2002]\n",
    "len(df_2002_ratings)"
   ]
  },
  {
   "cell_type": "code",
   "execution_count": 43,
   "metadata": {
    "scrolled": false
   },
   "outputs": [
    {
     "name": "stdout",
     "output_type": "stream",
     "text": [
      "53\n"
     ]
    },
    {
     "data": {
      "text/html": [
       "<div>\n",
       "<style scoped>\n",
       "    .dataframe tbody tr th:only-of-type {\n",
       "        vertical-align: middle;\n",
       "    }\n",
       "\n",
       "    .dataframe tbody tr th {\n",
       "        vertical-align: top;\n",
       "    }\n",
       "\n",
       "    .dataframe thead th {\n",
       "        text-align: right;\n",
       "    }\n",
       "</style>\n",
       "<table border=\"1\" class=\"dataframe\">\n",
       "  <thead>\n",
       "    <tr style=\"text-align: right;\">\n",
       "      <th></th>\n",
       "      <th>beer_ABV</th>\n",
       "      <th>beer_beerId</th>\n",
       "      <th>beer_brewerId</th>\n",
       "      <th>beer_name</th>\n",
       "      <th>beer_style</th>\n",
       "      <th>review_appearance</th>\n",
       "      <th>review_palette</th>\n",
       "      <th>review_overall</th>\n",
       "      <th>review_taste</th>\n",
       "      <th>review_profileName</th>\n",
       "      <th>review_aroma</th>\n",
       "      <th>review_text</th>\n",
       "      <th>review_time</th>\n",
       "      <th>year</th>\n",
       "    </tr>\n",
       "  </thead>\n",
       "  <tbody>\n",
       "    <tr>\n",
       "      <th>247611</th>\n",
       "      <td>9.0</td>\n",
       "      <td>2512</td>\n",
       "      <td>215</td>\n",
       "      <td>Chimay Grande Réserve (Blue)</td>\n",
       "      <td>Belgian Strong Dark Ale</td>\n",
       "      <td>5.0</td>\n",
       "      <td>5.0</td>\n",
       "      <td>5.0</td>\n",
       "      <td>5.0</td>\n",
       "      <td>John</td>\n",
       "      <td>5.0</td>\n",
       "      <td>Presentation: 33cl (11.2oz.) capped bottle. Ex...</td>\n",
       "      <td>2002-01-21 13:17:39</td>\n",
       "      <td>2002</td>\n",
       "    </tr>\n",
       "    <tr>\n",
       "      <th>505537</th>\n",
       "      <td>6.1</td>\n",
       "      <td>56973</td>\n",
       "      <td>132</td>\n",
       "      <td>Shakespeare Oatmeal Stout</td>\n",
       "      <td>Oatmeal Stout</td>\n",
       "      <td>5.0</td>\n",
       "      <td>5.0</td>\n",
       "      <td>5.0</td>\n",
       "      <td>5.0</td>\n",
       "      <td>fdoosey</td>\n",
       "      <td>5.0</td>\n",
       "      <td>I don't think Rogue makes any bad beer, which ...</td>\n",
       "      <td>2002-02-01 13:13:25</td>\n",
       "      <td>2002</td>\n",
       "    </tr>\n",
       "    <tr>\n",
       "      <th>488264</th>\n",
       "      <td>6.5</td>\n",
       "      <td>355</td>\n",
       "      <td>132</td>\n",
       "      <td>Dead Guy Ale</td>\n",
       "      <td>Maibock / Helles Bock</td>\n",
       "      <td>5.0</td>\n",
       "      <td>5.0</td>\n",
       "      <td>5.0</td>\n",
       "      <td>5.0</td>\n",
       "      <td>budgood1</td>\n",
       "      <td>5.0</td>\n",
       "      <td>this is a maibock, not an ale. has a cloudy or...</td>\n",
       "      <td>2002-02-02 23:31:58</td>\n",
       "      <td>2002</td>\n",
       "    </tr>\n",
       "    <tr>\n",
       "      <th>312171</th>\n",
       "      <td>4.9</td>\n",
       "      <td>1879</td>\n",
       "      <td>35</td>\n",
       "      <td>Samuel Adams Cream Stout</td>\n",
       "      <td>Milk / Sweet Stout</td>\n",
       "      <td>5.0</td>\n",
       "      <td>5.0</td>\n",
       "      <td>5.0</td>\n",
       "      <td>5.0</td>\n",
       "      <td>fdoosey</td>\n",
       "      <td>5.0</td>\n",
       "      <td>My bias for stouts is what kept me from becomi...</td>\n",
       "      <td>2002-02-12 10:09:18</td>\n",
       "      <td>2002</td>\n",
       "    </tr>\n",
       "    <tr>\n",
       "      <th>284183</th>\n",
       "      <td>9.5</td>\n",
       "      <td>47785</td>\n",
       "      <td>35</td>\n",
       "      <td>Samuel Adams Double Bock (Imperial Series)</td>\n",
       "      <td>Doppelbock</td>\n",
       "      <td>5.0</td>\n",
       "      <td>5.0</td>\n",
       "      <td>5.0</td>\n",
       "      <td>5.0</td>\n",
       "      <td>fdoosey</td>\n",
       "      <td>5.0</td>\n",
       "      <td>This is my kind of beer. Very strong, very ric...</td>\n",
       "      <td>2002-02-12 10:27:19</td>\n",
       "      <td>2002</td>\n",
       "    </tr>\n",
       "  </tbody>\n",
       "</table>\n",
       "</div>"
      ],
      "text/plain": [
       "        beer_ABV  beer_beerId  beer_brewerId  \\\n",
       "247611       9.0         2512            215   \n",
       "505537       6.1        56973            132   \n",
       "488264       6.5          355            132   \n",
       "312171       4.9         1879             35   \n",
       "284183       9.5        47785             35   \n",
       "\n",
       "                                         beer_name               beer_style  \\\n",
       "247611                Chimay Grande Réserve (Blue)  Belgian Strong Dark Ale   \n",
       "505537                   Shakespeare Oatmeal Stout            Oatmeal Stout   \n",
       "488264                                Dead Guy Ale    Maibock / Helles Bock   \n",
       "312171                    Samuel Adams Cream Stout       Milk / Sweet Stout   \n",
       "284183  Samuel Adams Double Bock (Imperial Series)               Doppelbock   \n",
       "\n",
       "        review_appearance  review_palette  review_overall  review_taste  \\\n",
       "247611                5.0             5.0             5.0           5.0   \n",
       "505537                5.0             5.0             5.0           5.0   \n",
       "488264                5.0             5.0             5.0           5.0   \n",
       "312171                5.0             5.0             5.0           5.0   \n",
       "284183                5.0             5.0             5.0           5.0   \n",
       "\n",
       "       review_profileName  review_aroma  \\\n",
       "247611               John           5.0   \n",
       "505537            fdoosey           5.0   \n",
       "488264           budgood1           5.0   \n",
       "312171            fdoosey           5.0   \n",
       "284183            fdoosey           5.0   \n",
       "\n",
       "                                              review_text         review_time  \\\n",
       "247611  Presentation: 33cl (11.2oz.) capped bottle. Ex... 2002-01-21 13:17:39   \n",
       "505537  I don't think Rogue makes any bad beer, which ... 2002-02-01 13:13:25   \n",
       "488264  this is a maibock, not an ale. has a cloudy or... 2002-02-02 23:31:58   \n",
       "312171  My bias for stouts is what kept me from becomi... 2002-02-12 10:09:18   \n",
       "284183  This is my kind of beer. Very strong, very ric... 2002-02-12 10:27:19   \n",
       "\n",
       "        year  \n",
       "247611  2002  \n",
       "505537  2002  \n",
       "488264  2002  \n",
       "312171  2002  \n",
       "284183  2002  "
      ]
     },
     "execution_count": 43,
     "metadata": {},
     "output_type": "execute_result"
    }
   ],
   "source": [
    "#remove duplicates of same beer name\n",
    "df_2002_ratings = df_2002_ratings.drop_duplicates(subset = 'beer_name', keep = 'first')\n",
    "print(len(df_2002_ratings))\n",
    "df_2002_ratings.head()"
   ]
  },
  {
   "cell_type": "code",
   "execution_count": 44,
   "metadata": {},
   "outputs": [
    {
     "data": {
      "text/plain": [
       "<matplotlib.axes._subplots.AxesSubplot at 0x1a29c73438>"
      ]
     },
     "execution_count": 44,
     "metadata": {},
     "output_type": "execute_result"
    },
    {
     "data": {
      "image/png": "[encoded data removed]",
      "text/plain": [
       "<Figure size 432x288 with 1 Axes>"
      ]
     },
     "metadata": {
      "needs_background": "light"
     },
     "output_type": "display_data"
    }
   ],
   "source": [
    "#take a look at if there are any trends between ABV and overall_review of beers\n",
    "df.groupby('beer_ABV').review_overall.mean().plot()"
   ]
  },
  {
   "cell_type": "markdown",
   "metadata": {},
   "source": [
    "### Since the visualization for ABV sems inconclusive, utilize sentiment text analysis to determine which are the top three rated beers "
   ]
  },
  {
   "cell_type": "code",
   "execution_count": null,
   "metadata": {},
   "outputs": [],
   "source": []
  }
 ],
 "metadata": {
  "kernelspec": {
   "display_name": "Python 3",
   "language": "python",
   "name": "python3"
  },
  "language_info": {
   "codemirror_mode": {
    "name": "ipython",
    "version": 3
   },
   "file_extension": ".py",
   "mimetype": "text/x-python",
   "name": "python",
   "nbconvert_exporter": "python",
   "pygments_lexer": "ipython3",
   "version": "3.7.3"
  }
 },
 "nbformat": 4,
 "nbformat_minor": 2
}
