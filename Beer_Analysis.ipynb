{
 "cells": [
  {
   "cell_type": "markdown",
   "metadata": {},
   "source": [
    "#                                     Beer Analysis"
   ]
  },
  {
   "cell_type": "code",
   "execution_count": 1,
   "metadata": {},
   "outputs": [],
   "source": [
    "#import packages to be used for data analysis\n",
    "import pandas as pd\n",
    "import numpy as np\n",
    "import matplotlib.pyplot as plt\n",
    "%matplotlib inline\n",
    "import seaborn as sns\n",
    "from scipy.stats import zscore\n",
    "from mpl_toolkits.mplot3d import Axes3D\n",
    "sns.set()\n",
    "from warnings import simplefilter\n",
    "simplefilter(action='ignore')"
   ]
  },
  {
   "cell_type": "code",
   "execution_count": 2,
   "metadata": {},
   "outputs": [],
   "source": [
    "#read in dataset into pandas\n",
    "df = pd.read_csv('BeerDataScienceProject.csv', encoding = 'ISO-8859-1')"
   ]
  },
  {
   "cell_type": "code",
   "execution_count": 3,
   "metadata": {},
   "outputs": [
    {
     "data": {
      "text/html": [
       "<div>\n",
       "<style scoped>\n",
       "    .dataframe tbody tr th:only-of-type {\n",
       "        vertical-align: middle;\n",
       "    }\n",
       "\n",
       "    .dataframe tbody tr th {\n",
       "        vertical-align: top;\n",
       "    }\n",
       "\n",
       "    .dataframe thead th {\n",
       "        text-align: right;\n",
       "    }\n",
       "</style>\n",
       "<table border=\"1\" class=\"dataframe\">\n",
       "  <thead>\n",
       "    <tr style=\"text-align: right;\">\n",
       "      <th></th>\n",
       "      <th>beer_ABV</th>\n",
       "      <th>beer_beerId</th>\n",
       "      <th>beer_brewerId</th>\n",
       "      <th>beer_name</th>\n",
       "      <th>beer_style</th>\n",
       "      <th>review_appearance</th>\n",
       "      <th>review_palette</th>\n",
       "      <th>review_overall</th>\n",
       "      <th>review_taste</th>\n",
       "      <th>review_profileName</th>\n",
       "      <th>review_aroma</th>\n",
       "      <th>review_text</th>\n",
       "      <th>review_time</th>\n",
       "    </tr>\n",
       "  </thead>\n",
       "  <tbody>\n",
       "    <tr>\n",
       "      <th>0</th>\n",
       "      <td>5.0</td>\n",
       "      <td>47986</td>\n",
       "      <td>10325</td>\n",
       "      <td>Sausa Weizen</td>\n",
       "      <td>Hefeweizen</td>\n",
       "      <td>2.5</td>\n",
       "      <td>2.0</td>\n",
       "      <td>1.5</td>\n",
       "      <td>1.5</td>\n",
       "      <td>stcules</td>\n",
       "      <td>1.5</td>\n",
       "      <td>A lot of foam. But a lot. In the smell some ba...</td>\n",
       "      <td>1234817823</td>\n",
       "    </tr>\n",
       "    <tr>\n",
       "      <th>1</th>\n",
       "      <td>6.2</td>\n",
       "      <td>48213</td>\n",
       "      <td>10325</td>\n",
       "      <td>Red Moon</td>\n",
       "      <td>English Strong Ale</td>\n",
       "      <td>3.0</td>\n",
       "      <td>2.5</td>\n",
       "      <td>3.0</td>\n",
       "      <td>3.0</td>\n",
       "      <td>stcules</td>\n",
       "      <td>3.0</td>\n",
       "      <td>Dark red color, light beige foam, average. In ...</td>\n",
       "      <td>1235915097</td>\n",
       "    </tr>\n",
       "    <tr>\n",
       "      <th>2</th>\n",
       "      <td>6.5</td>\n",
       "      <td>48215</td>\n",
       "      <td>10325</td>\n",
       "      <td>Black Horse Black Beer</td>\n",
       "      <td>Foreign / Export Stout</td>\n",
       "      <td>3.0</td>\n",
       "      <td>2.5</td>\n",
       "      <td>3.0</td>\n",
       "      <td>3.0</td>\n",
       "      <td>stcules</td>\n",
       "      <td>3.0</td>\n",
       "      <td>Almost totally black. Beige foam, quite compac...</td>\n",
       "      <td>1235916604</td>\n",
       "    </tr>\n",
       "    <tr>\n",
       "      <th>3</th>\n",
       "      <td>5.0</td>\n",
       "      <td>47969</td>\n",
       "      <td>10325</td>\n",
       "      <td>Sausa Pils</td>\n",
       "      <td>German Pilsener</td>\n",
       "      <td>3.5</td>\n",
       "      <td>3.0</td>\n",
       "      <td>3.0</td>\n",
       "      <td>2.5</td>\n",
       "      <td>stcules</td>\n",
       "      <td>3.0</td>\n",
       "      <td>Golden yellow color. White, compact foam, quit...</td>\n",
       "      <td>1234725145</td>\n",
       "    </tr>\n",
       "    <tr>\n",
       "      <th>4</th>\n",
       "      <td>7.7</td>\n",
       "      <td>64883</td>\n",
       "      <td>1075</td>\n",
       "      <td>Cauldron DIPA</td>\n",
       "      <td>American Double / Imperial IPA</td>\n",
       "      <td>4.0</td>\n",
       "      <td>4.5</td>\n",
       "      <td>4.0</td>\n",
       "      <td>4.0</td>\n",
       "      <td>johnmichaelsen</td>\n",
       "      <td>4.5</td>\n",
       "      <td>According to the website, the style for the Ca...</td>\n",
       "      <td>1293735206</td>\n",
       "    </tr>\n",
       "  </tbody>\n",
       "</table>\n",
       "</div>"
      ],
      "text/plain": [
       "   beer_ABV  beer_beerId  beer_brewerId               beer_name  \\\n",
       "0       5.0        47986          10325            Sausa Weizen   \n",
       "1       6.2        48213          10325                Red Moon   \n",
       "2       6.5        48215          10325  Black Horse Black Beer   \n",
       "3       5.0        47969          10325              Sausa Pils   \n",
       "4       7.7        64883           1075           Cauldron DIPA   \n",
       "\n",
       "                       beer_style  review_appearance  review_palette  \\\n",
       "0                      Hefeweizen                2.5             2.0   \n",
       "1              English Strong Ale                3.0             2.5   \n",
       "2          Foreign / Export Stout                3.0             2.5   \n",
       "3                 German Pilsener                3.5             3.0   \n",
       "4  American Double / Imperial IPA                4.0             4.5   \n",
       "\n",
       "   review_overall  review_taste review_profileName  review_aroma  \\\n",
       "0             1.5           1.5            stcules           1.5   \n",
       "1             3.0           3.0            stcules           3.0   \n",
       "2             3.0           3.0            stcules           3.0   \n",
       "3             3.0           2.5            stcules           3.0   \n",
       "4             4.0           4.0     johnmichaelsen           4.5   \n",
       "\n",
       "                                         review_text  review_time  \n",
       "0  A lot of foam. But a lot. In the smell some ba...   1234817823  \n",
       "1  Dark red color, light beige foam, average. In ...   1235915097  \n",
       "2  Almost totally black. Beige foam, quite compac...   1235916604  \n",
       "3  Golden yellow color. White, compact foam, quit...   1234725145  \n",
       "4  According to the website, the style for the Ca...   1293735206  "
      ]
     },
     "execution_count": 3,
     "metadata": {},
     "output_type": "execute_result"
    }
   ],
   "source": [
    "#take a look at dataframe \n",
    "df.head()"
   ]
  },
  {
   "cell_type": "code",
   "execution_count": 4,
   "metadata": {},
   "outputs": [
    {
     "name": "stdout",
     "output_type": "stream",
     "text": [
      "(528870, 13)\n"
     ]
    }
   ],
   "source": [
    "#take a look at shape\n",
    "print(df.shape)"
   ]
  },
  {
   "cell_type": "code",
   "execution_count": 5,
   "metadata": {},
   "outputs": [
    {
     "name": "stdout",
     "output_type": "stream",
     "text": [
      "<class 'pandas.core.frame.DataFrame'>\n",
      "RangeIndex: 528870 entries, 0 to 528869\n",
      "Data columns (total 13 columns):\n",
      "beer_ABV              508590 non-null float64\n",
      "beer_beerId           528870 non-null int64\n",
      "beer_brewerId         528870 non-null int64\n",
      "beer_name             528870 non-null object\n",
      "beer_style            528870 non-null object\n",
      "review_appearance     528870 non-null float64\n",
      "review_palette        528870 non-null float64\n",
      "review_overall        528870 non-null float64\n",
      "review_taste          528870 non-null float64\n",
      "review_profileName    528755 non-null object\n",
      "review_aroma          528870 non-null float64\n",
      "review_text           528751 non-null object\n",
      "review_time           528870 non-null int64\n",
      "dtypes: float64(6), int64(3), object(4)\n",
      "memory usage: 52.5+ MB\n"
     ]
    }
   ],
   "source": [
    "#take a look at properties of df\n",
    "df.info()"
   ]
  },
  {
   "cell_type": "code",
   "execution_count": 6,
   "metadata": {},
   "outputs": [
    {
     "data": {
      "text/html": [
       "<div>\n",
       "<style scoped>\n",
       "    .dataframe tbody tr th:only-of-type {\n",
       "        vertical-align: middle;\n",
       "    }\n",
       "\n",
       "    .dataframe tbody tr th {\n",
       "        vertical-align: top;\n",
       "    }\n",
       "\n",
       "    .dataframe thead th {\n",
       "        text-align: right;\n",
       "    }\n",
       "</style>\n",
       "<table border=\"1\" class=\"dataframe\">\n",
       "  <thead>\n",
       "    <tr style=\"text-align: right;\">\n",
       "      <th></th>\n",
       "      <th>beer_ABV</th>\n",
       "      <th>beer_beerId</th>\n",
       "      <th>beer_brewerId</th>\n",
       "      <th>review_appearance</th>\n",
       "      <th>review_palette</th>\n",
       "      <th>review_overall</th>\n",
       "      <th>review_taste</th>\n",
       "      <th>review_aroma</th>\n",
       "      <th>review_time</th>\n",
       "    </tr>\n",
       "  </thead>\n",
       "  <tbody>\n",
       "    <tr>\n",
       "      <th>count</th>\n",
       "      <td>508590.000000</td>\n",
       "      <td>528870.000000</td>\n",
       "      <td>528870.000000</td>\n",
       "      <td>528870.000000</td>\n",
       "      <td>528870.000000</td>\n",
       "      <td>528870.000000</td>\n",
       "      <td>528870.000000</td>\n",
       "      <td>528870.000000</td>\n",
       "      <td>5.288700e+05</td>\n",
       "    </tr>\n",
       "    <tr>\n",
       "      <th>mean</th>\n",
       "      <td>7.017442</td>\n",
       "      <td>22098.466016</td>\n",
       "      <td>2598.423429</td>\n",
       "      <td>3.864522</td>\n",
       "      <td>3.758926</td>\n",
       "      <td>3.833197</td>\n",
       "      <td>3.765993</td>\n",
       "      <td>3.817350</td>\n",
       "      <td>1.224885e+09</td>\n",
       "    </tr>\n",
       "    <tr>\n",
       "      <th>std</th>\n",
       "      <td>2.204460</td>\n",
       "      <td>22158.284352</td>\n",
       "      <td>5281.805350</td>\n",
       "      <td>0.604010</td>\n",
       "      <td>0.685335</td>\n",
       "      <td>0.709962</td>\n",
       "      <td>0.669018</td>\n",
       "      <td>0.718903</td>\n",
       "      <td>7.605600e+07</td>\n",
       "    </tr>\n",
       "    <tr>\n",
       "      <th>min</th>\n",
       "      <td>0.010000</td>\n",
       "      <td>3.000000</td>\n",
       "      <td>1.000000</td>\n",
       "      <td>0.000000</td>\n",
       "      <td>1.000000</td>\n",
       "      <td>0.000000</td>\n",
       "      <td>1.000000</td>\n",
       "      <td>1.000000</td>\n",
       "      <td>8.843904e+08</td>\n",
       "    </tr>\n",
       "    <tr>\n",
       "      <th>25%</th>\n",
       "      <td>5.300000</td>\n",
       "      <td>1745.000000</td>\n",
       "      <td>132.000000</td>\n",
       "      <td>3.500000</td>\n",
       "      <td>3.500000</td>\n",
       "      <td>3.500000</td>\n",
       "      <td>3.500000</td>\n",
       "      <td>3.500000</td>\n",
       "      <td>1.174613e+09</td>\n",
       "    </tr>\n",
       "    <tr>\n",
       "      <th>50%</th>\n",
       "      <td>6.500000</td>\n",
       "      <td>14368.000000</td>\n",
       "      <td>394.000000</td>\n",
       "      <td>4.000000</td>\n",
       "      <td>4.000000</td>\n",
       "      <td>4.000000</td>\n",
       "      <td>4.000000</td>\n",
       "      <td>4.000000</td>\n",
       "      <td>1.240366e+09</td>\n",
       "    </tr>\n",
       "    <tr>\n",
       "      <th>75%</th>\n",
       "      <td>8.500000</td>\n",
       "      <td>40528.000000</td>\n",
       "      <td>1475.000000</td>\n",
       "      <td>4.000000</td>\n",
       "      <td>4.000000</td>\n",
       "      <td>4.500000</td>\n",
       "      <td>4.000000</td>\n",
       "      <td>4.500000</td>\n",
       "      <td>1.288560e+09</td>\n",
       "    </tr>\n",
       "    <tr>\n",
       "      <th>max</th>\n",
       "      <td>57.700000</td>\n",
       "      <td>77310.000000</td>\n",
       "      <td>27980.000000</td>\n",
       "      <td>5.000000</td>\n",
       "      <td>5.000000</td>\n",
       "      <td>5.000000</td>\n",
       "      <td>5.000000</td>\n",
       "      <td>5.000000</td>\n",
       "      <td>1.326277e+09</td>\n",
       "    </tr>\n",
       "  </tbody>\n",
       "</table>\n",
       "</div>"
      ],
      "text/plain": [
       "            beer_ABV    beer_beerId  beer_brewerId  review_appearance  \\\n",
       "count  508590.000000  528870.000000  528870.000000      528870.000000   \n",
       "mean        7.017442   22098.466016    2598.423429           3.864522   \n",
       "std         2.204460   22158.284352    5281.805350           0.604010   \n",
       "min         0.010000       3.000000       1.000000           0.000000   \n",
       "25%         5.300000    1745.000000     132.000000           3.500000   \n",
       "50%         6.500000   14368.000000     394.000000           4.000000   \n",
       "75%         8.500000   40528.000000    1475.000000           4.000000   \n",
       "max        57.700000   77310.000000   27980.000000           5.000000   \n",
       "\n",
       "       review_palette  review_overall   review_taste   review_aroma  \\\n",
       "count   528870.000000   528870.000000  528870.000000  528870.000000   \n",
       "mean         3.758926        3.833197       3.765993       3.817350   \n",
       "std          0.685335        0.709962       0.669018       0.718903   \n",
       "min          1.000000        0.000000       1.000000       1.000000   \n",
       "25%          3.500000        3.500000       3.500000       3.500000   \n",
       "50%          4.000000        4.000000       4.000000       4.000000   \n",
       "75%          4.000000        4.500000       4.000000       4.500000   \n",
       "max          5.000000        5.000000       5.000000       5.000000   \n",
       "\n",
       "        review_time  \n",
       "count  5.288700e+05  \n",
       "mean   1.224885e+09  \n",
       "std    7.605600e+07  \n",
       "min    8.843904e+08  \n",
       "25%    1.174613e+09  \n",
       "50%    1.240366e+09  \n",
       "75%    1.288560e+09  \n",
       "max    1.326277e+09  "
      ]
     },
     "execution_count": 6,
     "metadata": {},
     "output_type": "execute_result"
    }
   ],
   "source": [
    "#look for any trends in dataset\n",
    "df.describe()"
   ]
  },
  {
   "cell_type": "code",
   "execution_count": 7,
   "metadata": {},
   "outputs": [
    {
     "data": {
      "text/plain": [
       "beer_ABV              20280\n",
       "beer_beerId               0\n",
       "beer_brewerId             0\n",
       "beer_name                 0\n",
       "beer_style                0\n",
       "review_appearance         0\n",
       "review_palette            0\n",
       "review_overall            0\n",
       "review_taste              0\n",
       "review_profileName      115\n",
       "review_aroma              0\n",
       "review_text             119\n",
       "review_time               0\n",
       "dtype: int64"
      ]
     },
     "execution_count": 7,
     "metadata": {},
     "output_type": "execute_result"
    }
   ],
   "source": [
    "#take a look at missing values\n",
    "df.isnull().sum()"
   ]
  },
  {
   "cell_type": "code",
   "execution_count": 8,
   "metadata": {},
   "outputs": [
    {
     "data": {
      "text/plain": [
       "0.03834590731181576"
      ]
     },
     "execution_count": 8,
     "metadata": {},
     "output_type": "execute_result"
    }
   ],
   "source": [
    "#calculate % of missing ABV entries over total entries\n",
    "20280 / 528870"
   ]
  },
  {
   "cell_type": "code",
   "execution_count": 9,
   "metadata": {},
   "outputs": [
    {
     "data": {
      "text/plain": [
       "beer_ABV              0\n",
       "beer_beerId           0\n",
       "beer_brewerId         0\n",
       "beer_name             0\n",
       "beer_style            0\n",
       "review_appearance     0\n",
       "review_palette        0\n",
       "review_overall        0\n",
       "review_taste          0\n",
       "review_profileName    0\n",
       "review_aroma          0\n",
       "review_text           0\n",
       "review_time           0\n",
       "dtype: int64"
      ]
     },
     "execution_count": 9,
     "metadata": {},
     "output_type": "execute_result"
    }
   ],
   "source": [
    "#since the amount is less than 5%, drop the rows without values since its small% and using mean is not an option\n",
    "df.dropna(inplace=True)\n",
    "df.isnull().sum()"
   ]
  },
  {
   "cell_type": "code",
   "execution_count": 10,
   "metadata": {},
   "outputs": [
    {
     "data": {
      "text/plain": [
       "<matplotlib.axes._subplots.AxesSubplot at 0x10c3ea2b0>"
      ]
     },
     "execution_count": 10,
     "metadata": {},
     "output_type": "execute_result"
    },
    {
     "data": {
      "image/png": "[encoded data removed]",
      "text/plain": [
       "<Figure size 720x576 with 2 Axes>"
      ]
     },
     "metadata": {
      "needs_background": "light"
     },
     "output_type": "display_data"
    }
   ],
   "source": [
    "#look for trends/correlations by plotting a correlation heatmap\n",
    "plt.subplots(figsize=(10,8))\n",
    "ax = plt.axes()\n",
    "ax.set_title(\"CORRELATION_HEAT_MAP\")\n",
    "corr = df.corr()\n",
    "sns.heatmap(corr, annot=True, xticklabels=corr.columns.values, yticklabels=corr.columns.values)"
   ]
  },
  {
   "cell_type": "markdown",
   "metadata": {},
   "source": [
    "### Correlation heatmap shows that there is strong correlation between overall review and review_aroma.  There is also strong correlation between review_aroma and review_taste.  Finally, there is strong correlation between review_palette and review_aroma.  "
   ]
  },
  {
   "cell_type": "markdown",
   "metadata": {},
   "source": [
    "### The Correlation heatmap shows a strong negative correlation between overall review and beer_brewer_Id indicating the beer review is not correlated with which brewery is serving that beer."
   ]
  },
  {
   "cell_type": "markdown",
   "metadata": {},
   "source": [
    "## 1.) Rank top 3 Breweries which produce the strongest beers?"
   ]
  },
  {
   "cell_type": "code",
   "execution_count": 11,
   "metadata": {},
   "outputs": [
    {
     "data": {
      "text/html": [
       "<div>\n",
       "<style scoped>\n",
       "    .dataframe tbody tr th:only-of-type {\n",
       "        vertical-align: middle;\n",
       "    }\n",
       "\n",
       "    .dataframe tbody tr th {\n",
       "        vertical-align: top;\n",
       "    }\n",
       "\n",
       "    .dataframe thead th {\n",
       "        text-align: right;\n",
       "    }\n",
       "</style>\n",
       "<table border=\"1\" class=\"dataframe\">\n",
       "  <thead>\n",
       "    <tr style=\"text-align: right;\">\n",
       "      <th></th>\n",
       "      <th>beer_ABV</th>\n",
       "      <th>beer_beerId</th>\n",
       "      <th>beer_brewerId</th>\n",
       "      <th>beer_name</th>\n",
       "      <th>beer_style</th>\n",
       "      <th>review_appearance</th>\n",
       "      <th>review_palette</th>\n",
       "      <th>review_overall</th>\n",
       "      <th>review_taste</th>\n",
       "      <th>review_profileName</th>\n",
       "      <th>review_aroma</th>\n",
       "      <th>review_text</th>\n",
       "      <th>review_time</th>\n",
       "    </tr>\n",
       "  </thead>\n",
       "  <tbody>\n",
       "    <tr>\n",
       "      <th>12889</th>\n",
       "      <td>57.70</td>\n",
       "      <td>73368</td>\n",
       "      <td>6513</td>\n",
       "      <td>Schorschbräu Schorschbock 57%</td>\n",
       "      <td>Eisbock</td>\n",
       "      <td>4.0</td>\n",
       "      <td>4.0</td>\n",
       "      <td>4.0</td>\n",
       "      <td>4.0</td>\n",
       "      <td>kappldav123</td>\n",
       "      <td>3.5</td>\n",
       "      <td>New world strongest beer. Very limited, only 3...</td>\n",
       "      <td>1316780901</td>\n",
       "    </tr>\n",
       "    <tr>\n",
       "      <th>12909</th>\n",
       "      <td>43.00</td>\n",
       "      <td>57856</td>\n",
       "      <td>6513</td>\n",
       "      <td>Schorschbräu Schorschbock 43%</td>\n",
       "      <td>Eisbock</td>\n",
       "      <td>3.5</td>\n",
       "      <td>4.0</td>\n",
       "      <td>4.0</td>\n",
       "      <td>4.0</td>\n",
       "      <td>Sunnanek</td>\n",
       "      <td>4.0</td>\n",
       "      <td>43% ABV - this is so crazy! A: Pour is warm am...</td>\n",
       "      <td>1309974178</td>\n",
       "    </tr>\n",
       "    <tr>\n",
       "      <th>12910</th>\n",
       "      <td>43.00</td>\n",
       "      <td>57856</td>\n",
       "      <td>6513</td>\n",
       "      <td>Schorschbräu Schorschbock 43%</td>\n",
       "      <td>Eisbock</td>\n",
       "      <td>4.0</td>\n",
       "      <td>4.0</td>\n",
       "      <td>3.5</td>\n",
       "      <td>4.0</td>\n",
       "      <td>kappldav123</td>\n",
       "      <td>4.5</td>\n",
       "      <td>The bottle looks really great, handnumbered an...</td>\n",
       "      <td>1274469798</td>\n",
       "    </tr>\n",
       "    <tr>\n",
       "      <th>12911</th>\n",
       "      <td>39.44</td>\n",
       "      <td>55712</td>\n",
       "      <td>6513</td>\n",
       "      <td>Schorschbräu Schorschbock 40%</td>\n",
       "      <td>Eisbock</td>\n",
       "      <td>3.0</td>\n",
       "      <td>3.0</td>\n",
       "      <td>3.0</td>\n",
       "      <td>2.0</td>\n",
       "      <td>orangesol</td>\n",
       "      <td>3.0</td>\n",
       "      <td>Thanks to foofaa for sharing his sample with m...</td>\n",
       "      <td>1321041551</td>\n",
       "    </tr>\n",
       "    <tr>\n",
       "      <th>12912</th>\n",
       "      <td>39.44</td>\n",
       "      <td>55712</td>\n",
       "      <td>6513</td>\n",
       "      <td>Schorschbräu Schorschbock 40%</td>\n",
       "      <td>Eisbock</td>\n",
       "      <td>3.5</td>\n",
       "      <td>3.5</td>\n",
       "      <td>3.0</td>\n",
       "      <td>3.5</td>\n",
       "      <td>thepeter</td>\n",
       "      <td>3.5</td>\n",
       "      <td>Very lucky to get a 2oz sample of this at a ta...</td>\n",
       "      <td>1274645294</td>\n",
       "    </tr>\n",
       "  </tbody>\n",
       "</table>\n",
       "</div>"
      ],
      "text/plain": [
       "       beer_ABV  beer_beerId  beer_brewerId                      beer_name  \\\n",
       "12889     57.70        73368           6513  Schorschbräu Schorschbock 57%   \n",
       "12909     43.00        57856           6513  Schorschbräu Schorschbock 43%   \n",
       "12910     43.00        57856           6513  Schorschbräu Schorschbock 43%   \n",
       "12911     39.44        55712           6513  Schorschbräu Schorschbock 40%   \n",
       "12912     39.44        55712           6513  Schorschbräu Schorschbock 40%   \n",
       "\n",
       "      beer_style  review_appearance  review_palette  review_overall  \\\n",
       "12889    Eisbock                4.0             4.0             4.0   \n",
       "12909    Eisbock                3.5             4.0             4.0   \n",
       "12910    Eisbock                4.0             4.0             3.5   \n",
       "12911    Eisbock                3.0             3.0             3.0   \n",
       "12912    Eisbock                3.5             3.5             3.0   \n",
       "\n",
       "       review_taste review_profileName  review_aroma  \\\n",
       "12889           4.0        kappldav123           3.5   \n",
       "12909           4.0           Sunnanek           4.0   \n",
       "12910           4.0        kappldav123           4.5   \n",
       "12911           2.0          orangesol           3.0   \n",
       "12912           3.5           thepeter           3.5   \n",
       "\n",
       "                                             review_text  review_time  \n",
       "12889  New world strongest beer. Very limited, only 3...   1316780901  \n",
       "12909  43% ABV - this is so crazy! A: Pour is warm am...   1309974178  \n",
       "12910  The bottle looks really great, handnumbered an...   1274469798  \n",
       "12911  Thanks to foofaa for sharing his sample with m...   1321041551  \n",
       "12912  Very lucky to get a 2oz sample of this at a ta...   1274645294  "
      ]
     },
     "execution_count": 11,
     "metadata": {},
     "output_type": "execute_result"
    }
   ],
   "source": [
    "#sort values in dataframe by ABV and brewerId\n",
    "df_strong = df.sort_values(['beer_ABV', 'beer_brewerId'], ascending = False)\n",
    "df_strong.head()"
   ]
  },
  {
   "cell_type": "code",
   "execution_count": 12,
   "metadata": {},
   "outputs": [
    {
     "data": {
      "text/plain": [
       "458"
      ]
     },
     "execution_count": 12,
     "metadata": {},
     "output_type": "execute_result"
    }
   ],
   "source": [
    "#filter out the dataframe even further by only looking at beers with ABV > 19\n",
    "df_strong_total = df_strong[df_strong['beer_ABV'] >19]\n",
    "len(df_strong_total)"
   ]
  },
  {
   "cell_type": "code",
   "execution_count": 13,
   "metadata": {},
   "outputs": [
    {
     "data": {
      "text/plain": [
       "<matplotlib.axes._subplots.AxesSubplot at 0x1a20a37710>"
      ]
     },
     "execution_count": 13,
     "metadata": {},
     "output_type": "execute_result"
    },
    {
     "data": {
      "image/png": "[encoded data removed]",
      "text/plain": [
       "<Figure size 432x288 with 1 Axes>"
      ]
     },
     "metadata": {
      "needs_background": "light"
     },
     "output_type": "display_data"
    }
   ],
   "source": [
    "#perform groupby between brewery and class beer_ABV to visually see which breweries serve the strongest beer\n",
    "df_strong_total.groupby('beer_brewerId').beer_ABV.mean().plot(kind='bar')"
   ]
  },
  {
   "cell_type": "code",
   "execution_count": 14,
   "metadata": {},
   "outputs": [
    {
     "data": {
      "text/plain": [
       "beer_brewerId\n",
       "35       26.406542\n",
       "2958     19.500000\n",
       "6513     41.840000\n",
       "16866    19.500000\n",
       "18796    19.200000\n",
       "Name: beer_ABV, dtype: float64"
      ]
     },
     "execution_count": 14,
     "metadata": {},
     "output_type": "execute_result"
    }
   ],
   "source": [
    "#take a look at same groupby mathematically since visually 2958, 16866 and 18796 appear the same\n",
    "df_strong_total.groupby('beer_brewerId').beer_ABV.mean()"
   ]
  },
  {
   "cell_type": "code",
   "execution_count": 15,
   "metadata": {},
   "outputs": [
    {
     "data": {
      "text/plain": [
       "5"
      ]
     },
     "execution_count": 15,
     "metadata": {},
     "output_type": "execute_result"
    }
   ],
   "source": [
    "#filter out the dataframe even further to look at only the unique breweryID's with the strongest beers\n",
    "df_strong_unique = df_strong_total['beer_brewerId'].unique()\n",
    "len(df_strong_unique)\n"
   ]
  },
  {
   "cell_type": "code",
   "execution_count": 16,
   "metadata": {},
   "outputs": [
    {
     "name": "stdout",
     "output_type": "stream",
     "text": [
      "[ 6513    35 16866  2958 18796]\n"
     ]
    }
   ],
   "source": [
    "#list out the 5 breweryIds\n",
    "print(df_strong_unique)"
   ]
  },
  {
   "cell_type": "markdown",
   "metadata": {},
   "source": [
    "## Therefore, the three brewery id's with the strongest beers are Brewery ID 6513, 35, and 16866. The top five brewery id's with the strongest beers are Brewery ID 1.) 6513, 2.) 35, 3.) 16866, 4.) 2958 and 5.) 18796."
   ]
  },
  {
   "cell_type": "code",
   "execution_count": 17,
   "metadata": {},
   "outputs": [
    {
     "data": {
      "text/plain": [
       "13"
      ]
     },
     "execution_count": 17,
     "metadata": {},
     "output_type": "execute_result"
    }
   ],
   "source": [
    "#take a look at how many unique beer names are in the strong beer dataset\n",
    "df_name_unique = df_strong_total['beer_name'].unique()\n",
    "len(df_name_unique)"
   ]
  },
  {
   "cell_type": "code",
   "execution_count": 18,
   "metadata": {},
   "outputs": [
    {
     "data": {
      "image/png": "[encoded data removed]",
      "text/plain": [
       "<Figure size 432x288 with 1 Axes>"
      ]
     },
     "metadata": {
      "needs_background": "light"
     },
     "output_type": "display_data"
    }
   ],
   "source": [
    "#plot the top 5 highest ABV serving breweries against the beer names to look for trends\n",
    "sns.scatterplot(x = 'beer_brewerId', y = 'beer_name', data = df_strong_total)\n",
    "plt.show()"
   ]
  },
  {
   "cell_type": "markdown",
   "metadata": {},
   "source": [
    "### This shows that while brewery id 6513 serves the strongest beer that brewery id 35 serves the most different kinds of strong beers."
   ]
  },
  {
   "cell_type": "code",
   "execution_count": 19,
   "metadata": {},
   "outputs": [
    {
     "data": {
      "text/plain": [
       "<matplotlib.axes._subplots.AxesSubplot at 0x1a2107a908>"
      ]
     },
     "execution_count": 19,
     "metadata": {},
     "output_type": "execute_result"
    },
    {
     "data": {
      "image/png": "[encoded data removed]",
      "text/plain": [
       "<Figure size 432x288 with 1 Axes>"
      ]
     },
     "metadata": {
      "needs_background": "light"
     },
     "output_type": "display_data"
    }
   ],
   "source": [
    "#plot the top 5 strongest breweries against the overall review of those breweries\n",
    "sns.countplot(x='review_overall', data=df_strong_total, hue='beer_brewerId')"
   ]
  },
  {
   "cell_type": "markdown",
   "metadata": {},
   "source": [
    "### This shows that even though beer_brewerId 6513 serves the strongest beers, 6513 does not have the strongest reviews. The plot shows brewer Id's 35 and 2958 have much better average reviews."
   ]
  },
  {
   "cell_type": "markdown",
   "metadata": {},
   "source": [
    "## 2.) Which year did beers enjoy the highest ratings?"
   ]
  },
  {
   "cell_type": "code",
   "execution_count": 20,
   "metadata": {},
   "outputs": [],
   "source": [
    "#first convert to readable datetime from unix\n",
    "df[ 'review_time' ] = pd.to_datetime(df[ 'review_time' ], unit = 's' )"
   ]
  },
  {
   "cell_type": "code",
   "execution_count": 21,
   "metadata": {},
   "outputs": [
    {
     "data": {
      "text/html": [
       "<div>\n",
       "<style scoped>\n",
       "    .dataframe tbody tr th:only-of-type {\n",
       "        vertical-align: middle;\n",
       "    }\n",
       "\n",
       "    .dataframe tbody tr th {\n",
       "        vertical-align: top;\n",
       "    }\n",
       "\n",
       "    .dataframe thead th {\n",
       "        text-align: right;\n",
       "    }\n",
       "</style>\n",
       "<table border=\"1\" class=\"dataframe\">\n",
       "  <thead>\n",
       "    <tr style=\"text-align: right;\">\n",
       "      <th></th>\n",
       "      <th>beer_ABV</th>\n",
       "      <th>beer_beerId</th>\n",
       "      <th>beer_brewerId</th>\n",
       "      <th>beer_name</th>\n",
       "      <th>beer_style</th>\n",
       "      <th>review_appearance</th>\n",
       "      <th>review_palette</th>\n",
       "      <th>review_overall</th>\n",
       "      <th>review_taste</th>\n",
       "      <th>review_profileName</th>\n",
       "      <th>review_aroma</th>\n",
       "      <th>review_text</th>\n",
       "      <th>review_time</th>\n",
       "    </tr>\n",
       "  </thead>\n",
       "  <tbody>\n",
       "    <tr>\n",
       "      <th>0</th>\n",
       "      <td>5.0</td>\n",
       "      <td>47986</td>\n",
       "      <td>10325</td>\n",
       "      <td>Sausa Weizen</td>\n",
       "      <td>Hefeweizen</td>\n",
       "      <td>2.5</td>\n",
       "      <td>2.0</td>\n",
       "      <td>1.5</td>\n",
       "      <td>1.5</td>\n",
       "      <td>stcules</td>\n",
       "      <td>1.5</td>\n",
       "      <td>A lot of foam. But a lot. In the smell some ba...</td>\n",
       "      <td>2009-02-16 20:57:03</td>\n",
       "    </tr>\n",
       "    <tr>\n",
       "      <th>1</th>\n",
       "      <td>6.2</td>\n",
       "      <td>48213</td>\n",
       "      <td>10325</td>\n",
       "      <td>Red Moon</td>\n",
       "      <td>English Strong Ale</td>\n",
       "      <td>3.0</td>\n",
       "      <td>2.5</td>\n",
       "      <td>3.0</td>\n",
       "      <td>3.0</td>\n",
       "      <td>stcules</td>\n",
       "      <td>3.0</td>\n",
       "      <td>Dark red color, light beige foam, average. In ...</td>\n",
       "      <td>2009-03-01 13:44:57</td>\n",
       "    </tr>\n",
       "    <tr>\n",
       "      <th>2</th>\n",
       "      <td>6.5</td>\n",
       "      <td>48215</td>\n",
       "      <td>10325</td>\n",
       "      <td>Black Horse Black Beer</td>\n",
       "      <td>Foreign / Export Stout</td>\n",
       "      <td>3.0</td>\n",
       "      <td>2.5</td>\n",
       "      <td>3.0</td>\n",
       "      <td>3.0</td>\n",
       "      <td>stcules</td>\n",
       "      <td>3.0</td>\n",
       "      <td>Almost totally black. Beige foam, quite compac...</td>\n",
       "      <td>2009-03-01 14:10:04</td>\n",
       "    </tr>\n",
       "    <tr>\n",
       "      <th>3</th>\n",
       "      <td>5.0</td>\n",
       "      <td>47969</td>\n",
       "      <td>10325</td>\n",
       "      <td>Sausa Pils</td>\n",
       "      <td>German Pilsener</td>\n",
       "      <td>3.5</td>\n",
       "      <td>3.0</td>\n",
       "      <td>3.0</td>\n",
       "      <td>2.5</td>\n",
       "      <td>stcules</td>\n",
       "      <td>3.0</td>\n",
       "      <td>Golden yellow color. White, compact foam, quit...</td>\n",
       "      <td>2009-02-15 19:12:25</td>\n",
       "    </tr>\n",
       "    <tr>\n",
       "      <th>4</th>\n",
       "      <td>7.7</td>\n",
       "      <td>64883</td>\n",
       "      <td>1075</td>\n",
       "      <td>Cauldron DIPA</td>\n",
       "      <td>American Double / Imperial IPA</td>\n",
       "      <td>4.0</td>\n",
       "      <td>4.5</td>\n",
       "      <td>4.0</td>\n",
       "      <td>4.0</td>\n",
       "      <td>johnmichaelsen</td>\n",
       "      <td>4.5</td>\n",
       "      <td>According to the website, the style for the Ca...</td>\n",
       "      <td>2010-12-30 18:53:26</td>\n",
       "    </tr>\n",
       "  </tbody>\n",
       "</table>\n",
       "</div>"
      ],
      "text/plain": [
       "   beer_ABV  beer_beerId  beer_brewerId               beer_name  \\\n",
       "0       5.0        47986          10325            Sausa Weizen   \n",
       "1       6.2        48213          10325                Red Moon   \n",
       "2       6.5        48215          10325  Black Horse Black Beer   \n",
       "3       5.0        47969          10325              Sausa Pils   \n",
       "4       7.7        64883           1075           Cauldron DIPA   \n",
       "\n",
       "                       beer_style  review_appearance  review_palette  \\\n",
       "0                      Hefeweizen                2.5             2.0   \n",
       "1              English Strong Ale                3.0             2.5   \n",
       "2          Foreign / Export Stout                3.0             2.5   \n",
       "3                 German Pilsener                3.5             3.0   \n",
       "4  American Double / Imperial IPA                4.0             4.5   \n",
       "\n",
       "   review_overall  review_taste review_profileName  review_aroma  \\\n",
       "0             1.5           1.5            stcules           1.5   \n",
       "1             3.0           3.0            stcules           3.0   \n",
       "2             3.0           3.0            stcules           3.0   \n",
       "3             3.0           2.5            stcules           3.0   \n",
       "4             4.0           4.0     johnmichaelsen           4.5   \n",
       "\n",
       "                                         review_text         review_time  \n",
       "0  A lot of foam. But a lot. In the smell some ba... 2009-02-16 20:57:03  \n",
       "1  Dark red color, light beige foam, average. In ... 2009-03-01 13:44:57  \n",
       "2  Almost totally black. Beige foam, quite compac... 2009-03-01 14:10:04  \n",
       "3  Golden yellow color. White, compact foam, quit... 2009-02-15 19:12:25  \n",
       "4  According to the website, the style for the Ca... 2010-12-30 18:53:26  "
      ]
     },
     "execution_count": 21,
     "metadata": {},
     "output_type": "execute_result"
    }
   ],
   "source": [
    "#take a look at dataframe\n",
    "df.head()"
   ]
  },
  {
   "cell_type": "code",
   "execution_count": 22,
   "metadata": {},
   "outputs": [
    {
     "data": {
      "text/plain": [
       "beer_ABV                     float64\n",
       "beer_beerId                    int64\n",
       "beer_brewerId                  int64\n",
       "beer_name                     object\n",
       "beer_style                    object\n",
       "review_appearance            float64\n",
       "review_palette               float64\n",
       "review_overall               float64\n",
       "review_taste                 float64\n",
       "review_profileName            object\n",
       "review_aroma                 float64\n",
       "review_text                   object\n",
       "review_time           datetime64[ns]\n",
       "dtype: object"
      ]
     },
     "execution_count": 22,
     "metadata": {},
     "output_type": "execute_result"
    }
   ],
   "source": [
    "#make sure that date is in datetime\n",
    "df.dtypes"
   ]
  },
  {
   "cell_type": "code",
   "execution_count": 23,
   "metadata": {},
   "outputs": [
    {
     "data": {
      "text/plain": [
       "Timestamp('2012-01-11 10:10:56')"
      ]
     },
     "execution_count": 23,
     "metadata": {},
     "output_type": "execute_result"
    }
   ],
   "source": [
    "#get max time date stamp\n",
    "df.review_time.max()"
   ]
  },
  {
   "cell_type": "code",
   "execution_count": 24,
   "metadata": {},
   "outputs": [
    {
     "data": {
      "text/plain": [
       "Timestamp('1998-01-10 00:00:01')"
      ]
     },
     "execution_count": 24,
     "metadata": {},
     "output_type": "execute_result"
    }
   ],
   "source": [
    "#get min time date stamp\n",
    "df.review_time.min()"
   ]
  },
  {
   "cell_type": "markdown",
   "metadata": {},
   "source": [
    "### This shows the dataset spans from 1998 to 2012-almost 15 years."
   ]
  },
  {
   "cell_type": "code",
   "execution_count": 25,
   "metadata": {},
   "outputs": [],
   "source": [
    "#create column in data frame for year only\n",
    "df['year'] = df.review_time.dt.year"
   ]
  },
  {
   "cell_type": "code",
   "execution_count": 26,
   "metadata": {},
   "outputs": [
    {
     "data": {
      "text/plain": [
       "<matplotlib.axes._subplots.AxesSubplot at 0x1a20ab9eb8>"
      ]
     },
     "execution_count": 26,
     "metadata": {},
     "output_type": "execute_result"
    },
    {
     "data": {
      "image/png": "[encoded data removed]",
      "text/plain": [
       "<Figure size 432x288 with 1 Axes>"
      ]
     },
     "metadata": {
      "needs_background": "light"
     },
     "output_type": "display_data"
    }
   ],
   "source": [
    "#plot year against count to notice any trends from year to year\n",
    "df.year.value_counts().sort_index().plot()"
   ]
  },
  {
   "cell_type": "markdown",
   "metadata": {},
   "source": [
    "### This shows the reviews have steadily climbed over time with the highest count of reviews in 2011"
   ]
  },
  {
   "cell_type": "code",
   "execution_count": 27,
   "metadata": {},
   "outputs": [
    {
     "data": {
      "text/plain": [
       "(array([728659.00000289, 729390.00000289, 730120.00000289, 730851.00000289,\n",
       "        731581.00000289, 732312.00000289, 733042.00000289, 733773.00000289,\n",
       "        734503.00000289]), <a list of 9 Text xticklabel objects>)"
      ]
     },
     "execution_count": 27,
     "metadata": {},
     "output_type": "execute_result"
    },
    {
     "data": {
      "image/png": "[encoded data removed]",
      "text/plain": [
       "<Figure size 432x288 with 1 Axes>"
      ]
     },
     "metadata": {
      "needs_background": "light"
     },
     "output_type": "display_data"
    }
   ],
   "source": [
    "#take a look visually at how time and review are correlated \n",
    "df = df.sort_values('review_time', ascending = True)\n",
    "plt.plot(df['review_time'],df['review_overall'])\n",
    "plt.xticks(rotation = 'vertical')"
   ]
  },
  {
   "cell_type": "markdown",
   "metadata": {},
   "source": [
    "### So the plot above shows that 1998, 1999 and 2000 enjoyed the highest reviews and that 2003 had the lowest reviews. "
   ]
  },
  {
   "cell_type": "code",
   "execution_count": 28,
   "metadata": {},
   "outputs": [
    {
     "data": {
      "text/plain": [
       "year\n",
       "1998    4.045455\n",
       "1999    4.000000\n",
       "2000    4.233333\n",
       "2001    3.961896\n",
       "2002    3.817551\n",
       "2003    3.772793\n",
       "2004    3.806632\n",
       "2005    3.844657\n",
       "2006    3.809104\n",
       "2007    3.819879\n",
       "2008    3.840345\n",
       "2009    3.868749\n",
       "2010    3.869430\n",
       "2011    3.833394\n",
       "2012    3.839082\n",
       "Name: review_overall, dtype: float64"
      ]
     },
     "execution_count": 28,
     "metadata": {},
     "output_type": "execute_result"
    }
   ],
   "source": [
    "#do a groupby between reviews and year to determine if 1998,1999, or 2000 have highest average reviews\n",
    "df.groupby('year').review_overall.mean()"
   ]
  },
  {
   "cell_type": "markdown",
   "metadata": {},
   "source": [
    "## This indicates that the year 2000 had the highest average reviews and the year 2003 had the lowest average reviews"
   ]
  },
  {
   "cell_type": "code",
   "execution_count": 29,
   "metadata": {},
   "outputs": [
    {
     "data": {
      "text/plain": [
       "<matplotlib.axes._subplots.AxesSubplot at 0x1a213198d0>"
      ]
     },
     "execution_count": 29,
     "metadata": {},
     "output_type": "execute_result"
    },
    {
     "data": {
      "image/png": "[encoded data removed]",
      "text/plain": [
       "<Figure size 432x288 with 1 Axes>"
      ]
     },
     "metadata": {
      "needs_background": "light"
     },
     "output_type": "display_data"
    }
   ],
   "source": [
    "#perform groupby barplot between overall_review and year\n",
    "df.groupby('year').review_overall.mean().plot(kind='bar')"
   ]
  },
  {
   "cell_type": "markdown",
   "metadata": {},
   "source": [
    "## In conclusion based on data visualizations and statistical analysis, the year 2000 enjoyed the highest average beer ratings"
   ]
  },
  {
   "cell_type": "markdown",
   "metadata": {},
   "source": [
    "## 3.) Based on the user’s ratings which factors are important among taste, aroma,appearance, and palette?"
   ]
  },
  {
   "cell_type": "code",
   "execution_count": 30,
   "metadata": {},
   "outputs": [
    {
     "data": {
      "text/plain": [
       "review_overall       1.000000\n",
       "review_aroma         0.780310\n",
       "review_taste         0.689276\n",
       "review_palette       0.598048\n",
       "review_appearance    0.483091\n",
       "beer_ABV             0.119495\n",
       "year                 0.020058\n",
       "beer_beerId         -0.011635\n",
       "beer_brewerId       -0.014264\n",
       "Name: review_overall, dtype: float64"
      ]
     },
     "execution_count": 30,
     "metadata": {},
     "output_type": "execute_result"
    }
   ],
   "source": [
    "# first take a look at statistical correlation values between ratings and all other features\n",
    "df.corr()['review_overall'].sort_values(ascending=False)"
   ]
  },
  {
   "cell_type": "code",
   "execution_count": 31,
   "metadata": {},
   "outputs": [
    {
     "data": {
      "text/plain": [
       "<matplotlib.axes._subplots.AxesSubplot at 0x1a264e4ac8>"
      ]
     },
     "execution_count": 31,
     "metadata": {},
     "output_type": "execute_result"
    },
    {
     "data": {
      "image/png": "[encoded data removed]",
      "text/plain": [
       "<Figure size 432x288 with 1 Axes>"
      ]
     },
     "metadata": {
      "needs_background": "light"
     },
     "output_type": "display_data"
    }
   ],
   "source": [
    "#now take a look visually at the correlations between reviews and aroma, taste, palette, and appearance. \n",
    "df.corr()['review_overall'].sort_values(ascending=False).plot(kind = 'bar')"
   ]
  },
  {
   "cell_type": "code",
   "execution_count": 32,
   "metadata": {},
   "outputs": [
    {
     "data": {
      "image/png": "[encoded data removed]",
      "text/plain": [
       "<Figure size 432x288 with 1 Axes>"
      ]
     },
     "metadata": {
      "needs_background": "light"
     },
     "output_type": "display_data"
    }
   ],
   "source": [
    "#take a closer look at the trends seen with the overall review and aroma reviews of beers w/a 3d histogram\n",
    "from mpl_toolkits.mplot3d import Axes3D\n",
    "from matplotlib import style\n",
    "\n",
    "fig = plt.figure()\n",
    "ax = fig.add_subplot(111,projection='3d')\n",
    "x = df['review_aroma']\n",
    "y = df['review_overall']\n",
    "\n",
    "hist, xedges, yedges, = np.histogram2d(x,y,bins=(4,4))\n",
    "xpos, ypos = np.meshgrid(xedges[:1]+xedges[1:],yedges[:-1]+yedges[1:])\n",
    "xpos = xpos.flatten()/2.\n",
    "ypos = ypos.flatten()/2.\n",
    "zpos = np.zeros_like (xpos)\n",
    "dx = xedges [1] - xedges[0]\n",
    "dy = yedges [1] - yedges[1]\n",
    "dz = hist.flatten()\n",
    "\n",
    "ax.bar3d(xpos, ypos, zpos,dx, dy, dz, color='b', zsort='average')\n",
    "plt.xlabel(\"Aroma_Review\")\n",
    "plt.ylabel(\"Overall_Review\")\n",
    "\n",
    "plt.show()"
   ]
  },
  {
   "cell_type": "markdown",
   "metadata": {},
   "source": [
    "## The data visualization as well as the statistical analysis shows that review aroma is the most correlated with overall user rating followed by review_taste, review_palette and review_appearance. This shows that review_appearance is the least correlated with overall user ratings.  "
   ]
  },
  {
   "cell_type": "code",
   "execution_count": 33,
   "metadata": {},
   "outputs": [
    {
     "name": "stdout",
     "output_type": "stream",
     "text": [
      "(508358, 4)\n",
      "<class 'numpy.ndarray'>\n"
     ]
    }
   ],
   "source": [
    "# create ml model to see which feature is the strongest in determining overall rating\n",
    "x_cols = ['review_taste', 'review_palette', 'review_appearance','review_aroma']\n",
    "X = df[x_cols].as_matrix()\n",
    "print(X.shape)\n",
    "print(type(X))"
   ]
  },
  {
   "cell_type": "code",
   "execution_count": 34,
   "metadata": {},
   "outputs": [
    {
     "name": "stdout",
     "output_type": "stream",
     "text": [
      "<class 'numpy.ndarray'>\n",
      "(508358,)\n"
     ]
    }
   ],
   "source": [
    "#assign the predictor(target) variable\n",
    "y = df['review_overall'].values\n",
    "print(type(y))\n",
    "print(y.shape)"
   ]
  },
  {
   "cell_type": "code",
   "execution_count": 35,
   "metadata": {},
   "outputs": [
    {
     "name": "stdout",
     "output_type": "stream",
     "text": [
      "accuracy on the training subset:0.662\n",
      "accuracy on the test subset:0.649\n"
     ]
    }
   ],
   "source": [
    "#create a random forest regressor model between the different features and the prediction of overall user rating \n",
    "#choose random forest regressor since it has less bias than linear regression model\n",
    "from sklearn.ensemble import RandomForestRegressor\n",
    "from sklearn.model_selection import train_test_split\n",
    "X_train, X_test, y_train, y_test = train_test_split(X,y,random_state=1)\n",
    "rand_reg = RandomForestRegressor(n_estimators=100,random_state=1)\n",
    "rand_reg.fit(X_train,y_train)\n",
    "print(\"accuracy on the training subset:{:.3f}\".format(rand_reg.score(X_train,y_train)))\n",
    "print(\"accuracy on the test subset:{:.3f}\".format(rand_reg.score(X_test,y_test)))"
   ]
  },
  {
   "cell_type": "code",
   "execution_count": 36,
   "metadata": {},
   "outputs": [
    {
     "name": "stdout",
     "output_type": "stream",
     "text": [
      "accuracy on the training subset:0.618\n",
      "accuracy on the test subset:0.619\n"
     ]
    }
   ],
   "source": [
    "#create a random forest regressor model between the different features and the prediction of overall user rating \n",
    "x1_cols = ['review_aroma']\n",
    "X1 = df[x1_cols].as_matrix()\n",
    "X_train, X_test, y_train, y_test = train_test_split(X1,y,random_state=1)\n",
    "rand_reg = RandomForestRegressor(n_estimators=100,random_state=1)\n",
    "rand_reg.fit(X_train,y_train)\n",
    "print(\"accuracy on the training subset:{:.3f}\".format(rand_reg.score(X_train,y_train)))\n",
    "print(\"accuracy on the test subset:{:.3f}\".format(rand_reg.score(X_test,y_test)))"
   ]
  },
  {
   "cell_type": "code",
   "execution_count": 37,
   "metadata": {},
   "outputs": [
    {
     "name": "stdout",
     "output_type": "stream",
     "text": [
      "accuracy on the training subset:0.484\n",
      "accuracy on the test subset:0.482\n"
     ]
    }
   ],
   "source": [
    "#create a random forest regressor model between the different features and the prediction of overall user rating \n",
    "x2_cols = ['review_taste']\n",
    "X2 = df[x2_cols].as_matrix()\n",
    "X_train, X_test, y_train, y_test = train_test_split(X2,y,random_state=1)\n",
    "rand_reg = RandomForestRegressor(n_estimators=100,random_state=1)\n",
    "rand_reg.fit(X_train,y_train)\n",
    "print(\"accuracy on the training subset:{:.3f}\".format(rand_reg.score(X_train,y_train)))\n",
    "print(\"accuracy on the test subset:{:.3f}\".format(rand_reg.score(X_test,y_test)))"
   ]
  },
  {
   "cell_type": "code",
   "execution_count": 38,
   "metadata": {},
   "outputs": [
    {
     "name": "stdout",
     "output_type": "stream",
     "text": [
      "accuracy on the training subset:0.369\n",
      "accuracy on the test subset:0.368\n"
     ]
    }
   ],
   "source": [
    "#create a random forest regressor model between the different features and the prediction of overall user rating \n",
    "x3_cols = ['review_palette']\n",
    "X3 = df[x3_cols].as_matrix()\n",
    "X_train, X_test, y_train, y_test = train_test_split(X3,y,random_state=1)\n",
    "rand_reg = RandomForestRegressor(n_estimators=100,random_state=1)\n",
    "rand_reg.fit(X_train,y_train)\n",
    "print(\"accuracy on the training subset:{:.3f}\".format(rand_reg.score(X_train,y_train)))\n",
    "print(\"accuracy on the test subset:{:.3f}\".format(rand_reg.score(X_test,y_test)))"
   ]
  },
  {
   "cell_type": "code",
   "execution_count": 39,
   "metadata": {},
   "outputs": [
    {
     "name": "stdout",
     "output_type": "stream",
     "text": [
      "accuracy on the training subset:0.239\n",
      "accuracy on the test subset:0.237\n"
     ]
    }
   ],
   "source": [
    "#create a random forest regressor model between the different features and the prediction of overall user rating \n",
    "x4_cols = ['review_appearance']\n",
    "X4 = df[x4_cols].as_matrix()\n",
    "X_train, X_test, y_train, y_test = train_test_split(X4,y,random_state=1)\n",
    "rand_reg = RandomForestRegressor(n_estimators=100,random_state=1)\n",
    "rand_reg.fit(X_train,y_train)\n",
    "print(\"accuracy on the training subset:{:.3f}\".format(rand_reg.score(X_train,y_train)))\n",
    "print(\"accuracy on the test subset:{:.3f}\".format(rand_reg.score(X_test,y_test)))"
   ]
  },
  {
   "cell_type": "markdown",
   "metadata": {},
   "source": [
    "## Running the features through a predictive machine learning model for user rating shows there is not much difference in accuracy between using all four features and only using the review_aroma feature. Utilizing statistical correlation also indicates review_aroma is the most significant feature. Therefore,the review_aroma feature is the most important factor amongst the four features for overall user rating"
   ]
  },
  {
   "cell_type": "markdown",
   "metadata": {},
   "source": [
    "## 4.) If you were to recommend 3 to 5 beers to your friends based on this data which ones will you recommend?"
   ]
  },
  {
   "cell_type": "code",
   "execution_count": 40,
   "metadata": {},
   "outputs": [
    {
     "data": {
      "text/html": [
       "<div>\n",
       "<style scoped>\n",
       "    .dataframe tbody tr th:only-of-type {\n",
       "        vertical-align: middle;\n",
       "    }\n",
       "\n",
       "    .dataframe tbody tr th {\n",
       "        vertical-align: top;\n",
       "    }\n",
       "\n",
       "    .dataframe thead th {\n",
       "        text-align: right;\n",
       "    }\n",
       "</style>\n",
       "<table border=\"1\" class=\"dataframe\">\n",
       "  <thead>\n",
       "    <tr style=\"text-align: right;\">\n",
       "      <th></th>\n",
       "      <th>beer_ABV</th>\n",
       "      <th>beer_beerId</th>\n",
       "      <th>beer_brewerId</th>\n",
       "      <th>beer_name</th>\n",
       "      <th>beer_style</th>\n",
       "      <th>review_appearance</th>\n",
       "      <th>review_palette</th>\n",
       "      <th>review_overall</th>\n",
       "      <th>review_taste</th>\n",
       "      <th>review_profileName</th>\n",
       "      <th>review_aroma</th>\n",
       "      <th>review_text</th>\n",
       "      <th>review_time</th>\n",
       "      <th>year</th>\n",
       "    </tr>\n",
       "  </thead>\n",
       "  <tbody>\n",
       "    <tr>\n",
       "      <th>45765</th>\n",
       "      <td>4.4</td>\n",
       "      <td>429</td>\n",
       "      <td>1</td>\n",
       "      <td>Pilsner Urquell</td>\n",
       "      <td>Czech Pilsener</td>\n",
       "      <td>5.0</td>\n",
       "      <td>5.0</td>\n",
       "      <td>5.0</td>\n",
       "      <td>5.0</td>\n",
       "      <td>BarnacleBill</td>\n",
       "      <td>5.0</td>\n",
       "      <td>You have been sentenced to drinking only one b...</td>\n",
       "      <td>2000-10-31 17:49:26</td>\n",
       "      <td>2000</td>\n",
       "    </tr>\n",
       "    <tr>\n",
       "      <th>505549</th>\n",
       "      <td>6.1</td>\n",
       "      <td>56973</td>\n",
       "      <td>132</td>\n",
       "      <td>Shakespeare Oatmeal Stout</td>\n",
       "      <td>Oatmeal Stout</td>\n",
       "      <td>5.0</td>\n",
       "      <td>5.0</td>\n",
       "      <td>5.0</td>\n",
       "      <td>5.0</td>\n",
       "      <td>esprit</td>\n",
       "      <td>5.0</td>\n",
       "      <td>If you love Stout, you have to love this one.....</td>\n",
       "      <td>2001-01-30 13:32:38</td>\n",
       "      <td>2001</td>\n",
       "    </tr>\n",
       "    <tr>\n",
       "      <th>374477</th>\n",
       "      <td>8.0</td>\n",
       "      <td>33</td>\n",
       "      <td>22</td>\n",
       "      <td>Maudite</td>\n",
       "      <td>Belgian Strong Dark Ale</td>\n",
       "      <td>5.0</td>\n",
       "      <td>5.0</td>\n",
       "      <td>5.0</td>\n",
       "      <td>5.0</td>\n",
       "      <td>suglis</td>\n",
       "      <td>5.0</td>\n",
       "      <td>A fine Belgian-style beer at less the cash.</td>\n",
       "      <td>2001-02-01 15:10:09</td>\n",
       "      <td>2001</td>\n",
       "    </tr>\n",
       "    <tr>\n",
       "      <th>489478</th>\n",
       "      <td>5.3</td>\n",
       "      <td>353</td>\n",
       "      <td>132</td>\n",
       "      <td>Mocha Porter</td>\n",
       "      <td>American Porter</td>\n",
       "      <td>5.0</td>\n",
       "      <td>5.0</td>\n",
       "      <td>5.0</td>\n",
       "      <td>5.0</td>\n",
       "      <td>Brent</td>\n",
       "      <td>5.0</td>\n",
       "      <td>Very bold with tons of coffee/dark chocolate n...</td>\n",
       "      <td>2001-03-08 09:30:51</td>\n",
       "      <td>2001</td>\n",
       "    </tr>\n",
       "    <tr>\n",
       "      <th>518395</th>\n",
       "      <td>5.0</td>\n",
       "      <td>571</td>\n",
       "      <td>113</td>\n",
       "      <td>Samuel Smith's Oatmeal Stout</td>\n",
       "      <td>Oatmeal Stout</td>\n",
       "      <td>5.0</td>\n",
       "      <td>5.0</td>\n",
       "      <td>5.0</td>\n",
       "      <td>5.0</td>\n",
       "      <td>grdahl</td>\n",
       "      <td>5.0</td>\n",
       "      <td>Quite possibly the best beer on earth. A bit p...</td>\n",
       "      <td>2001-06-22 23:20:51</td>\n",
       "      <td>2001</td>\n",
       "    </tr>\n",
       "  </tbody>\n",
       "</table>\n",
       "</div>"
      ],
      "text/plain": [
       "        beer_ABV  beer_beerId  beer_brewerId                     beer_name  \\\n",
       "45765        4.4          429              1               Pilsner Urquell   \n",
       "505549       6.1        56973            132     Shakespeare Oatmeal Stout   \n",
       "374477       8.0           33             22                       Maudite   \n",
       "489478       5.3          353            132                  Mocha Porter   \n",
       "518395       5.0          571            113  Samuel Smith's Oatmeal Stout   \n",
       "\n",
       "                     beer_style  review_appearance  review_palette  \\\n",
       "45765            Czech Pilsener                5.0             5.0   \n",
       "505549            Oatmeal Stout                5.0             5.0   \n",
       "374477  Belgian Strong Dark Ale                5.0             5.0   \n",
       "489478          American Porter                5.0             5.0   \n",
       "518395            Oatmeal Stout                5.0             5.0   \n",
       "\n",
       "        review_overall  review_taste review_profileName  review_aroma  \\\n",
       "45765              5.0           5.0       BarnacleBill           5.0   \n",
       "505549             5.0           5.0             esprit           5.0   \n",
       "374477             5.0           5.0             suglis           5.0   \n",
       "489478             5.0           5.0              Brent           5.0   \n",
       "518395             5.0           5.0             grdahl           5.0   \n",
       "\n",
       "                                              review_text         review_time  \\\n",
       "45765   You have been sentenced to drinking only one b... 2000-10-31 17:49:26   \n",
       "505549  If you love Stout, you have to love this one..... 2001-01-30 13:32:38   \n",
       "374477        A fine Belgian-style beer at less the cash. 2001-02-01 15:10:09   \n",
       "489478  Very bold with tons of coffee/dark chocolate n... 2001-03-08 09:30:51   \n",
       "518395  Quite possibly the best beer on earth. A bit p... 2001-06-22 23:20:51   \n",
       "\n",
       "        year  \n",
       "45765   2000  \n",
       "505549  2001  \n",
       "374477  2001  \n",
       "489478  2001  \n",
       "518395  2001  "
      ]
     },
     "execution_count": 40,
     "metadata": {},
     "output_type": "execute_result"
    }
   ],
   "source": [
    "#sort from most important feature to least(for ex review_aroma strongest festure as found previously)\n",
    "df_ratings = df.sort_values(['review_overall', 'review_aroma', 'review_taste','review_palette','review_appearance'], ascending = False)\n",
    "df_top_ratings = df_ratings[0:2000]\n",
    "df_top_ratings.head()"
   ]
  },
  {
   "cell_type": "code",
   "execution_count": 41,
   "metadata": {},
   "outputs": [
    {
     "data": {
      "text/plain": [
       "Founders KBS (Kentucky Breakfast Stout)       108\n",
       "Trappistes Rochefort 10                        84\n",
       "Founders Breakfast Stout                       72\n",
       "Founders CBS Imperial Stout                    50\n",
       "Tröegs Nugget Nectar                           44\n",
       "Orval Trappist Ale                             38\n",
       "La Fin Du Monde                                37\n",
       "Chimay Grande Réserve (Blue)                   36\n",
       "Péché Mortel (Imperial Stout Au Cafe)          30\n",
       "Sierra Nevada Celebration Ale                  29\n",
       "Shakespeare Oatmeal Stout                      28\n",
       "Samuel Smith's Oatmeal Stout                   26\n",
       "Sierra Nevada Bigfoot Barleywine Style Ale     25\n",
       "Hunahpu's Imperial Stout                       22\n",
       "AleSmith Speedway Stout                        21\n",
       "Name: beer_name, dtype: int64"
      ]
     },
     "execution_count": 41,
     "metadata": {},
     "output_type": "execute_result"
    }
   ],
   "source": [
    "#organize top beers by value counts since more reviews correlates w/ more people drinking that particular brand of beer\n",
    "list3 = df_top_ratings.beer_name.value_counts()\n",
    "list3[0:15]"
   ]
  },
  {
   "cell_type": "code",
   "execution_count": 42,
   "metadata": {},
   "outputs": [
    {
     "data": {
      "text/plain": [
       "<matplotlib.axes._subplots.AxesSubplot at 0x1a279730f0>"
      ]
     },
     "execution_count": 42,
     "metadata": {},
     "output_type": "execute_result"
    },
    {
     "data": {
      "image/png": "[encoded data removed]",
      "text/plain": [
       "<Figure size 432x288 with 1 Axes>"
      ]
     },
     "metadata": {
      "needs_background": "light"
     },
     "output_type": "display_data"
    }
   ],
   "source": [
    "#plot the beer names with the highest count of reviews\n",
    "list_3 = list3[0:12]\n",
    "list_3.plot(kind='bar')"
   ]
  },
  {
   "cell_type": "code",
   "execution_count": 43,
   "metadata": {},
   "outputs": [
    {
     "data": {
      "text/plain": [
       "array(['Pilsner Urquell', 'Samuel Adams Harvest Pumpkin Ale',\n",
       "       'Heineken Dark Lager', 'Gandhi-Bot Double IPA',\n",
       "       'Trappistes Rochefort 10', 'Cranberry Saison',\n",
       "       'Founders Breakfast Stout', 'Founders Porter',\n",
       "       'Samuel Adams Octoberfest', 'Racer 5 India Pale Ale'], dtype=object)"
      ]
     },
     "execution_count": 43,
     "metadata": {},
     "output_type": "execute_result"
    }
   ],
   "source": [
    "#sort values of the top rated beers \n",
    "df_top_ratings.sort_values(by = ['review_overall'], ascending = False ).head(10)\\\n",
    "    [ 'beer_name' ].unique()"
   ]
  },
  {
   "cell_type": "code",
   "execution_count": 44,
   "metadata": {
    "scrolled": false
   },
   "outputs": [
    {
     "name": "stdout",
     "output_type": "stream",
     "text": [
      "563\n"
     ]
    },
    {
     "data": {
      "text/plain": [
       "array(['Pilsner Urquell', 'Knuckle Sandwich',\n",
       "       \"30th Anniversary - Fritz And Ken's Ale\", 'Saison De Lente',\n",
       "       'Flying Mouflan', 'Ranger', 'Hoptimum Double IPA - Beer Camp #19',\n",
       "       'Cantillon Soleil De Minuit', 'Pothole Filler Imperial Stout',\n",
       "       'Barrel Aged Yeti'], dtype=object)"
      ]
     },
     "execution_count": 44,
     "metadata": {},
     "output_type": "execute_result"
    }
   ],
   "source": [
    "#remove duplicates of the same beer name\n",
    "df_top_rating = df_top_ratings.drop_duplicates(subset = 'beer_name', keep = 'first')\n",
    "print(len(df_top_rating))\n",
    "df_top_rating.sort_values( by = ['review_overall'], ascending = False ).head(10) \\\n",
    "    [ 'beer_name' ].unique()"
   ]
  },
  {
   "cell_type": "markdown",
   "metadata": {},
   "source": [
    "## Therefore, the 3 beers to recommend to a friend would be 1.)Founder's KBS,  2.) Trappistes Rochefort 10,  3.) Founder's Breakfast Stout, and  4.) Pilsner Urquel based on overall reviews and review counts of each beer.  "
   ]
  },
  {
   "cell_type": "markdown",
   "metadata": {},
   "source": [
    "## 5.) Which Beer style seems to be the favorite based on Reviews written by users? How does written review compare to overall review score for the beer style?\n"
   ]
  },
  {
   "cell_type": "code",
   "execution_count": 45,
   "metadata": {},
   "outputs": [
    {
     "name": "stdout",
     "output_type": "stream",
     "text": [
      "American Double / Imperial Stout    424\n",
      "American IPA                        161\n",
      "American Double / Imperial IPA      114\n",
      "Russian Imperial Stout              101\n",
      "Quadrupel (Quad)                     88\n",
      "Belgian Strong Dark Ale              87\n",
      "American Amber / Red Ale             68\n",
      "Tripel                               55\n",
      "Oatmeal Stout                        55\n",
      "American Barleywine                  50\n",
      "Belgian Pale Ale                     44\n",
      "American Strong Ale                  37\n",
      "Lambic - Fruit                       34\n",
      "American Stout                       33\n",
      "Fruit / Vegetable Beer               33\n",
      "American Pale Ale (APA)              32\n",
      "American Porter                      32\n",
      "Dubbel                               30\n",
      "Rye Beer                             29\n",
      "Doppelbock                           23\n",
      "Name: beer_style, dtype: int64\n"
     ]
    }
   ],
   "source": [
    "#organize top beers by value counts since more reviews correlates w/ more people drinking that particular brand of beer\n",
    "list5 = df_top_ratings.beer_style.value_counts()\n",
    "print(list5[0:20])"
   ]
  },
  {
   "cell_type": "code",
   "execution_count": 46,
   "metadata": {},
   "outputs": [
    {
     "data": {
      "text/plain": [
       "<matplotlib.axes._subplots.AxesSubplot at 0x1a27bcfa58>"
      ]
     },
     "execution_count": 46,
     "metadata": {},
     "output_type": "execute_result"
    },
    {
     "data": {
      "image/png": "[encoded data removed]",
      "text/plain": [
       "<Figure size 432x288 with 1 Axes>"
      ]
     },
     "metadata": {
      "needs_background": "light"
     },
     "output_type": "display_data"
    }
   ],
   "source": [
    "#plot the beer styles with the highest count of reviews\n",
    "list_5 = list5[0:15]\n",
    "list_5.plot(kind='bar')"
   ]
  },
  {
   "cell_type": "code",
   "execution_count": 47,
   "metadata": {},
   "outputs": [
    {
     "data": {
      "text/plain": [
       "array(['Czech Pilsener', 'Pumpkin Ale', 'Euro Dark Lager',\n",
       "       'American Double / Imperial IPA', 'Quadrupel (Quad)',\n",
       "       'Saison / Farmhouse Ale', 'American Double / Imperial Stout',\n",
       "       'American Porter', 'Märzen / Oktoberfest', 'American IPA',\n",
       "       'English Porter', 'Lambic - Fruit', 'Russian Imperial Stout',\n",
       "       'Irish Dry Stout', 'American Amber / Red Ale', 'Gueuze', 'Dubbel',\n",
       "       'Tripel'], dtype=object)"
      ]
     },
     "execution_count": 47,
     "metadata": {},
     "output_type": "execute_result"
    }
   ],
   "source": [
    "#sort unique values to in order to choose top ten beers by beer style\n",
    "df_top_ratings.sort_values( by = ['review_overall'], ascending = False ).head(20) \\\n",
    "    [ 'beer_style' ].unique()"
   ]
  },
  {
   "cell_type": "code",
   "execution_count": 48,
   "metadata": {},
   "outputs": [
    {
     "data": {
      "text/plain": [
       "array(['Czech Pilsener', 'Munich Helles Lager', 'American Adjunct Lager',\n",
       "       'American Malt Liquor', 'Bière de Garde', 'Euro Strong Lager',\n",
       "       'Old Ale', 'Irish Dry Stout', 'Dunkelweizen', 'English Brown Ale',\n",
       "       'Extra Special / Strong Bitter (ESB)', 'Märzen / Oktoberfest',\n",
       "       'American Brown Ale', 'American Pale Wheat Ale',\n",
       "       'English Barleywine', 'Cream Ale', 'Saison / Farmhouse Ale',\n",
       "       'Bock', 'Altbier', 'Weizenbock'], dtype=object)"
      ]
     },
     "execution_count": 48,
     "metadata": {},
     "output_type": "execute_result"
    }
   ],
   "source": [
    "#remove duplicates of the same beer name\n",
    "df_top_rating = df_top_ratings.drop_duplicates(subset = 'beer_style')\n",
    "df_top_rating.sort_values( by = ['review_overall'], ascending = False ).head(20) \\\n",
    "    [ 'beer_style' ].unique()"
   ]
  },
  {
   "cell_type": "markdown",
   "metadata": {},
   "source": [
    "## Therefore based on the analysis of overall reviews and the review counts of each beer, the 1.) American Double/Imperial Stout, 2.) American IPA, 3.) American Double/Imperial IPA, and the 4.) Czech Pilsner would be the best beer_styles to recommend to a friend"
   ]
  },
  {
   "cell_type": "code",
   "execution_count": 49,
   "metadata": {},
   "outputs": [],
   "source": [
    "#import nltk packages in order to take a look at review_text written by users and rank based on the text\n",
    "import re\n",
    "import nltk\n",
    "import nltk.corpus\n",
    "import re\n",
    "import string\n",
    "from nltk.corpus import stopwords\n",
    "import nltk as nlp"
   ]
  },
  {
   "cell_type": "code",
   "execution_count": 50,
   "metadata": {},
   "outputs": [],
   "source": [
    "#create list of positive and negative ratings based on 25% tiers in df.\n",
    "list = []\n",
    "for i in df.review_overall:\n",
    "    if i > 4.50:\n",
    "        list.append('positive_rating')\n",
    "    elif i < 3.50:\n",
    "        list.append('negative_rating')    \n",
    "    else:\n",
    "        list.append('other')"
   ]
  },
  {
   "cell_type": "code",
   "execution_count": 51,
   "metadata": {},
   "outputs": [
    {
     "data": {
      "text/plain": [
       "['other', 'other', 'other', 'other', 'positive_rating']"
      ]
     },
     "execution_count": 51,
     "metadata": {},
     "output_type": "execute_result"
    }
   ],
   "source": [
    "#take a look at first five ratings in  the list\n",
    "list[0:5]"
   ]
  },
  {
   "cell_type": "code",
   "execution_count": 52,
   "metadata": {},
   "outputs": [
    {
     "data": {
      "text/html": [
       "<div>\n",
       "<style scoped>\n",
       "    .dataframe tbody tr th:only-of-type {\n",
       "        vertical-align: middle;\n",
       "    }\n",
       "\n",
       "    .dataframe tbody tr th {\n",
       "        vertical-align: top;\n",
       "    }\n",
       "\n",
       "    .dataframe thead th {\n",
       "        text-align: right;\n",
       "    }\n",
       "</style>\n",
       "<table border=\"1\" class=\"dataframe\">\n",
       "  <thead>\n",
       "    <tr style=\"text-align: right;\">\n",
       "      <th></th>\n",
       "      <th>beer_ABV</th>\n",
       "      <th>beer_beerId</th>\n",
       "      <th>beer_brewerId</th>\n",
       "      <th>beer_name</th>\n",
       "      <th>beer_style</th>\n",
       "      <th>review_appearance</th>\n",
       "      <th>review_palette</th>\n",
       "      <th>review_overall</th>\n",
       "      <th>review_taste</th>\n",
       "      <th>review_profileName</th>\n",
       "      <th>review_aroma</th>\n",
       "      <th>review_text</th>\n",
       "      <th>review_time</th>\n",
       "      <th>year</th>\n",
       "      <th>rating</th>\n",
       "    </tr>\n",
       "  </thead>\n",
       "  <tbody>\n",
       "    <tr>\n",
       "      <th>286219</th>\n",
       "      <td>17.5</td>\n",
       "      <td>111</td>\n",
       "      <td>35</td>\n",
       "      <td>Samuel Adams Triple Bock</td>\n",
       "      <td>American Strong Ale</td>\n",
       "      <td>3.0</td>\n",
       "      <td>4.0</td>\n",
       "      <td>4.0</td>\n",
       "      <td>4.5</td>\n",
       "      <td>Todd</td>\n",
       "      <td>4.5</td>\n",
       "      <td>Presentation: 8.45oz blue bottle with gold let...</td>\n",
       "      <td>1998-01-10 00:00:01</td>\n",
       "      <td>1998</td>\n",
       "      <td>other</td>\n",
       "    </tr>\n",
       "    <tr>\n",
       "      <th>78358</th>\n",
       "      <td>9.6</td>\n",
       "      <td>2671</td>\n",
       "      <td>140</td>\n",
       "      <td>Sierra Nevada Bigfoot Barleywine Style Ale</td>\n",
       "      <td>American Barleywine</td>\n",
       "      <td>4.0</td>\n",
       "      <td>4.0</td>\n",
       "      <td>4.5</td>\n",
       "      <td>4.0</td>\n",
       "      <td>BeerAdvocate</td>\n",
       "      <td>4.5</td>\n",
       "      <td>Presentation: 12oz short brown twist cap bottl...</td>\n",
       "      <td>1998-02-06 00:00:01</td>\n",
       "      <td>1998</td>\n",
       "      <td>other</td>\n",
       "    </tr>\n",
       "    <tr>\n",
       "      <th>358325</th>\n",
       "      <td>4.6</td>\n",
       "      <td>2134</td>\n",
       "      <td>115</td>\n",
       "      <td>Nutfield Auburn Ale</td>\n",
       "      <td>American Pale Ale (APA)</td>\n",
       "      <td>3.0</td>\n",
       "      <td>3.0</td>\n",
       "      <td>4.0</td>\n",
       "      <td>3.0</td>\n",
       "      <td>BeerAdvocate</td>\n",
       "      <td>3.5</td>\n",
       "      <td>Presentation: 12 oz. with the same tree scene,...</td>\n",
       "      <td>1998-03-02 00:00:01</td>\n",
       "      <td>1998</td>\n",
       "      <td>other</td>\n",
       "    </tr>\n",
       "    <tr>\n",
       "      <th>260534</th>\n",
       "      <td>4.8</td>\n",
       "      <td>266</td>\n",
       "      <td>91</td>\n",
       "      <td>Kingfisher Premium Lager</td>\n",
       "      <td>American Pale Lager</td>\n",
       "      <td>2.5</td>\n",
       "      <td>3.0</td>\n",
       "      <td>3.5</td>\n",
       "      <td>3.0</td>\n",
       "      <td>Todd</td>\n",
       "      <td>3.5</td>\n",
       "      <td>Presentation: 12 oz bottle, served at this Ind...</td>\n",
       "      <td>1998-03-06 00:00:01</td>\n",
       "      <td>1998</td>\n",
       "      <td>other</td>\n",
       "    </tr>\n",
       "    <tr>\n",
       "      <th>372828</th>\n",
       "      <td>9.0</td>\n",
       "      <td>34</td>\n",
       "      <td>22</td>\n",
       "      <td>La Fin Du Monde</td>\n",
       "      <td>Tripel</td>\n",
       "      <td>4.0</td>\n",
       "      <td>4.0</td>\n",
       "      <td>5.0</td>\n",
       "      <td>5.0</td>\n",
       "      <td>Todd</td>\n",
       "      <td>5.0</td>\n",
       "      <td>Presentation: \"La Fin Du Monde\", translates to...</td>\n",
       "      <td>1998-06-23 00:00:01</td>\n",
       "      <td>1998</td>\n",
       "      <td>positive_rating</td>\n",
       "    </tr>\n",
       "  </tbody>\n",
       "</table>\n",
       "</div>"
      ],
      "text/plain": [
       "        beer_ABV  beer_beerId  beer_brewerId  \\\n",
       "286219      17.5          111             35   \n",
       "78358        9.6         2671            140   \n",
       "358325       4.6         2134            115   \n",
       "260534       4.8          266             91   \n",
       "372828       9.0           34             22   \n",
       "\n",
       "                                         beer_name               beer_style  \\\n",
       "286219                    Samuel Adams Triple Bock      American Strong Ale   \n",
       "78358   Sierra Nevada Bigfoot Barleywine Style Ale      American Barleywine   \n",
       "358325                         Nutfield Auburn Ale  American Pale Ale (APA)   \n",
       "260534                    Kingfisher Premium Lager      American Pale Lager   \n",
       "372828                             La Fin Du Monde                   Tripel   \n",
       "\n",
       "        review_appearance  review_palette  review_overall  review_taste  \\\n",
       "286219                3.0             4.0             4.0           4.5   \n",
       "78358                 4.0             4.0             4.5           4.0   \n",
       "358325                3.0             3.0             4.0           3.0   \n",
       "260534                2.5             3.0             3.5           3.0   \n",
       "372828                4.0             4.0             5.0           5.0   \n",
       "\n",
       "       review_profileName  review_aroma  \\\n",
       "286219               Todd           4.5   \n",
       "78358        BeerAdvocate           4.5   \n",
       "358325       BeerAdvocate           3.5   \n",
       "260534               Todd           3.5   \n",
       "372828               Todd           5.0   \n",
       "\n",
       "                                              review_text         review_time  \\\n",
       "286219  Presentation: 8.45oz blue bottle with gold let... 1998-01-10 00:00:01   \n",
       "78358   Presentation: 12oz short brown twist cap bottl... 1998-02-06 00:00:01   \n",
       "358325  Presentation: 12 oz. with the same tree scene,... 1998-03-02 00:00:01   \n",
       "260534  Presentation: 12 oz bottle, served at this Ind... 1998-03-06 00:00:01   \n",
       "372828  Presentation: \"La Fin Du Monde\", translates to... 1998-06-23 00:00:01   \n",
       "\n",
       "        year           rating  \n",
       "286219  1998            other  \n",
       "78358   1998            other  \n",
       "358325  1998            other  \n",
       "260534  1998            other  \n",
       "372828  1998  positive_rating  "
      ]
     },
     "execution_count": 52,
     "metadata": {},
     "output_type": "execute_result"
    }
   ],
   "source": [
    "#add list to data frame under column name rating\n",
    "df['rating'] = list\n",
    "df.head()"
   ]
  },
  {
   "cell_type": "code",
   "execution_count": 53,
   "metadata": {},
   "outputs": [
    {
     "data": {
      "text/plain": [
       "(116499, 15)"
      ]
     },
     "execution_count": 53,
     "metadata": {},
     "output_type": "execute_result"
    }
   ],
   "source": [
    "#drop the 'other' values\n",
    "dat = df[df.rating != 'other']\n",
    "dat.shape"
   ]
  },
  {
   "cell_type": "code",
   "execution_count": 54,
   "metadata": {},
   "outputs": [
    {
     "data": {
      "text/html": [
       "<div>\n",
       "<style scoped>\n",
       "    .dataframe tbody tr th:only-of-type {\n",
       "        vertical-align: middle;\n",
       "    }\n",
       "\n",
       "    .dataframe tbody tr th {\n",
       "        vertical-align: top;\n",
       "    }\n",
       "\n",
       "    .dataframe thead th {\n",
       "        text-align: right;\n",
       "    }\n",
       "</style>\n",
       "<table border=\"1\" class=\"dataframe\">\n",
       "  <thead>\n",
       "    <tr style=\"text-align: right;\">\n",
       "      <th></th>\n",
       "      <th>beer_ABV</th>\n",
       "      <th>beer_beerId</th>\n",
       "      <th>beer_brewerId</th>\n",
       "      <th>beer_name</th>\n",
       "      <th>beer_style</th>\n",
       "      <th>review_appearance</th>\n",
       "      <th>review_palette</th>\n",
       "      <th>review_overall</th>\n",
       "      <th>review_taste</th>\n",
       "      <th>review_profileName</th>\n",
       "      <th>review_aroma</th>\n",
       "      <th>review_text</th>\n",
       "      <th>review_time</th>\n",
       "      <th>year</th>\n",
       "      <th>rating</th>\n",
       "    </tr>\n",
       "  </thead>\n",
       "  <tbody>\n",
       "    <tr>\n",
       "      <th>372828</th>\n",
       "      <td>9.0</td>\n",
       "      <td>34</td>\n",
       "      <td>22</td>\n",
       "      <td>La Fin Du Monde</td>\n",
       "      <td>Tripel</td>\n",
       "      <td>4.0</td>\n",
       "      <td>4.0</td>\n",
       "      <td>5.0</td>\n",
       "      <td>5.0</td>\n",
       "      <td>Todd</td>\n",
       "      <td>5.0</td>\n",
       "      <td>Presentation: \"La Fin Du Monde\", translates to...</td>\n",
       "      <td>1998-06-23 00:00:01</td>\n",
       "      <td>1998</td>\n",
       "      <td>1</td>\n",
       "    </tr>\n",
       "    <tr>\n",
       "      <th>374478</th>\n",
       "      <td>8.0</td>\n",
       "      <td>33</td>\n",
       "      <td>22</td>\n",
       "      <td>Maudite</td>\n",
       "      <td>Belgian Strong Dark Ale</td>\n",
       "      <td>4.5</td>\n",
       "      <td>4.5</td>\n",
       "      <td>5.0</td>\n",
       "      <td>5.0</td>\n",
       "      <td>Todd</td>\n",
       "      <td>5.0</td>\n",
       "      <td>Presentation: \"Maudite\", translates to \"Cursed...</td>\n",
       "      <td>1998-08-26 00:00:01</td>\n",
       "      <td>1998</td>\n",
       "      <td>1</td>\n",
       "    </tr>\n",
       "    <tr>\n",
       "      <th>177290</th>\n",
       "      <td>4.2</td>\n",
       "      <td>13</td>\n",
       "      <td>5</td>\n",
       "      <td>Bert Grant's IPA</td>\n",
       "      <td>English India Pale Ale (IPA)</td>\n",
       "      <td>2.5</td>\n",
       "      <td>3.0</td>\n",
       "      <td>3.0</td>\n",
       "      <td>3.0</td>\n",
       "      <td>Todd</td>\n",
       "      <td>2.5</td>\n",
       "      <td>Presentation: 12 oz. short bottle with Bert Gr...</td>\n",
       "      <td>1998-09-06 00:00:01</td>\n",
       "      <td>1998</td>\n",
       "      <td>0</td>\n",
       "    </tr>\n",
       "    <tr>\n",
       "      <th>16052</th>\n",
       "      <td>6.8</td>\n",
       "      <td>505</td>\n",
       "      <td>14</td>\n",
       "      <td>Big Man Ale</td>\n",
       "      <td>American IPA</td>\n",
       "      <td>3.5</td>\n",
       "      <td>4.0</td>\n",
       "      <td>5.0</td>\n",
       "      <td>4.5</td>\n",
       "      <td>BeerAdvocate</td>\n",
       "      <td>4.5</td>\n",
       "      <td>Presentation: On tap. Appearance: Tawny, reddi...</td>\n",
       "      <td>2000-09-22 00:00:01</td>\n",
       "      <td>2000</td>\n",
       "      <td>1</td>\n",
       "    </tr>\n",
       "    <tr>\n",
       "      <th>385803</th>\n",
       "      <td>6.5</td>\n",
       "      <td>590</td>\n",
       "      <td>184</td>\n",
       "      <td>La Trappe Blond (Koningshoeven / Dominus)</td>\n",
       "      <td>Belgian Pale Ale</td>\n",
       "      <td>5.0</td>\n",
       "      <td>2.5</td>\n",
       "      <td>3.0</td>\n",
       "      <td>2.5</td>\n",
       "      <td>BeerAdvocate</td>\n",
       "      <td>3.0</td>\n",
       "      <td>Presentation: 1 pint 9.4 oz brown Belgian magn...</td>\n",
       "      <td>2000-09-24 00:00:01</td>\n",
       "      <td>2000</td>\n",
       "      <td>0</td>\n",
       "    </tr>\n",
       "  </tbody>\n",
       "</table>\n",
       "</div>"
      ],
      "text/plain": [
       "        beer_ABV  beer_beerId  beer_brewerId  \\\n",
       "372828       9.0           34             22   \n",
       "374478       8.0           33             22   \n",
       "177290       4.2           13              5   \n",
       "16052        6.8          505             14   \n",
       "385803       6.5          590            184   \n",
       "\n",
       "                                        beer_name  \\\n",
       "372828                            La Fin Du Monde   \n",
       "374478                                    Maudite   \n",
       "177290                           Bert Grant's IPA   \n",
       "16052                                 Big Man Ale   \n",
       "385803  La Trappe Blond (Koningshoeven / Dominus)   \n",
       "\n",
       "                          beer_style  review_appearance  review_palette  \\\n",
       "372828                        Tripel                4.0             4.0   \n",
       "374478       Belgian Strong Dark Ale                4.5             4.5   \n",
       "177290  English India Pale Ale (IPA)                2.5             3.0   \n",
       "16052                   American IPA                3.5             4.0   \n",
       "385803              Belgian Pale Ale                5.0             2.5   \n",
       "\n",
       "        review_overall  review_taste review_profileName  review_aroma  \\\n",
       "372828             5.0           5.0               Todd           5.0   \n",
       "374478             5.0           5.0               Todd           5.0   \n",
       "177290             3.0           3.0               Todd           2.5   \n",
       "16052              5.0           4.5       BeerAdvocate           4.5   \n",
       "385803             3.0           2.5       BeerAdvocate           3.0   \n",
       "\n",
       "                                              review_text         review_time  \\\n",
       "372828  Presentation: \"La Fin Du Monde\", translates to... 1998-06-23 00:00:01   \n",
       "374478  Presentation: \"Maudite\", translates to \"Cursed... 1998-08-26 00:00:01   \n",
       "177290  Presentation: 12 oz. short bottle with Bert Gr... 1998-09-06 00:00:01   \n",
       "16052   Presentation: On tap. Appearance: Tawny, reddi... 2000-09-22 00:00:01   \n",
       "385803  Presentation: 1 pint 9.4 oz brown Belgian magn... 2000-09-24 00:00:01   \n",
       "\n",
       "        year  rating  \n",
       "372828  1998       1  \n",
       "374478  1998       1  \n",
       "177290  1998       0  \n",
       "16052   2000       1  \n",
       "385803  2000       0  "
      ]
     },
     "execution_count": 54,
     "metadata": {},
     "output_type": "execute_result"
    }
   ],
   "source": [
    "#Create numerical column rating that will be used later for response vector\n",
    "dat['rating'] = dat.rating.map({'positive_rating':1, 'negative_rating':0})\n",
    "dat.head()"
   ]
  },
  {
   "cell_type": "code",
   "execution_count": 55,
   "metadata": {},
   "outputs": [
    {
     "data": {
      "text/html": [
       "<div>\n",
       "<style scoped>\n",
       "    .dataframe tbody tr th:only-of-type {\n",
       "        vertical-align: middle;\n",
       "    }\n",
       "\n",
       "    .dataframe tbody tr th {\n",
       "        vertical-align: top;\n",
       "    }\n",
       "\n",
       "    .dataframe thead th {\n",
       "        text-align: right;\n",
       "    }\n",
       "</style>\n",
       "<table border=\"1\" class=\"dataframe\">\n",
       "  <thead>\n",
       "    <tr style=\"text-align: right;\">\n",
       "      <th></th>\n",
       "      <th>rating</th>\n",
       "      <th>review_text</th>\n",
       "      <th>beer_style</th>\n",
       "      <th>review_overall</th>\n",
       "    </tr>\n",
       "  </thead>\n",
       "  <tbody>\n",
       "    <tr>\n",
       "      <th>372828</th>\n",
       "      <td>1</td>\n",
       "      <td>Presentation: \"La Fin Du Monde\", translates to...</td>\n",
       "      <td>Tripel</td>\n",
       "      <td>5.0</td>\n",
       "    </tr>\n",
       "    <tr>\n",
       "      <th>374478</th>\n",
       "      <td>1</td>\n",
       "      <td>Presentation: \"Maudite\", translates to \"Cursed...</td>\n",
       "      <td>Belgian Strong Dark Ale</td>\n",
       "      <td>5.0</td>\n",
       "    </tr>\n",
       "    <tr>\n",
       "      <th>177290</th>\n",
       "      <td>0</td>\n",
       "      <td>Presentation: 12 oz. short bottle with Bert Gr...</td>\n",
       "      <td>English India Pale Ale (IPA)</td>\n",
       "      <td>3.0</td>\n",
       "    </tr>\n",
       "    <tr>\n",
       "      <th>16052</th>\n",
       "      <td>1</td>\n",
       "      <td>Presentation: On tap. Appearance: Tawny, reddi...</td>\n",
       "      <td>American IPA</td>\n",
       "      <td>5.0</td>\n",
       "    </tr>\n",
       "    <tr>\n",
       "      <th>385803</th>\n",
       "      <td>0</td>\n",
       "      <td>Presentation: 1 pint 9.4 oz brown Belgian magn...</td>\n",
       "      <td>Belgian Pale Ale</td>\n",
       "      <td>3.0</td>\n",
       "    </tr>\n",
       "  </tbody>\n",
       "</table>\n",
       "</div>"
      ],
      "text/plain": [
       "        rating                                        review_text  \\\n",
       "372828       1  Presentation: \"La Fin Du Monde\", translates to...   \n",
       "374478       1  Presentation: \"Maudite\", translates to \"Cursed...   \n",
       "177290       0  Presentation: 12 oz. short bottle with Bert Gr...   \n",
       "16052        1  Presentation: On tap. Appearance: Tawny, reddi...   \n",
       "385803       0  Presentation: 1 pint 9.4 oz brown Belgian magn...   \n",
       "\n",
       "                          beer_style  review_overall  \n",
       "372828                        Tripel             5.0  \n",
       "374478       Belgian Strong Dark Ale             5.0  \n",
       "177290  English India Pale Ale (IPA)             3.0  \n",
       "16052                   American IPA             5.0  \n",
       "385803              Belgian Pale Ale             3.0  "
      ]
     },
     "execution_count": 55,
     "metadata": {},
     "output_type": "execute_result"
    }
   ],
   "source": [
    "#take a look at data frame\n",
    "df4 = dat[['rating','review_text','beer_style','review_overall']]\n",
    "df4.head()"
   ]
  },
  {
   "cell_type": "code",
   "execution_count": 56,
   "metadata": {},
   "outputs": [],
   "source": [
    "#convert all dialogue to list of text in order to begin text pre-processing\n",
    "tex = df4['review_text'].tolist()\n",
    "text = str(tex)"
   ]
  },
  {
   "cell_type": "code",
   "execution_count": 57,
   "metadata": {},
   "outputs": [],
   "source": [
    "#Make function to lowercase text, remove punctuation, remove whitespace and remove words containing numbers\n",
    "def clean_text(text):\n",
    "    text = text.lower()\n",
    "    text = re.sub('[%s]' % re.escape(string.punctuation), '', text)\n",
    "    text = re.sub('\\w*\\d\\w*', '', text)\n",
    "    text = text.strip()\n",
    "    return text\n",
    "\n",
    "clean = lambda x: clean_text(x)"
   ]
  },
  {
   "cell_type": "code",
   "execution_count": 58,
   "metadata": {},
   "outputs": [
    {
     "data": {
      "text/html": [
       "<div>\n",
       "<style scoped>\n",
       "    .dataframe tbody tr th:only-of-type {\n",
       "        vertical-align: middle;\n",
       "    }\n",
       "\n",
       "    .dataframe tbody tr th {\n",
       "        vertical-align: top;\n",
       "    }\n",
       "\n",
       "    .dataframe thead th {\n",
       "        text-align: right;\n",
       "    }\n",
       "</style>\n",
       "<table border=\"1\" class=\"dataframe\">\n",
       "  <thead>\n",
       "    <tr style=\"text-align: right;\">\n",
       "      <th></th>\n",
       "      <th>review_text</th>\n",
       "    </tr>\n",
       "  </thead>\n",
       "  <tbody>\n",
       "    <tr>\n",
       "      <th>372828</th>\n",
       "      <td>presentation la fin du monde translates to the...</td>\n",
       "    </tr>\n",
       "    <tr>\n",
       "      <th>374478</th>\n",
       "      <td>presentation maudite translates to cursed lost...</td>\n",
       "    </tr>\n",
       "    <tr>\n",
       "      <th>177290</th>\n",
       "      <td>presentation  oz short bottle with bert grant ...</td>\n",
       "    </tr>\n",
       "    <tr>\n",
       "      <th>16052</th>\n",
       "      <td>presentation on tap appearance tawny reddish b...</td>\n",
       "    </tr>\n",
       "    <tr>\n",
       "      <th>385803</th>\n",
       "      <td>presentation  pint  oz brown belgian magnum co...</td>\n",
       "    </tr>\n",
       "  </tbody>\n",
       "</table>\n",
       "</div>"
      ],
      "text/plain": [
       "                                              review_text\n",
       "372828  presentation la fin du monde translates to the...\n",
       "374478  presentation maudite translates to cursed lost...\n",
       "177290  presentation  oz short bottle with bert grant ...\n",
       "16052   presentation on tap appearance tawny reddish b...\n",
       "385803  presentation  pint  oz brown belgian magnum co..."
      ]
     },
     "execution_count": 58,
     "metadata": {},
     "output_type": "execute_result"
    }
   ],
   "source": [
    "# Let's take a look at the updated text\n",
    "from nltk.tokenize import word_tokenize\n",
    "updated_text = pd.DataFrame(df4['review_text'].apply(clean))\n",
    "updated_text.head()"
   ]
  },
  {
   "cell_type": "code",
   "execution_count": 59,
   "metadata": {},
   "outputs": [],
   "source": [
    "#still need to remove stop words and lemmatize to further clean\n",
    "from nltk.tokenize import word_tokenize\n",
    "text1 = updated_text['review_text'].tolist()\n",
    "text2 = str(text1)\n",
    "stop_words = set(stopwords.words('english'))\n",
    "from nltk.stem import WordNetLemmatizer\n",
    "lemmatizer = WordNetLemmatizer()\n",
    "def cleaner_text(text2):\n",
    "    text2 = word_tokenize(text2)\n",
    "    text2 = [i for i in text2 if not i in stop_words]\n",
    "    text2 = \" \".join([lemmatizer.lemmatize(t) for t in text2])\n",
    "    return text2\n",
    "\n",
    "clean2 = lambda x: cleaner_text(x)"
   ]
  },
  {
   "cell_type": "code",
   "execution_count": 60,
   "metadata": {},
   "outputs": [
    {
     "data": {
      "text/html": [
       "<div>\n",
       "<style scoped>\n",
       "    .dataframe tbody tr th:only-of-type {\n",
       "        vertical-align: middle;\n",
       "    }\n",
       "\n",
       "    .dataframe tbody tr th {\n",
       "        vertical-align: top;\n",
       "    }\n",
       "\n",
       "    .dataframe thead th {\n",
       "        text-align: right;\n",
       "    }\n",
       "</style>\n",
       "<table border=\"1\" class=\"dataframe\">\n",
       "  <thead>\n",
       "    <tr style=\"text-align: right;\">\n",
       "      <th></th>\n",
       "      <th>review_text</th>\n",
       "    </tr>\n",
       "  </thead>\n",
       "  <tbody>\n",
       "    <tr>\n",
       "      <th>372828</th>\n",
       "      <td>presentation la fin du monde translates end wo...</td>\n",
       "    </tr>\n",
       "    <tr>\n",
       "      <th>374478</th>\n",
       "      <td>presentation maudite translates cursed lost so...</td>\n",
       "    </tr>\n",
       "    <tr>\n",
       "      <th>177290</th>\n",
       "      <td>presentation oz short bottle bert grant neck p...</td>\n",
       "    </tr>\n",
       "    <tr>\n",
       "      <th>16052</th>\n",
       "      <td>presentation tap appearance tawny reddish brow...</td>\n",
       "    </tr>\n",
       "    <tr>\n",
       "      <th>385803</th>\n",
       "      <td>presentation pint oz brown belgian magnum cork...</td>\n",
       "    </tr>\n",
       "  </tbody>\n",
       "</table>\n",
       "</div>"
      ],
      "text/plain": [
       "                                              review_text\n",
       "372828  presentation la fin du monde translates end wo...\n",
       "374478  presentation maudite translates cursed lost so...\n",
       "177290  presentation oz short bottle bert grant neck p...\n",
       "16052   presentation tap appearance tawny reddish brow...\n",
       "385803  presentation pint oz brown belgian magnum cork..."
      ]
     },
     "execution_count": 60,
     "metadata": {},
     "output_type": "execute_result"
    }
   ],
   "source": [
    "# Let's take a look at the updated text2\n",
    "updated = pd.DataFrame(updated_text['review_text'].apply(clean2))\n",
    "updated.head()"
   ]
  },
  {
   "cell_type": "code",
   "execution_count": 61,
   "metadata": {},
   "outputs": [],
   "source": [
    "#keep only pre-processed text;remove text from previous data frame and then merge data frames\n",
    "df4.drop(['review_text'], axis=1, inplace=True)"
   ]
  },
  {
   "cell_type": "code",
   "execution_count": 62,
   "metadata": {},
   "outputs": [
    {
     "data": {
      "text/html": [
       "<div>\n",
       "<style scoped>\n",
       "    .dataframe tbody tr th:only-of-type {\n",
       "        vertical-align: middle;\n",
       "    }\n",
       "\n",
       "    .dataframe tbody tr th {\n",
       "        vertical-align: top;\n",
       "    }\n",
       "\n",
       "    .dataframe thead th {\n",
       "        text-align: right;\n",
       "    }\n",
       "</style>\n",
       "<table border=\"1\" class=\"dataframe\">\n",
       "  <thead>\n",
       "    <tr style=\"text-align: right;\">\n",
       "      <th></th>\n",
       "      <th>review_text</th>\n",
       "    </tr>\n",
       "  </thead>\n",
       "  <tbody>\n",
       "    <tr>\n",
       "      <th>372828</th>\n",
       "      <td>presentation la fin du monde translates end wo...</td>\n",
       "    </tr>\n",
       "    <tr>\n",
       "      <th>374478</th>\n",
       "      <td>presentation maudite translates cursed lost so...</td>\n",
       "    </tr>\n",
       "    <tr>\n",
       "      <th>177290</th>\n",
       "      <td>presentation oz short bottle bert grant neck p...</td>\n",
       "    </tr>\n",
       "    <tr>\n",
       "      <th>16052</th>\n",
       "      <td>presentation tap appearance tawny reddish brow...</td>\n",
       "    </tr>\n",
       "    <tr>\n",
       "      <th>385803</th>\n",
       "      <td>presentation pint oz brown belgian magnum cork...</td>\n",
       "    </tr>\n",
       "  </tbody>\n",
       "</table>\n",
       "</div>"
      ],
      "text/plain": [
       "                                              review_text\n",
       "372828  presentation la fin du monde translates end wo...\n",
       "374478  presentation maudite translates cursed lost so...\n",
       "177290  presentation oz short bottle bert grant neck p...\n",
       "16052   presentation tap appearance tawny reddish brow...\n",
       "385803  presentation pint oz brown belgian magnum cork..."
      ]
     },
     "execution_count": 62,
     "metadata": {},
     "output_type": "execute_result"
    }
   ],
   "source": [
    "#take a look at the dataframe\n",
    "updated.head()"
   ]
  },
  {
   "cell_type": "code",
   "execution_count": 63,
   "metadata": {},
   "outputs": [
    {
     "data": {
      "text/html": [
       "<div>\n",
       "<style scoped>\n",
       "    .dataframe tbody tr th:only-of-type {\n",
       "        vertical-align: middle;\n",
       "    }\n",
       "\n",
       "    .dataframe tbody tr th {\n",
       "        vertical-align: top;\n",
       "    }\n",
       "\n",
       "    .dataframe thead th {\n",
       "        text-align: right;\n",
       "    }\n",
       "</style>\n",
       "<table border=\"1\" class=\"dataframe\">\n",
       "  <thead>\n",
       "    <tr style=\"text-align: right;\">\n",
       "      <th></th>\n",
       "      <th>rating</th>\n",
       "      <th>beer_style</th>\n",
       "      <th>review_overall</th>\n",
       "      <th>review_text</th>\n",
       "    </tr>\n",
       "  </thead>\n",
       "  <tbody>\n",
       "    <tr>\n",
       "      <th>372828</th>\n",
       "      <td>1</td>\n",
       "      <td>Tripel</td>\n",
       "      <td>5.0</td>\n",
       "      <td>presentation la fin du monde translates end wo...</td>\n",
       "    </tr>\n",
       "    <tr>\n",
       "      <th>374478</th>\n",
       "      <td>1</td>\n",
       "      <td>Belgian Strong Dark Ale</td>\n",
       "      <td>5.0</td>\n",
       "      <td>presentation maudite translates cursed lost so...</td>\n",
       "    </tr>\n",
       "    <tr>\n",
       "      <th>177290</th>\n",
       "      <td>0</td>\n",
       "      <td>English India Pale Ale (IPA)</td>\n",
       "      <td>3.0</td>\n",
       "      <td>presentation oz short bottle bert grant neck p...</td>\n",
       "    </tr>\n",
       "    <tr>\n",
       "      <th>16052</th>\n",
       "      <td>1</td>\n",
       "      <td>American IPA</td>\n",
       "      <td>5.0</td>\n",
       "      <td>presentation tap appearance tawny reddish brow...</td>\n",
       "    </tr>\n",
       "    <tr>\n",
       "      <th>385803</th>\n",
       "      <td>0</td>\n",
       "      <td>Belgian Pale Ale</td>\n",
       "      <td>3.0</td>\n",
       "      <td>presentation pint oz brown belgian magnum cork...</td>\n",
       "    </tr>\n",
       "  </tbody>\n",
       "</table>\n",
       "</div>"
      ],
      "text/plain": [
       "        rating                    beer_style  review_overall  \\\n",
       "372828       1                        Tripel             5.0   \n",
       "374478       1       Belgian Strong Dark Ale             5.0   \n",
       "177290       0  English India Pale Ale (IPA)             3.0   \n",
       "16052        1                  American IPA             5.0   \n",
       "385803       0              Belgian Pale Ale             3.0   \n",
       "\n",
       "                                              review_text  \n",
       "372828  presentation la fin du monde translates end wo...  \n",
       "374478  presentation maudite translates cursed lost so...  \n",
       "177290  presentation oz short bottle bert grant neck p...  \n",
       "16052   presentation tap appearance tawny reddish brow...  \n",
       "385803  presentation pint oz brown belgian magnum cork...  "
      ]
     },
     "execution_count": 63,
     "metadata": {},
     "output_type": "execute_result"
    }
   ],
   "source": [
    "# merge both data frames together\n",
    "data = pd.concat([df4, updated], axis=1)\n",
    "data.head()"
   ]
  },
  {
   "cell_type": "code",
   "execution_count": 64,
   "metadata": {},
   "outputs": [
    {
     "name": "stdout",
     "output_type": "stream",
     "text": [
      "(116499,)\n",
      "(116499,)\n"
     ]
    }
   ],
   "source": [
    "#create target variable of 'good_rating' and 'bad_rating' to be response vector;\n",
    "#review_text will be converted into doc term matrix \n",
    "X = data.review_text\n",
    "y = data.rating\n",
    "print(X.shape)\n",
    "print(y.shape)"
   ]
  },
  {
   "cell_type": "code",
   "execution_count": 65,
   "metadata": {},
   "outputs": [
    {
     "name": "stdout",
     "output_type": "stream",
     "text": [
      "(87374,)\n",
      "(29125,)\n",
      "(87374,)\n",
      "(29125,)\n"
     ]
    }
   ],
   "source": [
    "#divide into training and test data sets\n",
    "from sklearn.model_selection import train_test_split\n",
    "X_train, X_test, y_train, y_test = train_test_split(X, y, random_state=1)\n",
    "print(X_train.shape)\n",
    "print(X_test.shape)\n",
    "print(y_train.shape)\n",
    "print(y_test.shape)"
   ]
  },
  {
   "cell_type": "code",
   "execution_count": 66,
   "metadata": {},
   "outputs": [
    {
     "name": "stdout",
     "output_type": "stream",
     "text": [
      "training set: (87374, 99529)\n",
      "test set: (29125, 99529)\n"
     ]
    }
   ],
   "source": [
    "#instantiate, fit,and transform test and training set into document term matrix\n",
    "from sklearn.feature_extraction.text import CountVectorizer\n",
    "vect = CountVectorizer()\n",
    "vect.fit(X_train)\n",
    "X_train_dtm = vect.transform(X_train)\n",
    "X_train_dtm = vect.fit_transform(X_train)\n",
    "X_test_dtm = vect.transform(X_test)\n",
    "print(\"training set:\", X_train_dtm.shape)\n",
    "print(\"test set:\", X_test_dtm.shape)"
   ]
  },
  {
   "cell_type": "code",
   "execution_count": 67,
   "metadata": {},
   "outputs": [
    {
     "data": {
      "text/plain": [
       "leinie          11.684817\n",
       "mugwort         11.684817\n",
       "muller          11.684817\n",
       "mulledspicy     11.684817\n",
       "mulilayered     11.684817\n",
       "mulholland      11.684817\n",
       "mulesits        11.684817\n",
       "muleing         11.684817\n",
       "mulchlike       11.684817\n",
       "mulched         11.684817\n",
       "mulberry        11.684817\n",
       "mulata          11.684817\n",
       "mujch           11.684817\n",
       "muito           11.684817\n",
       "muis            11.684817\n",
       "muir            11.684817\n",
       "muiltiple       11.684817\n",
       "mulletheads     11.684817\n",
       "mult            11.684817\n",
       "multibillion    11.684817\n",
       "Name: weights, dtype: float64"
      ]
     },
     "execution_count": 67,
     "metadata": {},
     "output_type": "execute_result"
    }
   ],
   "source": [
    "#take a look at properties of weighted words\n",
    "from sklearn.feature_extraction.text import TfidfTransformer\n",
    "tf = TfidfTransformer(smooth_idf=True, use_idf=True)\n",
    "tf.fit(X_train_dtm)\n",
    "idf = pd.DataFrame(tf.idf_,index=vect.get_feature_names(),columns=['weights'])\n",
    "sort = idf.sort_values(by=['weights'],ascending=False)\n",
    "sort.weights[0:20]"
   ]
  },
  {
   "cell_type": "code",
   "execution_count": 68,
   "metadata": {},
   "outputs": [
    {
     "data": {
      "text/plain": [
       "<matplotlib.axes._subplots.AxesSubplot at 0x1a28efeba8>"
      ]
     },
     "execution_count": 68,
     "metadata": {},
     "output_type": "execute_result"
    },
    {
     "data": {
      "image/png": "[encoded data removed]",
      "text/plain": [
       "<Figure size 432x288 with 1 Axes>"
      ]
     },
     "metadata": {
      "needs_background": "light"
     },
     "output_type": "display_data"
    }
   ],
   "source": [
    "#plot weight distribution of words\n",
    "%matplotlib inline\n",
    "sort.plot()"
   ]
  },
  {
   "cell_type": "code",
   "execution_count": 69,
   "metadata": {},
   "outputs": [
    {
     "name": "stdout",
     "output_type": "stream",
     "text": [
      "CPU times: user 87.1 ms, sys: 24.6 ms, total: 112 ms\n",
      "Wall time: 118 ms\n"
     ]
    },
    {
     "data": {
      "text/plain": [
       "MultinomialNB(alpha=1.0, class_prior=None, fit_prior=True)"
      ]
     },
     "execution_count": 69,
     "metadata": {},
     "output_type": "execute_result"
    }
   ],
   "source": [
    "#since multinomial works well for wide data sets and word classification, instantiate mulitnomialNB classifier\n",
    "from sklearn.naive_bayes import MultinomialNB\n",
    "nb = MultinomialNB()\n",
    "\n",
    "# train the model using X_train_dtm (timing it with an IPython \"magic command\")\n",
    "%time nb.fit(X_train_dtm, y_train)"
   ]
  },
  {
   "cell_type": "code",
   "execution_count": 70,
   "metadata": {},
   "outputs": [
    {
     "data": {
      "text/plain": [
       "0.8980944206008584"
      ]
     },
     "execution_count": 70,
     "metadata": {},
     "output_type": "execute_result"
    }
   ],
   "source": [
    "# make class predictions for X_test_dtm\n",
    "y_pred_class = nb.predict(X_test_dtm)\n",
    "# calculate accuracy of class predictions\n",
    "from sklearn import metrics\n",
    "metrics.accuracy_score(y_test, y_pred_class)"
   ]
  },
  {
   "cell_type": "code",
   "execution_count": 71,
   "metadata": {},
   "outputs": [
    {
     "data": {
      "text/plain": [
       "array([[20005,  1494],\n",
       "       [ 1474,  6152]])"
      ]
     },
     "execution_count": 71,
     "metadata": {},
     "output_type": "execute_result"
    }
   ],
   "source": [
    "# print the confusion matrix \n",
    "metrics.confusion_matrix(y_test, y_pred_class)"
   ]
  },
  {
   "cell_type": "code",
   "execution_count": 72,
   "metadata": {},
   "outputs": [],
   "source": [
    "# print text for the false positives(negative_rating incorrectly classified as positive_rating) \n",
    "list2 = X_test[y_test < y_pred_class]"
   ]
  },
  {
   "cell_type": "code",
   "execution_count": 73,
   "metadata": {},
   "outputs": [
    {
     "data": {
      "text/plain": [
       "121674    fantastic seasonal brew one favorite brewery s...\n",
       "413456    pours brilliant absolutely crystalclear ruddy ...\n",
       "121008    apours dark amber color two finger white head ...\n",
       "431802    session disc golf last weekend unfortunately b...\n",
       "109799    service temperature degree service glass liter...\n",
       "451851    note describe complete disgust beer ive tasted...\n",
       "90851     one favorite pale ale beer smooth excellent sm...\n",
       "470492    poured tulip glass kind amber copper color min...\n",
       "207975    ontap beachwood bbq aged month gabe pours redd...\n",
       "66484     vielen danke beerloco sending beer along other...\n",
       "200053    tap jakes bar lincoln poured dark brown sporte...\n",
       "519751    presentation bottle poured imperial pint glass...\n",
       "367178    green apple hazy golden color plenty carbonati...\n",
       "123134    pours produce light tan head doesnt stick arou...\n",
       "312439    got samuel adam cream stout sampler sam adam p...\n",
       "34830     appearance pours almost pure black thin layer ...\n",
       "101917    purs dark straw withsome cloudiness thich head...\n",
       "472551    pours thick head keep good lacing glass thick ...\n",
       "Name: review_text, dtype: object"
      ]
     },
     "execution_count": 73,
     "metadata": {},
     "output_type": "execute_result"
    }
   ],
   "source": [
    "#take a look at 18 examples of the false positives\n",
    "list2[0:18]"
   ]
  },
  {
   "cell_type": "code",
   "execution_count": 74,
   "metadata": {},
   "outputs": [
    {
     "data": {
      "text/plain": [
       "2.5"
      ]
     },
     "execution_count": 74,
     "metadata": {},
     "output_type": "execute_result"
    }
   ],
   "source": [
    "#take a look at review_rating of a false positive text\n",
    "df.review_overall.iloc[472551]"
   ]
  },
  {
   "cell_type": "code",
   "execution_count": 75,
   "metadata": {},
   "outputs": [
    {
     "data": {
      "text/plain": [
       "'The looks are by far the best part of this beer. It poured a clear gold/amber with great white head and lacing. The smell is a little piney but mostly of malt. The taste fairly unimpressive for the style. A strange bitterness along with a good more than healthy amount of malt. I would suggest skipping this one.'"
      ]
     },
     "execution_count": 75,
     "metadata": {},
     "output_type": "execute_result"
    }
   ],
   "source": [
    "#take a look at why the ml model detrmined this text to be a false positive\n",
    "df.review_text.iloc[472551]"
   ]
  },
  {
   "cell_type": "markdown",
   "metadata": {},
   "source": [
    "## Looking at the false positive text, it's apparent that \"the looks are best part\" and \"good amount of malt\" was used to be sarcastic and sarcastic tones can confuse NLP ml models into thinking the text is positive when it's actually negative"
   ]
  },
  {
   "cell_type": "code",
   "execution_count": 76,
   "metadata": {},
   "outputs": [
    {
     "data": {
      "text/html": [
       "<div>\n",
       "<style scoped>\n",
       "    .dataframe tbody tr th:only-of-type {\n",
       "        vertical-align: middle;\n",
       "    }\n",
       "\n",
       "    .dataframe tbody tr th {\n",
       "        vertical-align: top;\n",
       "    }\n",
       "\n",
       "    .dataframe thead th {\n",
       "        text-align: right;\n",
       "    }\n",
       "</style>\n",
       "<table border=\"1\" class=\"dataframe\">\n",
       "  <thead>\n",
       "    <tr style=\"text-align: right;\">\n",
       "      <th></th>\n",
       "      <th>rating</th>\n",
       "      <th>beer_style</th>\n",
       "      <th>review_overall</th>\n",
       "      <th>review_text</th>\n",
       "      <th>written</th>\n",
       "    </tr>\n",
       "  </thead>\n",
       "  <tbody>\n",
       "    <tr>\n",
       "      <th>372828</th>\n",
       "      <td>1</td>\n",
       "      <td>Tripel</td>\n",
       "      <td>5.0</td>\n",
       "      <td>presentation la fin du monde translates end wo...</td>\n",
       "      <td>NaN</td>\n",
       "    </tr>\n",
       "    <tr>\n",
       "      <th>374478</th>\n",
       "      <td>1</td>\n",
       "      <td>Belgian Strong Dark Ale</td>\n",
       "      <td>5.0</td>\n",
       "      <td>presentation maudite translates cursed lost so...</td>\n",
       "      <td>NaN</td>\n",
       "    </tr>\n",
       "    <tr>\n",
       "      <th>177290</th>\n",
       "      <td>0</td>\n",
       "      <td>English India Pale Ale (IPA)</td>\n",
       "      <td>3.0</td>\n",
       "      <td>presentation oz short bottle bert grant neck p...</td>\n",
       "      <td>NaN</td>\n",
       "    </tr>\n",
       "    <tr>\n",
       "      <th>16052</th>\n",
       "      <td>1</td>\n",
       "      <td>American IPA</td>\n",
       "      <td>5.0</td>\n",
       "      <td>presentation tap appearance tawny reddish brow...</td>\n",
       "      <td>NaN</td>\n",
       "    </tr>\n",
       "    <tr>\n",
       "      <th>385803</th>\n",
       "      <td>0</td>\n",
       "      <td>Belgian Pale Ale</td>\n",
       "      <td>3.0</td>\n",
       "      <td>presentation pint oz brown belgian magnum cork...</td>\n",
       "      <td>NaN</td>\n",
       "    </tr>\n",
       "  </tbody>\n",
       "</table>\n",
       "</div>"
      ],
      "text/plain": [
       "        rating                    beer_style  review_overall  \\\n",
       "372828       1                        Tripel             5.0   \n",
       "374478       1       Belgian Strong Dark Ale             5.0   \n",
       "177290       0  English India Pale Ale (IPA)             3.0   \n",
       "16052        1                  American IPA             5.0   \n",
       "385803       0              Belgian Pale Ale             3.0   \n",
       "\n",
       "                                              review_text written  \n",
       "372828  presentation la fin du monde translates end wo...     NaN  \n",
       "374478  presentation maudite translates cursed lost so...     NaN  \n",
       "177290  presentation oz short bottle bert grant neck p...     NaN  \n",
       "16052   presentation tap appearance tawny reddish brow...     NaN  \n",
       "385803  presentation pint oz brown belgian magnum cork...     NaN  "
      ]
     },
     "execution_count": 76,
     "metadata": {},
     "output_type": "execute_result"
    }
   ],
   "source": [
    "#add list to data frame under column name rating\n",
    "data['written'] = list2\n",
    "data.head()"
   ]
  },
  {
   "cell_type": "code",
   "execution_count": 77,
   "metadata": {},
   "outputs": [
    {
     "data": {
      "text/html": [
       "<div>\n",
       "<style scoped>\n",
       "    .dataframe tbody tr th:only-of-type {\n",
       "        vertical-align: middle;\n",
       "    }\n",
       "\n",
       "    .dataframe tbody tr th {\n",
       "        vertical-align: top;\n",
       "    }\n",
       "\n",
       "    .dataframe thead th {\n",
       "        text-align: right;\n",
       "    }\n",
       "</style>\n",
       "<table border=\"1\" class=\"dataframe\">\n",
       "  <thead>\n",
       "    <tr style=\"text-align: right;\">\n",
       "      <th></th>\n",
       "      <th>rating</th>\n",
       "      <th>beer_style</th>\n",
       "      <th>review_overall</th>\n",
       "      <th>review_text</th>\n",
       "      <th>written</th>\n",
       "    </tr>\n",
       "  </thead>\n",
       "  <tbody>\n",
       "    <tr>\n",
       "      <th>520671</th>\n",
       "      <td>0</td>\n",
       "      <td>English Porter</td>\n",
       "      <td>3.0</td>\n",
       "      <td>know considered one touchstone porter judged m...</td>\n",
       "      <td>know considered one touchstone porter judged m...</td>\n",
       "    </tr>\n",
       "    <tr>\n",
       "      <th>10986</th>\n",
       "      <td>0</td>\n",
       "      <td>American Pale Ale (APA)</td>\n",
       "      <td>3.0</td>\n",
       "      <td>great summer brew lighter body touch sweet nic...</td>\n",
       "      <td>great summer brew lighter body touch sweet nic...</td>\n",
       "    </tr>\n",
       "    <tr>\n",
       "      <th>489464</th>\n",
       "      <td>0</td>\n",
       "      <td>American Porter</td>\n",
       "      <td>3.0</td>\n",
       "      <td>guess im concensus yes nice chocalateroasted c...</td>\n",
       "      <td>guess im concensus yes nice chocalateroasted c...</td>\n",
       "    </tr>\n",
       "    <tr>\n",
       "      <th>294265</th>\n",
       "      <td>0</td>\n",
       "      <td>Winter Warmer</td>\n",
       "      <td>3.0</td>\n",
       "      <td>first time fan grew course last time christmas...</td>\n",
       "      <td>first time fan grew course last time christmas...</td>\n",
       "    </tr>\n",
       "    <tr>\n",
       "      <th>430050</th>\n",
       "      <td>0</td>\n",
       "      <td>American IPA</td>\n",
       "      <td>3.0</td>\n",
       "      <td>holy hophead batmangrapfruit rind smellmoderat...</td>\n",
       "      <td>holy hophead batmangrapfruit rind smellmoderat...</td>\n",
       "    </tr>\n",
       "  </tbody>\n",
       "</table>\n",
       "</div>"
      ],
      "text/plain": [
       "        rating               beer_style  review_overall  \\\n",
       "520671       0           English Porter             3.0   \n",
       "10986        0  American Pale Ale (APA)             3.0   \n",
       "489464       0          American Porter             3.0   \n",
       "294265       0            Winter Warmer             3.0   \n",
       "430050       0             American IPA             3.0   \n",
       "\n",
       "                                              review_text  \\\n",
       "520671  know considered one touchstone porter judged m...   \n",
       "10986   great summer brew lighter body touch sweet nic...   \n",
       "489464  guess im concensus yes nice chocalateroasted c...   \n",
       "294265  first time fan grew course last time christmas...   \n",
       "430050  holy hophead batmangrapfruit rind smellmoderat...   \n",
       "\n",
       "                                                  written  \n",
       "520671  know considered one touchstone porter judged m...  \n",
       "10986   great summer brew lighter body touch sweet nic...  \n",
       "489464  guess im concensus yes nice chocalateroasted c...  \n",
       "294265  first time fan grew course last time christmas...  \n",
       "430050  holy hophead batmangrapfruit rind smellmoderat...  "
      ]
     },
     "execution_count": 77,
     "metadata": {},
     "output_type": "execute_result"
    }
   ],
   "source": [
    "#drop missing values\n",
    "data.dropna(inplace=True)\n",
    "data.head()"
   ]
  },
  {
   "cell_type": "code",
   "execution_count": 80,
   "metadata": {},
   "outputs": [
    {
     "data": {
      "text/plain": [
       "array(['English Porter', 'Russian Imperial Stout',\n",
       "       'American Pale Ale (APA)', 'American Double / Imperial Stout',\n",
       "       'American Double / Imperial IPA', 'American Stout',\n",
       "       'American Amber / Red Ale', 'American IPA', 'Quadrupel (Quad)',\n",
       "       'Rauchbier', 'English Pale Ale'], dtype=object)"
      ]
     },
     "execution_count": 80,
     "metadata": {},
     "output_type": "execute_result"
    }
   ],
   "source": [
    "#sort unique values to in order to choose top ten beers by beer style\n",
    "data.sort_values( by = ['review_overall'], ascending = False ).head(15) \\\n",
    "    [ 'beer_style' ].unique()"
   ]
  },
  {
   "cell_type": "code",
   "execution_count": 81,
   "metadata": {},
   "outputs": [
    {
     "data": {
      "text/plain": [
       "array(['Czech Pilsener', 'Pumpkin Ale', 'Euro Dark Lager',\n",
       "       'American Double / Imperial IPA', 'Quadrupel (Quad)',\n",
       "       'Saison / Farmhouse Ale', 'American Double / Imperial Stout',\n",
       "       'American Porter', 'Märzen / Oktoberfest', 'American IPA',\n",
       "       'English Porter', 'Lambic - Fruit', 'Russian Imperial Stout',\n",
       "       'Irish Dry Stout'], dtype=object)"
      ]
     },
     "execution_count": 81,
     "metadata": {},
     "output_type": "execute_result"
    }
   ],
   "source": [
    "#sort unique values to in order to choose top ten beers by beer style\n",
    "df_top_ratings.sort_values( by = ['review_overall'], ascending = False ).head(15) \\\n",
    "    [ 'beer_style' ].unique()"
   ]
  },
  {
   "cell_type": "markdown",
   "metadata": {},
   "source": [
    "## So American Double/Imperial IPA , American Double/Imperial Stout, American IPA and Quad are the same best beer_styles in both reviews_overall and review_texts.  Even though there were false positives in the text analysis, the NLP model accuracy was high at 90% and the false positives were low at 1494 out of 29,125 (~5%).  Therefore, both review_texts and reviews_overall were fairly equivalent predictors of beer_style."
   ]
  },
  {
   "cell_type": "code",
   "execution_count": null,
   "metadata": {},
   "outputs": [],
   "source": []
  }
 ],
 "metadata": {
  "kernelspec": {
   "display_name": "Python 3",
   "language": "python",
   "name": "python3"
  },
  "language_info": {
   "codemirror_mode": {
    "name": "ipython",
    "version": 3
   },
   "file_extension": ".py",
   "mimetype": "text/x-python",
   "name": "python",
   "nbconvert_exporter": "python",
   "pygments_lexer": "ipython3",
   "version": "3.7.3"
  }
 },
 "nbformat": 4,
 "nbformat_minor": 2
}
